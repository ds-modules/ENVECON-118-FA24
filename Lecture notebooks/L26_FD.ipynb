{
 "cells": [
  {
   "cell_type": "code",
   "execution_count": 1,
   "metadata": {},
   "outputs": [
    {
     "name": "stderr",
     "output_type": "stream",
     "text": [
      "── \u001b[1mAttaching packages\u001b[22m ─────────────────────────────────────── tidyverse 1.3.0 ──\n",
      "\n",
      "\u001b[32m✔\u001b[39m \u001b[34mggplot2\u001b[39m 3.3.5     \u001b[32m✔\u001b[39m \u001b[34mpurrr  \u001b[39m 0.3.4\n",
      "\u001b[32m✔\u001b[39m \u001b[34mtibble \u001b[39m 3.1.5     \u001b[32m✔\u001b[39m \u001b[34mdplyr  \u001b[39m 1.0.7\n",
      "\u001b[32m✔\u001b[39m \u001b[34mtidyr  \u001b[39m 1.1.4     \u001b[32m✔\u001b[39m \u001b[34mstringr\u001b[39m 1.4.0\n",
      "\u001b[32m✔\u001b[39m \u001b[34mreadr  \u001b[39m 2.0.2     \u001b[32m✔\u001b[39m \u001b[34mforcats\u001b[39m 0.5.1\n",
      "\n",
      "── \u001b[1mConflicts\u001b[22m ────────────────────────────────────────── tidyverse_conflicts() ──\n",
      "\u001b[31m✖\u001b[39m \u001b[34mdplyr\u001b[39m::\u001b[32mfilter()\u001b[39m masks \u001b[34mstats\u001b[39m::filter()\n",
      "\u001b[31m✖\u001b[39m \u001b[34mdplyr\u001b[39m::\u001b[32mlag()\u001b[39m    masks \u001b[34mstats\u001b[39m::lag()\n",
      "\n"
     ]
    },
    {
     "data": {
      "text/html": [
       "<table class=\"dataframe\">\n",
       "<caption>A tibble: 6 × 9</caption>\n",
       "<thead>\n",
       "\t<tr><th scope=col>pop</th><th scope=col>crimes</th><th scope=col>unem</th><th scope=col>officers</th><th scope=col>west</th><th scope=col>nrtheast</th><th scope=col>south</th><th scope=col>year</th><th scope=col>city</th></tr>\n",
       "\t<tr><th scope=col>&lt;dbl&gt;</th><th scope=col>&lt;dbl&gt;</th><th scope=col>&lt;dbl&gt;</th><th scope=col>&lt;dbl&gt;</th><th scope=col>&lt;dbl&gt;</th><th scope=col>&lt;dbl&gt;</th><th scope=col>&lt;dbl&gt;</th><th scope=col>&lt;dbl&gt;</th><th scope=col>&lt;dbl&gt;</th></tr>\n",
       "</thead>\n",
       "<tbody>\n",
       "\t<tr><td>229528</td><td>17136</td><td>8.2</td><td> 326</td><td>1</td><td>0</td><td>0</td><td>82</td><td>1</td></tr>\n",
       "\t<tr><td>246815</td><td>17306</td><td>3.7</td><td> 321</td><td>1</td><td>0</td><td>0</td><td>87</td><td>1</td></tr>\n",
       "\t<tr><td>814054</td><td>75654</td><td>8.1</td><td>1621</td><td>1</td><td>0</td><td>0</td><td>82</td><td>2</td></tr>\n",
       "\t<tr><td>933177</td><td>83960</td><td>5.4</td><td>1803</td><td>1</td><td>0</td><td>0</td><td>87</td><td>2</td></tr>\n",
       "\t<tr><td>374974</td><td>31352</td><td>9.0</td><td> 633</td><td>1</td><td>0</td><td>0</td><td>82</td><td>3</td></tr>\n",
       "\t<tr><td>406297</td><td>31364</td><td>5.9</td><td> 685</td><td>1</td><td>0</td><td>0</td><td>87</td><td>3</td></tr>\n",
       "</tbody>\n",
       "</table>\n"
      ],
      "text/latex": [
       "A tibble: 6 × 9\n",
       "\\begin{tabular}{lllllllll}\n",
       " pop & crimes & unem & officers & west & nrtheast & south & year & city\\\\\n",
       " <dbl> & <dbl> & <dbl> & <dbl> & <dbl> & <dbl> & <dbl> & <dbl> & <dbl>\\\\\n",
       "\\hline\n",
       "\t 229528 & 17136 & 8.2 &  326 & 1 & 0 & 0 & 82 & 1\\\\\n",
       "\t 246815 & 17306 & 3.7 &  321 & 1 & 0 & 0 & 87 & 1\\\\\n",
       "\t 814054 & 75654 & 8.1 & 1621 & 1 & 0 & 0 & 82 & 2\\\\\n",
       "\t 933177 & 83960 & 5.4 & 1803 & 1 & 0 & 0 & 87 & 2\\\\\n",
       "\t 374974 & 31352 & 9.0 &  633 & 1 & 0 & 0 & 82 & 3\\\\\n",
       "\t 406297 & 31364 & 5.9 &  685 & 1 & 0 & 0 & 87 & 3\\\\\n",
       "\\end{tabular}\n"
      ],
      "text/markdown": [
       "\n",
       "A tibble: 6 × 9\n",
       "\n",
       "| pop &lt;dbl&gt; | crimes &lt;dbl&gt; | unem &lt;dbl&gt; | officers &lt;dbl&gt; | west &lt;dbl&gt; | nrtheast &lt;dbl&gt; | south &lt;dbl&gt; | year &lt;dbl&gt; | city &lt;dbl&gt; |\n",
       "|---|---|---|---|---|---|---|---|---|\n",
       "| 229528 | 17136 | 8.2 |  326 | 1 | 0 | 0 | 82 | 1 |\n",
       "| 246815 | 17306 | 3.7 |  321 | 1 | 0 | 0 | 87 | 1 |\n",
       "| 814054 | 75654 | 8.1 | 1621 | 1 | 0 | 0 | 82 | 2 |\n",
       "| 933177 | 83960 | 5.4 | 1803 | 1 | 0 | 0 | 87 | 2 |\n",
       "| 374974 | 31352 | 9.0 |  633 | 1 | 0 | 0 | 82 | 3 |\n",
       "| 406297 | 31364 | 5.9 |  685 | 1 | 0 | 0 | 87 | 3 |\n",
       "\n"
      ],
      "text/plain": [
       "  pop    crimes unem officers west nrtheast south year city\n",
       "1 229528 17136  8.2   326     1    0        0     82   1   \n",
       "2 246815 17306  3.7   321     1    0        0     87   1   \n",
       "3 814054 75654  8.1  1621     1    0        0     82   2   \n",
       "4 933177 83960  5.4  1803     1    0        0     87   2   \n",
       "5 374974 31352  9.0   633     1    0        0     82   3   \n",
       "6 406297 31364  5.9   685     1    0        0     87   3   "
      ]
     },
     "metadata": {},
     "output_type": "display_data"
    }
   ],
   "source": [
    "library(haven)\n",
    "library(tidyverse)\n",
    "crimedata<- read_dta(\"crime2_forlecture.dta\")\n",
    "head(crimedata)"
   ]
  },
  {
   "cell_type": "code",
   "execution_count": 2,
   "metadata": {},
   "outputs": [
    {
     "data": {
      "text/plain": [
       "\n",
       "Call:\n",
       "lm(formula = crimes ~ unem, data = crimedata, subset = year == \n",
       "    82)\n",
       "\n",
       "Residuals:\n",
       "   Min     1Q Median     3Q    Max \n",
       "-42230 -16949  -7950  11062  94999 \n",
       "\n",
       "Coefficients:\n",
       "            Estimate Std. Error t value Pr(>|t|)\n",
       "(Intercept)    18653      12466   1.496    0.142\n",
       "unem            1936       1174   1.649    0.106\n",
       "\n",
       "Residual standard error: 27150 on 44 degrees of freedom\n",
       "Multiple R-squared:  0.05821,\tAdjusted R-squared:  0.03681 \n",
       "F-statistic:  2.72 on 1 and 44 DF,  p-value: 0.1062\n"
      ]
     },
     "metadata": {},
     "output_type": "display_data"
    },
    {
     "data": {
      "text/html": [
       "39663.5326086957"
      ],
      "text/latex": [
       "39663.5326086957"
      ],
      "text/markdown": [
       "39663.5326086957"
      ],
      "text/plain": [
       "[1] 39663.53"
      ]
     },
     "metadata": {},
     "output_type": "display_data"
    }
   ],
   "source": [
    "reg1<- lm(crimes~unem, data = crimedata, subset = year==82)\n",
    "summary(reg1)\n",
    "mean(crimedata$crimes)"
   ]
  },
  {
   "cell_type": "code",
   "execution_count": 3,
   "metadata": {},
   "outputs": [
    {
     "data": {
      "text/html": [
       "<table class=\"dataframe\">\n",
       "<caption>A data.frame: 6 × 17</caption>\n",
       "<thead>\n",
       "\t<tr><th></th><th scope=col>city</th><th scope=col>pop.82</th><th scope=col>crimes.82</th><th scope=col>unem.82</th><th scope=col>officers.82</th><th scope=col>west.82</th><th scope=col>nrtheast.82</th><th scope=col>south.82</th><th scope=col>year.82</th><th scope=col>pop.87</th><th scope=col>crimes.87</th><th scope=col>unem.87</th><th scope=col>officers.87</th><th scope=col>west.87</th><th scope=col>nrtheast.87</th><th scope=col>south.87</th><th scope=col>year.87</th></tr>\n",
       "\t<tr><th></th><th scope=col>&lt;dbl&gt;</th><th scope=col>&lt;dbl&gt;</th><th scope=col>&lt;dbl&gt;</th><th scope=col>&lt;dbl&gt;</th><th scope=col>&lt;dbl&gt;</th><th scope=col>&lt;dbl&gt;</th><th scope=col>&lt;dbl&gt;</th><th scope=col>&lt;dbl&gt;</th><th scope=col>&lt;dbl&gt;</th><th scope=col>&lt;dbl&gt;</th><th scope=col>&lt;dbl&gt;</th><th scope=col>&lt;dbl&gt;</th><th scope=col>&lt;dbl&gt;</th><th scope=col>&lt;dbl&gt;</th><th scope=col>&lt;dbl&gt;</th><th scope=col>&lt;dbl&gt;</th><th scope=col>&lt;dbl&gt;</th></tr>\n",
       "</thead>\n",
       "<tbody>\n",
       "\t<tr><th scope=row>1</th><td>1</td><td>229528</td><td>17136</td><td> 8.2</td><td> 326</td><td>1</td><td>0</td><td>0</td><td>82</td><td>246815</td><td>17306</td><td>3.7</td><td> 321</td><td>1</td><td>0</td><td>0</td><td>87</td></tr>\n",
       "\t<tr><th scope=row>2</th><td>2</td><td>814054</td><td>75654</td><td> 8.1</td><td>1621</td><td>1</td><td>0</td><td>0</td><td>82</td><td>933177</td><td>83960</td><td>5.4</td><td>1803</td><td>1</td><td>0</td><td>0</td><td>87</td></tr>\n",
       "\t<tr><th scope=row>3</th><td>3</td><td>374974</td><td>31352</td><td> 9.0</td><td> 633</td><td>1</td><td>0</td><td>0</td><td>82</td><td>406297</td><td>31364</td><td>5.9</td><td> 685</td><td>1</td><td>0</td><td>0</td><td>87</td></tr>\n",
       "\t<tr><th scope=row>4</th><td>4</td><td>176496</td><td>15698</td><td>12.6</td><td> 245</td><td>1</td><td>0</td><td>0</td><td>82</td><td>201723</td><td>16953</td><td>5.7</td><td> 259</td><td>1</td><td>0</td><td>0</td><td>87</td></tr>\n",
       "\t<tr><th scope=row>5</th><td>5</td><td>288446</td><td>31202</td><td>12.6</td><td> 504</td><td>1</td><td>0</td><td>0</td><td>82</td><td>331728</td><td>34355</td><td>7.4</td><td> 563</td><td>1</td><td>0</td><td>0</td><td>87</td></tr>\n",
       "\t<tr><th scope=row>6</th><td>6</td><td>122768</td><td>16806</td><td>13.9</td><td> 186</td><td>1</td><td>0</td><td>0</td><td>82</td><td>142124</td><td>15931</td><td>5.7</td><td> 232</td><td>1</td><td>0</td><td>0</td><td>87</td></tr>\n",
       "</tbody>\n",
       "</table>\n"
      ],
      "text/latex": [
       "A data.frame: 6 × 17\n",
       "\\begin{tabular}{r|lllllllllllllllll}\n",
       "  & city & pop.82 & crimes.82 & unem.82 & officers.82 & west.82 & nrtheast.82 & south.82 & year.82 & pop.87 & crimes.87 & unem.87 & officers.87 & west.87 & nrtheast.87 & south.87 & year.87\\\\\n",
       "  & <dbl> & <dbl> & <dbl> & <dbl> & <dbl> & <dbl> & <dbl> & <dbl> & <dbl> & <dbl> & <dbl> & <dbl> & <dbl> & <dbl> & <dbl> & <dbl> & <dbl>\\\\\n",
       "\\hline\n",
       "\t1 & 1 & 229528 & 17136 &  8.2 &  326 & 1 & 0 & 0 & 82 & 246815 & 17306 & 3.7 &  321 & 1 & 0 & 0 & 87\\\\\n",
       "\t2 & 2 & 814054 & 75654 &  8.1 & 1621 & 1 & 0 & 0 & 82 & 933177 & 83960 & 5.4 & 1803 & 1 & 0 & 0 & 87\\\\\n",
       "\t3 & 3 & 374974 & 31352 &  9.0 &  633 & 1 & 0 & 0 & 82 & 406297 & 31364 & 5.9 &  685 & 1 & 0 & 0 & 87\\\\\n",
       "\t4 & 4 & 176496 & 15698 & 12.6 &  245 & 1 & 0 & 0 & 82 & 201723 & 16953 & 5.7 &  259 & 1 & 0 & 0 & 87\\\\\n",
       "\t5 & 5 & 288446 & 31202 & 12.6 &  504 & 1 & 0 & 0 & 82 & 331728 & 34355 & 7.4 &  563 & 1 & 0 & 0 & 87\\\\\n",
       "\t6 & 6 & 122768 & 16806 & 13.9 &  186 & 1 & 0 & 0 & 82 & 142124 & 15931 & 5.7 &  232 & 1 & 0 & 0 & 87\\\\\n",
       "\\end{tabular}\n"
      ],
      "text/markdown": [
       "\n",
       "A data.frame: 6 × 17\n",
       "\n",
       "| <!--/--> | city &lt;dbl&gt; | pop.82 &lt;dbl&gt; | crimes.82 &lt;dbl&gt; | unem.82 &lt;dbl&gt; | officers.82 &lt;dbl&gt; | west.82 &lt;dbl&gt; | nrtheast.82 &lt;dbl&gt; | south.82 &lt;dbl&gt; | year.82 &lt;dbl&gt; | pop.87 &lt;dbl&gt; | crimes.87 &lt;dbl&gt; | unem.87 &lt;dbl&gt; | officers.87 &lt;dbl&gt; | west.87 &lt;dbl&gt; | nrtheast.87 &lt;dbl&gt; | south.87 &lt;dbl&gt; | year.87 &lt;dbl&gt; |\n",
       "|---|---|---|---|---|---|---|---|---|---|---|---|---|---|---|---|---|---|\n",
       "| 1 | 1 | 229528 | 17136 |  8.2 |  326 | 1 | 0 | 0 | 82 | 246815 | 17306 | 3.7 |  321 | 1 | 0 | 0 | 87 |\n",
       "| 2 | 2 | 814054 | 75654 |  8.1 | 1621 | 1 | 0 | 0 | 82 | 933177 | 83960 | 5.4 | 1803 | 1 | 0 | 0 | 87 |\n",
       "| 3 | 3 | 374974 | 31352 |  9.0 |  633 | 1 | 0 | 0 | 82 | 406297 | 31364 | 5.9 |  685 | 1 | 0 | 0 | 87 |\n",
       "| 4 | 4 | 176496 | 15698 | 12.6 |  245 | 1 | 0 | 0 | 82 | 201723 | 16953 | 5.7 |  259 | 1 | 0 | 0 | 87 |\n",
       "| 5 | 5 | 288446 | 31202 | 12.6 |  504 | 1 | 0 | 0 | 82 | 331728 | 34355 | 7.4 |  563 | 1 | 0 | 0 | 87 |\n",
       "| 6 | 6 | 122768 | 16806 | 13.9 |  186 | 1 | 0 | 0 | 82 | 142124 | 15931 | 5.7 |  232 | 1 | 0 | 0 | 87 |\n",
       "\n"
      ],
      "text/plain": [
       "  city pop.82 crimes.82 unem.82 officers.82 west.82 nrtheast.82 south.82\n",
       "1 1    229528 17136      8.2     326        1       0           0       \n",
       "2 2    814054 75654      8.1    1621        1       0           0       \n",
       "3 3    374974 31352      9.0     633        1       0           0       \n",
       "4 4    176496 15698     12.6     245        1       0           0       \n",
       "5 5    288446 31202     12.6     504        1       0           0       \n",
       "6 6    122768 16806     13.9     186        1       0           0       \n",
       "  year.82 pop.87 crimes.87 unem.87 officers.87 west.87 nrtheast.87 south.87\n",
       "1 82      246815 17306     3.7      321        1       0           0       \n",
       "2 82      933177 83960     5.4     1803        1       0           0       \n",
       "3 82      406297 31364     5.9      685        1       0           0       \n",
       "4 82      201723 16953     5.7      259        1       0           0       \n",
       "5 82      331728 34355     7.4      563        1       0           0       \n",
       "6 82      142124 15931     5.7      232        1       0           0       \n",
       "  year.87\n",
       "1 87     \n",
       "2 87     \n",
       "3 87     \n",
       "4 87     \n",
       "5 87     \n",
       "6 87     "
      ]
     },
     "metadata": {},
     "output_type": "display_data"
    }
   ],
   "source": [
    "#one way to create a wide dataset: first, create 2 data sets, one for each year\n",
    "crimedata82 = subset(crimedata, year == 82)\n",
    "crimedata87 = subset(crimedata, year == 87)\n",
    "#merge data on city id\n",
    "crimedatawide = merge(crimedata82, crimedata87, by = c(\"city\"), suffixes = c(\".82\",\".87\"))\n",
    "head(crimedatawide)"
   ]
  },
  {
   "cell_type": "code",
   "execution_count": 4,
   "metadata": {},
   "outputs": [
    {
     "data": {
      "text/plain": [
       "\n",
       "Call:\n",
       "lm(formula = dcrime ~ dunem, data = crimedatawide)\n",
       "\n",
       "Residuals:\n",
       "   Min     1Q Median     3Q    Max \n",
       "-20069  -6075   -512   4213  39436 \n",
       "\n",
       "Coefficients:\n",
       "            Estimate Std. Error t value Pr(>|t|)   \n",
       "(Intercept)   8279.0     2440.5   3.392  0.00148 **\n",
       "dunem         1247.8      455.6   2.739  0.00887 **\n",
       "---\n",
       "Signif. codes:  0 ‘***’ 0.001 ‘**’ 0.01 ‘*’ 0.05 ‘.’ 0.1 ‘ ’ 1\n",
       "\n",
       "Residual standard error: 10410 on 44 degrees of freedom\n",
       "Multiple R-squared:  0.1456,\tAdjusted R-squared:  0.1262 \n",
       "F-statistic:   7.5 on 1 and 44 DF,  p-value: 0.008873\n"
      ]
     },
     "metadata": {},
     "output_type": "display_data"
    }
   ],
   "source": [
    "#generate new variables\n",
    "crimedatawide$dcrime<-crimedatawide$crimes.87-crimedatawide$crimes.82\n",
    "crimedatawide$dunem<-crimedatawide$unem.87-crimedatawide$unem.82\n",
    "\n",
    "#run differenced regression\n",
    "reg2<-lm(dcrime~dunem, data = crimedatawide)\n",
    "summary(reg2)"
   ]
  },
  {
   "cell_type": "code",
   "execution_count": 5,
   "metadata": {},
   "outputs": [
    {
     "data": {
      "text/plain": [
       "\n",
       "Call:\n",
       "lm(formula = crimes ~ unem + city + y87, data = crimedata)\n",
       "\n",
       "Residuals:\n",
       "   Min     1Q Median     3Q    Max \n",
       "-19718  -2677      0   2677  19718 \n",
       "\n",
       "Coefficients:\n",
       "            Estimate Std. Error t value Pr(>|t|)    \n",
       "(Intercept)   5657.0     6407.8   0.883 0.382126    \n",
       "unem          1247.8      455.6   2.739 0.008873 ** \n",
       "city2        61587.7     7367.8   8.359 1.24e-10 ***\n",
       "city3        12265.3     7390.4   1.660 0.104104    \n",
       "city4        -4888.5     7501.8  -0.652 0.518019    \n",
       "city5        10503.8     7586.6   1.385 0.173181    \n",
       "city6        -5656.6     7565.0  -0.748 0.458596    \n",
       "city7        57918.0     7386.4   7.841 6.83e-10 ***\n",
       "city8        45079.7     7367.8   6.118 2.26e-07 ***\n",
       "city9        25743.1     7371.5   3.492 0.001103 ** \n",
       "city10        2278.7     7363.0   0.309 0.758419    \n",
       "city11      -12317.7     7363.8  -1.673 0.101478    \n",
       "city12       34545.9     7364.7   4.691 2.66e-05 ***\n",
       "city13        6211.6     7359.3   0.844 0.403214    \n",
       "city14       -9050.0     7359.7  -1.230 0.225351    \n",
       "city15       -3878.8     7359.1  -0.527 0.600786    \n",
       "city16       34756.8     7493.1   4.638 3.15e-05 ***\n",
       "city17       -6882.7     7372.9  -0.934 0.355649    \n",
       "city18        5061.8     7363.8   0.687 0.495447    \n",
       "city19       25409.8     7374.3   3.446 0.001264 ** \n",
       "city20       43458.7     7372.9   5.894 4.82e-07 ***\n",
       "city21       12456.0     7433.0   1.676 0.100877    \n",
       "city22         371.1     7468.5   0.050 0.960596    \n",
       "city23       28216.9     7565.0   3.730 0.000545 ***\n",
       "city24      117983.8     8294.6  14.224  < 2e-16 ***\n",
       "city25       24336.1     7359.3   3.307 0.001885 ** \n",
       "city26        5727.9     7358.8   0.778 0.440516    \n",
       "city27       29111.4     7429.8   3.918 0.000308 ***\n",
       "city28       16028.6     7575.7   2.116 0.040057 *  \n",
       "city29        1677.8     7907.1   0.212 0.832937    \n",
       "city30      -19196.8     7752.0  -2.476 0.017190 *  \n",
       "city31        5724.1     7397.1   0.774 0.443168    \n",
       "city32        8727.3     7539.4   1.158 0.253285    \n",
       "city33       26020.1     7781.1   3.344 0.001695 ** \n",
       "city34       31583.2     7388.4   4.275 0.000101 ***\n",
       "city35       -1380.1     7703.3  -0.179 0.858637    \n",
       "city36       30404.1     7361.0   4.130 0.000159 ***\n",
       "city37       36917.5     7406.9   4.984 1.02e-05 ***\n",
       "city38        9410.0     7484.6   1.257 0.215298    \n",
       "city39       -2122.4     7397.1  -0.287 0.775517    \n",
       "city40       37228.5     7621.0   4.885 1.41e-05 ***\n",
       "city41      122188.3     7363.8  16.593  < 2e-16 ***\n",
       "city42       43065.6     7397.1   5.822 6.16e-07 ***\n",
       "city43         988.4     7384.4   0.134 0.894128    \n",
       "city44        2760.0     7365.7   0.375 0.709673    \n",
       "city45        -538.6     7358.8  -0.073 0.941985    \n",
       "city46       26473.7     7534.4   3.514 0.001036 ** \n",
       "y87TRUE       8279.0     2440.5   3.392 0.001475 ** \n",
       "---\n",
       "Signif. codes:  0 ‘***’ 0.001 ‘**’ 0.01 ‘*’ 0.05 ‘.’ 0.1 ‘ ’ 1\n",
       "\n",
       "Residual standard error: 7359 on 44 degrees of freedom\n",
       "Multiple R-squared:  0.9703,\tAdjusted R-squared:  0.9386 \n",
       "F-statistic: 30.59 on 47 and 44 DF,  p-value: < 2.2e-16\n"
      ]
     },
     "metadata": {},
     "output_type": "display_data"
    }
   ],
   "source": [
    "crimedata$city<-as.factor(crimedata$city)\n",
    "crimedata$y87<-crimedata$year==87\n",
    "#run regression with city dummies\n",
    "reg3<-lm(crimes~unem + city + y87 , data = crimedata)\n",
    "summary(reg3)"
   ]
  },
  {
   "cell_type": "code",
   "execution_count": 2,
   "metadata": {},
   "outputs": [
    {
     "data": {
      "text/html": [
       "<table class=\"dataframe\">\n",
       "<caption>A tibble: 6 × 13</caption>\n",
       "<thead>\n",
       "\t<tr><th scope=col>state</th><th scope=col>admn90</th><th scope=col>admn85</th><th scope=col>open90</th><th scope=col>open85</th><th scope=col>dthrte90</th><th scope=col>dthrte85</th><th scope=col>speed90</th><th scope=col>speed85</th><th scope=col>cdthrte</th><th scope=col>cadmn</th><th scope=col>copen</th><th scope=col>cspeed</th></tr>\n",
       "\t<tr><th scope=col>&lt;chr&gt;</th><th scope=col>&lt;dbl&gt;</th><th scope=col>&lt;dbl&gt;</th><th scope=col>&lt;dbl&gt;</th><th scope=col>&lt;dbl&gt;</th><th scope=col>&lt;dbl&gt;</th><th scope=col>&lt;dbl&gt;</th><th scope=col>&lt;dbl&gt;</th><th scope=col>&lt;dbl&gt;</th><th scope=col>&lt;dbl&gt;</th><th scope=col>&lt;dbl&gt;</th><th scope=col>&lt;dbl&gt;</th><th scope=col>&lt;dbl&gt;</th></tr>\n",
       "</thead>\n",
       "<tbody>\n",
       "\t<tr><td>AL</td><td>0</td><td>0</td><td>0</td><td>0</td><td>2.6</td><td>2.9</td><td>1</td><td>0</td><td>-0.3000002</td><td>0</td><td>0</td><td>1</td></tr>\n",
       "\t<tr><td>AK</td><td>1</td><td>1</td><td>1</td><td>0</td><td>2.1</td><td>3.2</td><td>0</td><td>0</td><td>-1.1000001</td><td>0</td><td>1</td><td>0</td></tr>\n",
       "\t<tr><td>AZ</td><td>1</td><td>0</td><td>0</td><td>0</td><td>2.5</td><td>4.4</td><td>1</td><td>0</td><td>-1.9000001</td><td>1</td><td>0</td><td>1</td></tr>\n",
       "\t<tr><td>AR</td><td>0</td><td>0</td><td>0</td><td>0</td><td>2.9</td><td>3.4</td><td>1</td><td>0</td><td>-0.5000000</td><td>0</td><td>0</td><td>1</td></tr>\n",
       "\t<tr><td>CA</td><td>1</td><td>0</td><td>1</td><td>1</td><td>2.0</td><td>2.6</td><td>1</td><td>0</td><td>-0.5999999</td><td>1</td><td>0</td><td>1</td></tr>\n",
       "\t<tr><td>CO</td><td>1</td><td>1</td><td>0</td><td>0</td><td>1.9</td><td>2.4</td><td>1</td><td>0</td><td>-0.5000001</td><td>0</td><td>0</td><td>1</td></tr>\n",
       "</tbody>\n",
       "</table>\n"
      ],
      "text/latex": [
       "A tibble: 6 × 13\n",
       "\\begin{tabular}{lllllllllllll}\n",
       " state & admn90 & admn85 & open90 & open85 & dthrte90 & dthrte85 & speed90 & speed85 & cdthrte & cadmn & copen & cspeed\\\\\n",
       " <chr> & <dbl> & <dbl> & <dbl> & <dbl> & <dbl> & <dbl> & <dbl> & <dbl> & <dbl> & <dbl> & <dbl> & <dbl>\\\\\n",
       "\\hline\n",
       "\t AL & 0 & 0 & 0 & 0 & 2.6 & 2.9 & 1 & 0 & -0.3000002 & 0 & 0 & 1\\\\\n",
       "\t AK & 1 & 1 & 1 & 0 & 2.1 & 3.2 & 0 & 0 & -1.1000001 & 0 & 1 & 0\\\\\n",
       "\t AZ & 1 & 0 & 0 & 0 & 2.5 & 4.4 & 1 & 0 & -1.9000001 & 1 & 0 & 1\\\\\n",
       "\t AR & 0 & 0 & 0 & 0 & 2.9 & 3.4 & 1 & 0 & -0.5000000 & 0 & 0 & 1\\\\\n",
       "\t CA & 1 & 0 & 1 & 1 & 2.0 & 2.6 & 1 & 0 & -0.5999999 & 1 & 0 & 1\\\\\n",
       "\t CO & 1 & 1 & 0 & 0 & 1.9 & 2.4 & 1 & 0 & -0.5000001 & 0 & 0 & 1\\\\\n",
       "\\end{tabular}\n"
      ],
      "text/markdown": [
       "\n",
       "A tibble: 6 × 13\n",
       "\n",
       "| state &lt;chr&gt; | admn90 &lt;dbl&gt; | admn85 &lt;dbl&gt; | open90 &lt;dbl&gt; | open85 &lt;dbl&gt; | dthrte90 &lt;dbl&gt; | dthrte85 &lt;dbl&gt; | speed90 &lt;dbl&gt; | speed85 &lt;dbl&gt; | cdthrte &lt;dbl&gt; | cadmn &lt;dbl&gt; | copen &lt;dbl&gt; | cspeed &lt;dbl&gt; |\n",
       "|---|---|---|---|---|---|---|---|---|---|---|---|---|\n",
       "| AL | 0 | 0 | 0 | 0 | 2.6 | 2.9 | 1 | 0 | -0.3000002 | 0 | 0 | 1 |\n",
       "| AK | 1 | 1 | 1 | 0 | 2.1 | 3.2 | 0 | 0 | -1.1000001 | 0 | 1 | 0 |\n",
       "| AZ | 1 | 0 | 0 | 0 | 2.5 | 4.4 | 1 | 0 | -1.9000001 | 1 | 0 | 1 |\n",
       "| AR | 0 | 0 | 0 | 0 | 2.9 | 3.4 | 1 | 0 | -0.5000000 | 0 | 0 | 1 |\n",
       "| CA | 1 | 0 | 1 | 1 | 2.0 | 2.6 | 1 | 0 | -0.5999999 | 1 | 0 | 1 |\n",
       "| CO | 1 | 1 | 0 | 0 | 1.9 | 2.4 | 1 | 0 | -0.5000001 | 0 | 0 | 1 |\n",
       "\n"
      ],
      "text/plain": [
       "  state admn90 admn85 open90 open85 dthrte90 dthrte85 speed90 speed85\n",
       "1 AL    0      0      0      0      2.6      2.9      1       0      \n",
       "2 AK    1      1      1      0      2.1      3.2      0       0      \n",
       "3 AZ    1      0      0      0      2.5      4.4      1       0      \n",
       "4 AR    0      0      0      0      2.9      3.4      1       0      \n",
       "5 CA    1      0      1      1      2.0      2.6      1       0      \n",
       "6 CO    1      1      0      0      1.9      2.4      1       0      \n",
       "  cdthrte    cadmn copen cspeed\n",
       "1 -0.3000002 0     0     1     \n",
       "2 -1.1000001 0     1     0     \n",
       "3 -1.9000001 1     0     1     \n",
       "4 -0.5000000 0     0     1     \n",
       "5 -0.5999999 1     0     1     \n",
       "6 -0.5000001 0     0     1     "
      ]
     },
     "metadata": {},
     "output_type": "display_data"
    }
   ],
   "source": [
    "trafficdata<-read_dta(\"TRAFFIC1.DTA\")\n",
    "head(trafficdata)"
   ]
  },
  {
   "cell_type": "code",
   "execution_count": 3,
   "metadata": {},
   "outputs": [
    {
     "name": "stdout",
     "output_type": "stream",
     "text": [
      "[1] \"states with open container laws in 1990\"\n"
     ]
    },
    {
     "data": {
      "text/html": [
       "22"
      ],
      "text/latex": [
       "22"
      ],
      "text/markdown": [
       "22"
      ],
      "text/plain": [
       "[1] 22"
      ]
     },
     "metadata": {},
     "output_type": "display_data"
    },
    {
     "name": "stdout",
     "output_type": "stream",
     "text": [
      "[1] \"states with open container laws in 1985\"\n"
     ]
    },
    {
     "data": {
      "text/html": [
       "19"
      ],
      "text/latex": [
       "19"
      ],
      "text/markdown": [
       "19"
      ],
      "text/plain": [
       "[1] 19"
      ]
     },
     "metadata": {},
     "output_type": "display_data"
    },
    {
     "name": "stdout",
     "output_type": "stream",
     "text": [
      "[1] \"states with admin per se laws in 1990\"\n"
     ]
    },
    {
     "data": {
      "text/html": [
       "29"
      ],
      "text/latex": [
       "29"
      ],
      "text/markdown": [
       "29"
      ],
      "text/plain": [
       "[1] 29"
      ]
     },
     "metadata": {},
     "output_type": "display_data"
    },
    {
     "name": "stdout",
     "output_type": "stream",
     "text": [
      "[1] \"states with admin per se laws in 1985\"\n"
     ]
    },
    {
     "data": {
      "text/html": [
       "21"
      ],
      "text/latex": [
       "21"
      ],
      "text/markdown": [
       "21"
      ],
      "text/plain": [
       "[1] 21"
      ]
     },
     "metadata": {},
     "output_type": "display_data"
    }
   ],
   "source": [
    "#describe law changes\n",
    "print(\"states with open container laws in 1990\")\n",
    "sum(trafficdata$open90)\n",
    "print(\"states with open container laws in 1985\")\n",
    "sum(trafficdata$open85)\n",
    "print(\"states with admin per se laws in 1990\")\n",
    "sum(trafficdata$admn90)\n",
    "print(\"states with admin per se laws in 1985\")\n",
    "sum(trafficdata$admn85)\n",
    "\n"
   ]
  },
  {
   "cell_type": "code",
   "execution_count": 4,
   "metadata": {},
   "outputs": [
    {
     "data": {
      "text/html": [
       "<table class=\"dataframe\">\n",
       "<caption>A tibble: 2 × 2</caption>\n",
       "<thead>\n",
       "\t<tr><th scope=col>change_open</th><th scope=col>meandth</th></tr>\n",
       "\t<tr><th scope=col>&lt;dbl&gt;</th><th scope=col>&lt;dbl&gt;</th></tr>\n",
       "</thead>\n",
       "<tbody>\n",
       "\t<tr><td>0</td><td>2.125000</td></tr>\n",
       "\t<tr><td>1</td><td>2.633333</td></tr>\n",
       "</tbody>\n",
       "</table>\n"
      ],
      "text/latex": [
       "A tibble: 2 × 2\n",
       "\\begin{tabular}{ll}\n",
       " change\\_open & meandth\\\\\n",
       " <dbl> & <dbl>\\\\\n",
       "\\hline\n",
       "\t 0 & 2.125000\\\\\n",
       "\t 1 & 2.633333\\\\\n",
       "\\end{tabular}\n"
      ],
      "text/markdown": [
       "\n",
       "A tibble: 2 × 2\n",
       "\n",
       "| change_open &lt;dbl&gt; | meandth &lt;dbl&gt; |\n",
       "|---|---|\n",
       "| 0 | 2.125000 |\n",
       "| 1 | 2.633333 |\n",
       "\n"
      ],
      "text/plain": [
       "  change_open meandth \n",
       "1 0           2.125000\n",
       "2 1           2.633333"
      ]
     },
     "metadata": {},
     "output_type": "display_data"
    },
    {
     "data": {
      "text/plain": [
       "\n",
       "Call:\n",
       "lm(formula = change_death ~ change_open, data = trafficdata)\n",
       "\n",
       "Residuals:\n",
       "     Min       1Q   Median       3Q      Max \n",
       "-1.38125 -0.10729  0.01875  0.21875  0.81875 \n",
       "\n",
       "Coefficients:\n",
       "            Estimate Std. Error t value Pr(>|t|)    \n",
       "(Intercept) -0.51875    0.04991 -10.393 5.51e-14 ***\n",
       "change_open -0.44792    0.20580  -2.176   0.0344 *  \n",
       "---\n",
       "Signif. codes:  0 ‘***’ 0.001 ‘**’ 0.01 ‘*’ 0.05 ‘.’ 0.1 ‘ ’ 1\n",
       "\n",
       "Residual standard error: 0.3458 on 49 degrees of freedom\n",
       "Multiple R-squared:  0.08815,\tAdjusted R-squared:  0.06954 \n",
       "F-statistic: 4.737 on 1 and 49 DF,  p-value: 0.03437\n"
      ]
     },
     "metadata": {},
     "output_type": "display_data"
    }
   ],
   "source": [
    "#difference-in-difference\n",
    "trafficdata$change_open = trafficdata$open90-trafficdata$open85\n",
    "trafficdata$change_death = trafficdata$dthrte90-trafficdata$dthrte85\n",
    "\n",
    "#mean comparison\n",
    "trafficdata %>%\n",
    "    group_by(change_open) %>%\n",
    "    summarize(meandth=mean(dthrte90))\n",
    "    \n",
    "    \n",
    "#or, via regression\n",
    "reg3<-lm(change_death~change_open, data = trafficdata)\n",
    "summary(reg3)\n",
    "\n"
   ]
  },
  {
   "cell_type": "code",
   "execution_count": null,
   "metadata": {},
   "outputs": [],
   "source": []
  },
  {
   "cell_type": "code",
   "execution_count": 5,
   "metadata": {},
   "outputs": [
    {
     "data": {
      "text/plain": [
       "\n",
       "Call:\n",
       "lm(formula = change_death ~ change_open + change_admn, data = trafficdata)\n",
       "\n",
       "Residuals:\n",
       "     Min       1Q   Median       3Q      Max \n",
       "-1.25261 -0.14337 -0.00321  0.19679  0.79679 \n",
       "\n",
       "Coefficients:\n",
       "            Estimate Std. Error t value Pr(>|t|)    \n",
       "(Intercept) -0.49679    0.05243  -9.476 1.43e-12 ***\n",
       "change_open -0.41968    0.20559  -2.041   0.0467 *  \n",
       "change_admn -0.15060    0.11682  -1.289   0.2035    \n",
       "---\n",
       "Signif. codes:  0 ‘***’ 0.001 ‘**’ 0.01 ‘*’ 0.05 ‘.’ 0.1 ‘ ’ 1\n",
       "\n",
       "Residual standard error: 0.3435 on 48 degrees of freedom\n",
       "Multiple R-squared:  0.1187,\tAdjusted R-squared:  0.08194 \n",
       "F-statistic: 3.231 on 2 and 48 DF,  p-value: 0.04824\n"
      ]
     },
     "metadata": {},
     "output_type": "display_data"
    }
   ],
   "source": [
    "#generate change in admin per se laws\n",
    "trafficdata$change_admn <-trafficdata$admn90-trafficdata$admn85\n",
    "reg4<-lm(change_death~change_open + change_admn, data = trafficdata)\n",
    "summary(reg4)"
   ]
  },
  {
   "cell_type": "code",
   "execution_count": 6,
   "metadata": {},
   "outputs": [
    {
     "data": {
      "text/html": [
       "<style>\n",
       ".list-inline {list-style: none; margin:0; padding: 0}\n",
       ".list-inline>li {display: inline-block}\n",
       ".list-inline>li:not(:last-child)::after {content: \"\\00b7\"; padding: 0 .5ex}\n",
       "</style>\n",
       "<ol class=list-inline><li>'AK'</li><li>'FL'</li><li>'NM'</li></ol>\n"
      ],
      "text/latex": [
       "\\begin{enumerate*}\n",
       "\\item 'AK'\n",
       "\\item 'FL'\n",
       "\\item 'NM'\n",
       "\\end{enumerate*}\n"
      ],
      "text/markdown": [
       "1. 'AK'\n",
       "2. 'FL'\n",
       "3. 'NM'\n",
       "\n",
       "\n"
      ],
      "text/plain": [
       "[1] \"AK\" \"FL\" \"NM\""
      ]
     },
     "metadata": {},
     "output_type": "display_data"
    }
   ],
   "source": [
    "subset(trafficdata$state, trafficdata$change_open ==1)\n"
   ]
  },
  {
   "cell_type": "code",
   "execution_count": 7,
   "metadata": {},
   "outputs": [
    {
     "data": {
      "text/html": [
       "<table class=\"dataframe\">\n",
       "<caption>A matrix: 2 × 1 of type dbl</caption>\n",
       "<tbody>\n",
       "\t<tr><th scope=row>A</th><td>3.60000</td></tr>\n",
       "\t<tr><th scope=row>B</th><td>2.64375</td></tr>\n",
       "</tbody>\n",
       "</table>\n"
      ],
      "text/latex": [
       "A matrix: 2 × 1 of type dbl\n",
       "\\begin{tabular}{r|l}\n",
       "\tA & 3.60000\\\\\n",
       "\tB & 2.64375\\\\\n",
       "\\end{tabular}\n"
      ],
      "text/markdown": [
       "\n",
       "A matrix: 2 × 1 of type dbl\n",
       "\n",
       "| A | 3.60000 |\n",
       "| B | 2.64375 |\n",
       "\n"
      ],
      "text/plain": [
       "  [,1]   \n",
       "A 3.60000\n",
       "B 2.64375"
      ]
     },
     "metadata": {},
     "output_type": "display_data"
    }
   ],
   "source": [
    "A<- mean(subset(trafficdata$dthrte85, trafficdata$change_open==1))\n",
    "B<-mean(subset(trafficdata$dthrte85, trafficdata$change_open==0))\n",
    "rbind(A,B)"
   ]
  },
  {
   "cell_type": "code",
   "execution_count": null,
   "metadata": {},
   "outputs": [],
   "source": []
  }
 ],
 "metadata": {
  "kernelspec": {
   "display_name": "R",
   "language": "R",
   "name": "ir"
  },
  "language_info": {
   "codemirror_mode": "r",
   "file_extension": ".r",
   "mimetype": "text/x-r-source",
   "name": "R",
   "pygments_lexer": "r",
   "version": "4.0.5"
  }
 },
 "nbformat": 4,
 "nbformat_minor": 2
}
