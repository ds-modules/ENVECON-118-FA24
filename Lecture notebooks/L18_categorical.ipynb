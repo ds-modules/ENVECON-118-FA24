{
 "cells": [
  {
   "cell_type": "code",
   "execution_count": 1,
   "metadata": {},
   "outputs": [],
   "source": [
    "library(haven)\n",
    "wagedata<- read_dta(\"WAGE1.DTA\")"
   ]
  },
  {
   "cell_type": "code",
   "execution_count": 2,
   "metadata": {},
   "outputs": [
    {
     "data": {
      "text/plain": [
       "\n",
       "Call:\n",
       "lm(formula = lwage ~ female + educ + exper + tenure, data = wagedata)\n",
       "\n",
       "Residuals:\n",
       "     Min       1Q   Median       3Q      Max \n",
       "-1.91588 -0.26192 -0.02399  0.26349  1.27352 \n",
       "\n",
       "Coefficients:\n",
       "             Estimate Std. Error t value Pr(>|t|)    \n",
       "(Intercept)  0.501348   0.101902   4.920 1.16e-06 ***\n",
       "female      -0.301146   0.037246  -8.085 4.37e-15 ***\n",
       "educ         0.087462   0.006939  12.605  < 2e-16 ***\n",
       "exper        0.004629   0.001627   2.845  0.00461 ** \n",
       "tenure       0.017367   0.002976   5.835 9.45e-09 ***\n",
       "---\n",
       "Signif. codes:  0 ‘***’ 0.001 ‘**’ 0.01 ‘*’ 0.05 ‘.’ 0.1 ‘ ’ 1\n",
       "\n",
       "Residual standard error: 0.416 on 521 degrees of freedom\n",
       "Multiple R-squared:  0.3923,\tAdjusted R-squared:  0.3876 \n",
       "F-statistic: 84.07 on 4 and 521 DF,  p-value: < 2.2e-16\n"
      ]
     },
     "metadata": {},
     "output_type": "display_data"
    }
   ],
   "source": [
    "#run controlled regression\n",
    "reg1<-lm(lwage~female + educ + exper + tenure, data = wagedata)\n",
    "summary(reg1)"
   ]
  },
  {
   "cell_type": "code",
   "execution_count": null,
   "metadata": {},
   "outputs": [],
   "source": [
    "#run unconditional regression\n",
    "reg2<-lm(lwage~female, data = wagedata)\n",
    "summary(reg2)"
   ]
  },
  {
   "cell_type": "code",
   "execution_count": 4,
   "metadata": {},
   "outputs": [
    {
     "data": {
      "text/plain": [
       "\n",
       "Call:\n",
       "lm(formula = lwage ~ marrmale + singfem + marrfem + educ + exper + \n",
       "    tenure, data = wagedata)\n",
       "\n",
       "Residuals:\n",
       "     Min       1Q   Median       3Q      Max \n",
       "-1.95351 -0.24423 -0.04262  0.24501  1.20538 \n",
       "\n",
       "Coefficients:\n",
       "             Estimate Std. Error t value Pr(>|t|)    \n",
       "(Intercept)  0.387817   0.102322   3.790 0.000168 ***\n",
       "marrmale     0.292091   0.055389   5.273 1.97e-07 ***\n",
       "singfem     -0.096750   0.057463  -1.684 0.092845 .  \n",
       "marrfem     -0.120235   0.057984  -2.074 0.038611 *  \n",
       "educ         0.083533   0.006861  12.175  < 2e-16 ***\n",
       "exper        0.003164   0.001655   1.912 0.056459 .  \n",
       "tenure       0.015684   0.002921   5.370 1.19e-07 ***\n",
       "---\n",
       "Signif. codes:  0 ‘***’ 0.001 ‘**’ 0.01 ‘*’ 0.05 ‘.’ 0.1 ‘ ’ 1\n",
       "\n",
       "Residual standard error: 0.4058 on 519 degrees of freedom\n",
       "Multiple R-squared:  0.4238,\tAdjusted R-squared:  0.4172 \n",
       "F-statistic: 63.63 on 6 and 519 DF,  p-value: < 2.2e-16\n"
      ]
     },
     "metadata": {},
     "output_type": "display_data"
    }
   ],
   "source": [
    "#generate new variables\n",
    "wagedata$marrmale<- wagedata$married*(1-wagedata$female)\n",
    "wagedata$singfem<- (1-wagedata$married)*wagedata$female\n",
    "wagedata$marrfem<-wagedata$married*wagedata$female\n",
    "#run regression\n",
    "reg3<-lm(lwage~marrmale + singfem + marrfem + educ + exper + tenure, data = wagedata)\n",
    "summary(reg3)"
   ]
  },
  {
   "cell_type": "code",
   "execution_count": 5,
   "metadata": {},
   "outputs": [
    {
     "data": {
      "text/plain": [
       "\n",
       "Call:\n",
       "lm(formula = lwage ~ marrmale + singmale + marrfem + educ + exper + \n",
       "    tenure, data = wagedata)\n",
       "\n",
       "Residuals:\n",
       "     Min       1Q   Median       3Q      Max \n",
       "-1.95351 -0.24423 -0.04262  0.24501  1.20538 \n",
       "\n",
       "Coefficients:\n",
       "             Estimate Std. Error t value Pr(>|t|)    \n",
       "(Intercept)  0.291067   0.098559   2.953  0.00329 ** \n",
       "marrmale     0.388840   0.050349   7.723 5.90e-14 ***\n",
       "singmale     0.096750   0.057463   1.684  0.09284 .  \n",
       "marrfem     -0.023485   0.052640  -0.446  0.65568    \n",
       "educ         0.083533   0.006861  12.175  < 2e-16 ***\n",
       "exper        0.003164   0.001655   1.912  0.05646 .  \n",
       "tenure       0.015684   0.002921   5.370 1.19e-07 ***\n",
       "---\n",
       "Signif. codes:  0 ‘***’ 0.001 ‘**’ 0.01 ‘*’ 0.05 ‘.’ 0.1 ‘ ’ 1\n",
       "\n",
       "Residual standard error: 0.4058 on 519 degrees of freedom\n",
       "Multiple R-squared:  0.4238,\tAdjusted R-squared:  0.4172 \n",
       "F-statistic: 63.63 on 6 and 519 DF,  p-value: < 2.2e-16\n"
      ]
     },
     "metadata": {},
     "output_type": "display_data"
    }
   ],
   "source": [
    "#change omitted category\n",
    "wagedata$singmale <- (1-wagedata$married)*(1-wagedata$female)\n",
    "reg4<- lm(lwage~marrmale + singmale + marrfem + educ + exper + tenure, data = wagedata)\n",
    "summary(reg4)"
   ]
  },
  {
   "cell_type": "code",
   "execution_count": 7,
   "metadata": {},
   "outputs": [
    {
     "data": {
      "text/plain": [
       "\n",
       "Call:\n",
       "lm(formula = lwage ~ married + female + marrfem + educ + exper + \n",
       "    tenure, data = wagedata)\n",
       "\n",
       "Residuals:\n",
       "     Min       1Q   Median       3Q      Max \n",
       "-1.95351 -0.24423 -0.04262  0.24501  1.20538 \n",
       "\n",
       "Coefficients:\n",
       "             Estimate Std. Error t value Pr(>|t|)    \n",
       "(Intercept)  0.387817   0.102322   3.790 0.000168 ***\n",
       "married      0.292091   0.055389   5.273 1.97e-07 ***\n",
       "female      -0.096750   0.057463  -1.684 0.092845 .  \n",
       "marrfem     -0.315576   0.073967  -4.266 2.36e-05 ***\n",
       "educ         0.083533   0.006861  12.175  < 2e-16 ***\n",
       "exper        0.003164   0.001655   1.912 0.056459 .  \n",
       "tenure       0.015684   0.002921   5.370 1.19e-07 ***\n",
       "---\n",
       "Signif. codes:  0 ‘***’ 0.001 ‘**’ 0.01 ‘*’ 0.05 ‘.’ 0.1 ‘ ’ 1\n",
       "\n",
       "Residual standard error: 0.4058 on 519 degrees of freedom\n",
       "Multiple R-squared:  0.4238,\tAdjusted R-squared:  0.4172 \n",
       "F-statistic: 63.63 on 6 and 519 DF,  p-value: < 2.2e-16\n"
      ]
     },
     "metadata": {},
     "output_type": "display_data"
    }
   ],
   "source": [
    "#alternate: use female as sum of singfem and marrfem\n",
    "reg5<- lm(lwage~married + female + marrfem + educ + exper + tenure, data = wagedata)\n",
    "summary(reg5)"
   ]
  },
  {
   "cell_type": "code",
   "execution_count": 8,
   "metadata": {},
   "outputs": [
    {
     "data": {
      "text/plain": [
       "\n",
       "Call:\n",
       "lm(formula = lwage ~ marrmale + female + marrfem + educ + exper + \n",
       "    tenure, data = wagedata)\n",
       "\n",
       "Residuals:\n",
       "     Min       1Q   Median       3Q      Max \n",
       "-1.95351 -0.24423 -0.04262  0.24501  1.20538 \n",
       "\n",
       "Coefficients:\n",
       "             Estimate Std. Error t value Pr(>|t|)    \n",
       "(Intercept)  0.387817   0.102322   3.790 0.000168 ***\n",
       "marrmale     0.292091   0.055389   5.273 1.97e-07 ***\n",
       "female      -0.096750   0.057463  -1.684 0.092845 .  \n",
       "marrfem     -0.023485   0.052640  -0.446 0.655676    \n",
       "educ         0.083533   0.006861  12.175  < 2e-16 ***\n",
       "exper        0.003164   0.001655   1.912 0.056459 .  \n",
       "tenure       0.015684   0.002921   5.370 1.19e-07 ***\n",
       "---\n",
       "Signif. codes:  0 ‘***’ 0.001 ‘**’ 0.01 ‘*’ 0.05 ‘.’ 0.1 ‘ ’ 1\n",
       "\n",
       "Residual standard error: 0.4058 on 519 degrees of freedom\n",
       "Multiple R-squared:  0.4238,\tAdjusted R-squared:  0.4172 \n",
       "F-statistic: 63.63 on 6 and 519 DF,  p-value: < 2.2e-16\n"
      ]
     },
     "metadata": {},
     "output_type": "display_data"
    }
   ],
   "source": [
    "reg5<- lm(lwage~marrmale + female + marrfem + educ + exper + tenure, data = wagedata)\n",
    "summary(reg5)"
   ]
  },
  {
   "cell_type": "code",
   "execution_count": 3,
   "metadata": {},
   "outputs": [
    {
     "data": {
      "text/plain": [
       "\n",
       "Call:\n",
       "lm(formula = lwage ~ female + educ + exper + tenure + profocc + \n",
       "    services, data = wagedata)\n",
       "\n",
       "Residuals:\n",
       "     Min       1Q   Median       3Q      Max \n",
       "-1.72105 -0.25196 -0.02353  0.23344  1.12626 \n",
       "\n",
       "Coefficients:\n",
       "             Estimate Std. Error t value Pr(>|t|)    \n",
       "(Intercept)  0.702384   0.104917   6.695 5.62e-11 ***\n",
       "female      -0.266121   0.036510  -7.289 1.17e-12 ***\n",
       "educ         0.066655   0.007799   8.546  < 2e-16 ***\n",
       "exper        0.003899   0.001592   2.449  0.01465 *  \n",
       "tenure       0.016311   0.002889   5.646 2.71e-08 ***\n",
       "profocc      0.216199   0.043277   4.996 8.03e-07 ***\n",
       "services    -0.177965   0.059210  -3.006  0.00278 ** \n",
       "---\n",
       "Signif. codes:  0 ‘***’ 0.001 ‘**’ 0.01 ‘*’ 0.05 ‘.’ 0.1 ‘ ’ 1\n",
       "\n",
       "Residual standard error: 0.4026 on 519 degrees of freedom\n",
       "Multiple R-squared:  0.4327,\tAdjusted R-squared:  0.4262 \n",
       "F-statistic: 65.99 on 6 and 519 DF,  p-value: < 2.2e-16\n"
      ]
     },
     "metadata": {},
     "output_type": "display_data"
    }
   ],
   "source": [
    "#add controls\n",
    "reg2<-lm(lwage~female + educ + exper + tenure + profocc + services, data = wagedata)\n",
    "summary(reg2)"
   ]
  },
  {
   "cell_type": "code",
   "execution_count": null,
   "metadata": {},
   "outputs": [],
   "source": [
    "reg6<-lm(lwage~female+ married + marrfem + educ + exper + tenure, data = wagedata)\n",
    "summary(reg6)"
   ]
  },
  {
   "cell_type": "code",
   "execution_count": null,
   "metadata": {},
   "outputs": [],
   "source": []
  }
 ],
 "metadata": {
  "kernelspec": {
   "display_name": "R",
   "language": "R",
   "name": "ir"
  },
  "language_info": {
   "codemirror_mode": "r",
   "file_extension": ".r",
   "mimetype": "text/x-r-source",
   "name": "R",
   "pygments_lexer": "r",
   "version": "4.0.5"
  }
 },
 "nbformat": 4,
 "nbformat_minor": 2
}
