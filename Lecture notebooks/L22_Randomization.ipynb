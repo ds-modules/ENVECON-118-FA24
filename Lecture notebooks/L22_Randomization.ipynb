{
 "cells": [
  {
   "cell_type": "code",
   "execution_count": 1,
   "metadata": {},
   "outputs": [
    {
     "data": {
      "text/html": [
       "<table>\n",
       "<caption>A tibble: 6 × 22</caption>\n",
       "<thead>\n",
       "\t<tr><th scope=col>respondent_id</th><th scope=col>survey_round</th><th scope=col>treatment</th><th scope=col>treatment_priority</th><th scope=col>access</th><th scope=col>priority</th><th scope=col>geo_stata_zone</th><th scope=col>trade_strata</th><th scope=col>a_sex</th><th scope=col>caste</th><th scope=col>⋯</th><th scope=col>educ</th><th scope=col>gs1</th><th scope=col>gs2</th><th scope=col>gs3</th><th scope=col>gs4</th><th scope=col>ts1</th><th scope=col>ts2</th><th scope=col>ts3</th><th scope=col>ts4</th><th scope=col>anytreatment_all</th></tr>\n",
       "\t<tr><th scope=col>&lt;dbl&gt;</th><th scope=col>&lt;dbl+lbl&gt;</th><th scope=col>&lt;dbl&gt;</th><th scope=col>&lt;dbl&gt;</th><th scope=col>&lt;dbl&gt;</th><th scope=col>&lt;dbl&gt;</th><th scope=col>&lt;dbl+lbl&gt;</th><th scope=col>&lt;dbl+lbl&gt;</th><th scope=col>&lt;dbl+lbl&gt;</th><th scope=col>&lt;dbl&gt;</th><th scope=col>⋯</th><th scope=col>&lt;dbl&gt;</th><th scope=col>&lt;dbl&gt;</th><th scope=col>&lt;dbl&gt;</th><th scope=col>&lt;dbl&gt;</th><th scope=col>&lt;dbl&gt;</th><th scope=col>&lt;dbl&gt;</th><th scope=col>&lt;dbl&gt;</th><th scope=col>&lt;dbl&gt;</th><th scope=col>&lt;dbl&gt;</th><th scope=col>&lt;dbl&gt;</th></tr>\n",
       "</thead>\n",
       "<tbody>\n",
       "\t<tr><td>40003</td><td>1</td><td>1</td><td>0</td><td>0</td><td>0</td><td>2</td><td>4</td><td>1</td><td>3</td><td>⋯</td><td>10</td><td>0</td><td>1</td><td>0</td><td>0</td><td>0</td><td>0</td><td>0</td><td>1</td><td>1</td></tr>\n",
       "\t<tr><td>40003</td><td>2</td><td>1</td><td>0</td><td>1</td><td>0</td><td>2</td><td>4</td><td>1</td><td>3</td><td>⋯</td><td>10</td><td>0</td><td>1</td><td>0</td><td>0</td><td>0</td><td>0</td><td>0</td><td>1</td><td>1</td></tr>\n",
       "\t<tr><td>40003</td><td>3</td><td>1</td><td>0</td><td>1</td><td>0</td><td>2</td><td>4</td><td>1</td><td>3</td><td>⋯</td><td>10</td><td>0</td><td>1</td><td>0</td><td>0</td><td>0</td><td>0</td><td>0</td><td>1</td><td>1</td></tr>\n",
       "\t<tr><td>40004</td><td>1</td><td>1</td><td>0</td><td>0</td><td>0</td><td>2</td><td>2</td><td>1</td><td>3</td><td>⋯</td><td>11</td><td>0</td><td>1</td><td>0</td><td>0</td><td>0</td><td>1</td><td>0</td><td>0</td><td>1</td></tr>\n",
       "\t<tr><td>40004</td><td>2</td><td>1</td><td>0</td><td>1</td><td>0</td><td>2</td><td>2</td><td>1</td><td>3</td><td>⋯</td><td>11</td><td>0</td><td>1</td><td>0</td><td>0</td><td>0</td><td>1</td><td>0</td><td>0</td><td>1</td></tr>\n",
       "\t<tr><td>40004</td><td>3</td><td>1</td><td>0</td><td>1</td><td>0</td><td>2</td><td>2</td><td>1</td><td>3</td><td>⋯</td><td>11</td><td>0</td><td>1</td><td>0</td><td>0</td><td>0</td><td>1</td><td>0</td><td>0</td><td>1</td></tr>\n",
       "</tbody>\n",
       "</table>\n"
      ],
      "text/latex": [
       "A tibble: 6 × 22\n",
       "\\begin{tabular}{lllllllllllllllllllll}\n",
       " respondent\\_id & survey\\_round & treatment & treatment\\_priority & access & priority & geo\\_stata\\_zone & trade\\_strata & a\\_sex & caste & ⋯ & educ & gs1 & gs2 & gs3 & gs4 & ts1 & ts2 & ts3 & ts4 & anytreatment\\_all\\\\\n",
       " <dbl> & <dbl+lbl> & <dbl> & <dbl> & <dbl> & <dbl> & <dbl+lbl> & <dbl+lbl> & <dbl+lbl> & <dbl> & ⋯ & <dbl> & <dbl> & <dbl> & <dbl> & <dbl> & <dbl> & <dbl> & <dbl> & <dbl> & <dbl>\\\\\n",
       "\\hline\n",
       "\t 40003 & 1 & 1 & 0 & 0 & 0 & 2 & 4 & 1 & 3 & ⋯ & 10 & 0 & 1 & 0 & 0 & 0 & 0 & 0 & 1 & 1\\\\\n",
       "\t 40003 & 2 & 1 & 0 & 1 & 0 & 2 & 4 & 1 & 3 & ⋯ & 10 & 0 & 1 & 0 & 0 & 0 & 0 & 0 & 1 & 1\\\\\n",
       "\t 40003 & 3 & 1 & 0 & 1 & 0 & 2 & 4 & 1 & 3 & ⋯ & 10 & 0 & 1 & 0 & 0 & 0 & 0 & 0 & 1 & 1\\\\\n",
       "\t 40004 & 1 & 1 & 0 & 0 & 0 & 2 & 2 & 1 & 3 & ⋯ & 11 & 0 & 1 & 0 & 0 & 0 & 1 & 0 & 0 & 1\\\\\n",
       "\t 40004 & 2 & 1 & 0 & 1 & 0 & 2 & 2 & 1 & 3 & ⋯ & 11 & 0 & 1 & 0 & 0 & 0 & 1 & 0 & 0 & 1\\\\\n",
       "\t 40004 & 3 & 1 & 0 & 1 & 0 & 2 & 2 & 1 & 3 & ⋯ & 11 & 0 & 1 & 0 & 0 & 0 & 1 & 0 & 0 & 1\\\\\n",
       "\\end{tabular}\n"
      ],
      "text/markdown": [
       "\n",
       "A tibble: 6 × 22\n",
       "\n",
       "| respondent_id &lt;dbl&gt; | survey_round &lt;dbl+lbl&gt; | treatment &lt;dbl&gt; | treatment_priority &lt;dbl&gt; | access &lt;dbl&gt; | priority &lt;dbl&gt; | geo_stata_zone &lt;dbl+lbl&gt; | trade_strata &lt;dbl+lbl&gt; | a_sex &lt;dbl+lbl&gt; | caste &lt;dbl&gt; | ⋯ ⋯ | educ &lt;dbl&gt; | gs1 &lt;dbl&gt; | gs2 &lt;dbl&gt; | gs3 &lt;dbl&gt; | gs4 &lt;dbl&gt; | ts1 &lt;dbl&gt; | ts2 &lt;dbl&gt; | ts3 &lt;dbl&gt; | ts4 &lt;dbl&gt; | anytreatment_all &lt;dbl&gt; |\n",
       "|---|---|---|---|---|---|---|---|---|---|---|---|---|---|---|---|---|---|---|---|---|\n",
       "| 40003 | 1 | 1 | 0 | 0 | 0 | 2 | 4 | 1 | 3 | ⋯ | 10 | 0 | 1 | 0 | 0 | 0 | 0 | 0 | 1 | 1 |\n",
       "| 40003 | 2 | 1 | 0 | 1 | 0 | 2 | 4 | 1 | 3 | ⋯ | 10 | 0 | 1 | 0 | 0 | 0 | 0 | 0 | 1 | 1 |\n",
       "| 40003 | 3 | 1 | 0 | 1 | 0 | 2 | 4 | 1 | 3 | ⋯ | 10 | 0 | 1 | 0 | 0 | 0 | 0 | 0 | 1 | 1 |\n",
       "| 40004 | 1 | 1 | 0 | 0 | 0 | 2 | 2 | 1 | 3 | ⋯ | 11 | 0 | 1 | 0 | 0 | 0 | 1 | 0 | 0 | 1 |\n",
       "| 40004 | 2 | 1 | 0 | 1 | 0 | 2 | 2 | 1 | 3 | ⋯ | 11 | 0 | 1 | 0 | 0 | 0 | 1 | 0 | 0 | 1 |\n",
       "| 40004 | 3 | 1 | 0 | 1 | 0 | 2 | 2 | 1 | 3 | ⋯ | 11 | 0 | 1 | 0 | 0 | 0 | 1 | 0 | 0 | 1 |\n",
       "\n"
      ],
      "text/plain": [
       "  respondent_id survey_round treatment treatment_priority access priority\n",
       "1 40003         1            1         0                  0      0       \n",
       "2 40003         2            1         0                  1      0       \n",
       "3 40003         3            1         0                  1      0       \n",
       "4 40004         1            1         0                  0      0       \n",
       "5 40004         2            1         0                  1      0       \n",
       "6 40004         3            1         0                  1      0       \n",
       "  geo_stata_zone trade_strata a_sex caste ⋯ educ gs1 gs2 gs3 gs4 ts1 ts2 ts3\n",
       "1 2              4            1     3     ⋯ 10   0   1   0   0   0   0   0  \n",
       "2 2              4            1     3     ⋯ 10   0   1   0   0   0   0   0  \n",
       "3 2              4            1     3     ⋯ 10   0   1   0   0   0   0   0  \n",
       "4 2              2            1     3     ⋯ 11   0   1   0   0   0   1   0  \n",
       "5 2              2            1     3     ⋯ 11   0   1   0   0   0   1   0  \n",
       "6 2              2            1     3     ⋯ 11   0   1   0   0   0   1   0  \n",
       "  ts4 anytreatment_all\n",
       "1 1   1               \n",
       "2 1   1               \n",
       "3 1   1               \n",
       "4 0   1               \n",
       "5 0   1               \n",
       "6 0   1               "
      ]
     },
     "metadata": {},
     "output_type": "display_data"
    }
   ],
   "source": [
    "library(haven)\n",
    "jobdata<-read_dta(\"jip_dataset_forclass.dta\")\n",
    "head(jobdata)"
   ]
  },
  {
   "cell_type": "code",
   "execution_count": 2,
   "metadata": {},
   "outputs": [],
   "source": [
    "jobdata$geo_stata_zone <-as.factor(jobdata$geo_stata_zone) \n",
    "jobdata$trade_strata<- as.factor(jobdata$trade_strata)\n",
    "jobdata$caste<-as.factor(jobdata$caste)"
   ]
  },
  {
   "cell_type": "code",
   "execution_count": 3,
   "metadata": {},
   "outputs": [
    {
     "data": {
      "text/plain": [
       "\n",
       "Call:\n",
       "lm(formula = emp ~ access + priority, data = jobdata, subset = survey_round == \n",
       "    3)\n",
       "\n",
       "Residuals:\n",
       "    Min      1Q  Median      3Q     Max \n",
       "-0.4906 -0.4461 -0.4444  0.5538  0.5556 \n",
       "\n",
       "Coefficients:\n",
       "             Estimate Std. Error t value Pr(>|t|)    \n",
       "(Intercept)  0.490630   0.020565  23.857   <2e-16 ***\n",
       "access      -0.046186   0.027340  -1.689   0.0913 .  \n",
       "priority     0.001709   0.027366   0.062   0.9502    \n",
       "---\n",
       "Signif. codes:  0 ‘***’ 0.001 ‘**’ 0.01 ‘*’ 0.05 ‘.’ 0.1 ‘ ’ 1\n",
       "\n",
       "Residual standard error: 0.4983 on 1934 degrees of freedom\n",
       "  (725 observations deleted due to missingness)\n",
       "Multiple R-squared:  0.001759,\tAdjusted R-squared:  0.0007264 \n",
       "F-statistic: 1.704 on 2 and 1934 DF,  p-value: 0.1823\n"
      ]
     },
     "metadata": {},
     "output_type": "display_data"
    }
   ],
   "source": [
    "#run simple regression\n",
    "reg1<- lm(emp~access + priority, data = jobdata, subset = survey_round==3)\n",
    "summary(reg1)"
   ]
  },
  {
   "cell_type": "code",
   "execution_count": 4,
   "metadata": {},
   "outputs": [
    {
     "data": {
      "text/plain": [
       "\n",
       "Call:\n",
       "lm(formula = emp ~ access + priority + geo_stata_zone + trade_strata + \n",
       "    a_sex + age + educ + caste, data = jobdata, subset = survey_round == \n",
       "    3)\n",
       "\n",
       "Residuals:\n",
       "    Min      1Q  Median      3Q     Max \n",
       "-1.5449 -0.3831 -0.1586  0.4385  0.9750 \n",
       "\n",
       "Coefficients:\n",
       "                 Estimate Std. Error t value Pr(>|t|)    \n",
       "(Intercept)     -0.300844   0.111611  -2.695 0.007092 ** \n",
       "access          -0.052851   0.025275  -2.091 0.036658 *  \n",
       "priority         0.012346   0.025180   0.490 0.623975    \n",
       "geo_stata_zone2 -0.067863   0.036540  -1.857 0.063441 .  \n",
       "geo_stata_zone3 -0.021244   0.039311  -0.540 0.588974    \n",
       "geo_stata_zone4 -0.188901   0.038577  -4.897 1.06e-06 ***\n",
       "trade_strata2    0.074963   0.024897   3.011 0.002639 ** \n",
       "trade_strata3    0.131272   0.030437   4.313 1.69e-05 ***\n",
       "trade_strata4   -0.007549   0.040571  -0.186 0.852406    \n",
       "a_sex           -0.133012   0.035706  -3.725 0.000201 ***\n",
       "age              0.025842   0.001973  13.096  < 2e-16 ***\n",
       "educ             0.015511   0.005318   2.917 0.003578 ** \n",
       "caste2           0.033006   0.060531   0.545 0.585634    \n",
       "caste3           0.119030   0.027006   4.408 1.10e-05 ***\n",
       "caste4           0.161132   0.028601   5.634 2.03e-08 ***\n",
       "---\n",
       "Signif. codes:  0 ‘***’ 0.001 ‘**’ 0.01 ‘*’ 0.05 ‘.’ 0.1 ‘ ’ 1\n",
       "\n",
       "Residual standard error: 0.452 on 1871 degrees of freedom\n",
       "  (776 observations deleted due to missingness)\n",
       "Multiple R-squared:  0.1844,\tAdjusted R-squared:  0.1783 \n",
       "F-statistic: 30.22 on 14 and 1871 DF,  p-value: < 2.2e-16\n"
      ]
     },
     "metadata": {},
     "output_type": "display_data"
    }
   ],
   "source": [
    "#add controls\n",
    "reg2<- lm(emp~access + priority + geo_stata_zone + trade_strata + a_sex + age + educ + caste, data = jobdata, subset = survey_round==3)\n",
    "summary(reg2)"
   ]
  },
  {
   "cell_type": "code",
   "execution_count": 5,
   "metadata": {},
   "outputs": [
    {
     "data": {
      "text/plain": [
       "\n",
       "Call:\n",
       "lm(formula = emp ~ access + priority + geo_stata_zone + trade_strata + \n",
       "    a_sex + age + educ + caste + survey_round, data = jobdata, \n",
       "    subset = survey_round == 2 | survey_round == 3)\n",
       "\n",
       "Residuals:\n",
       "    Min      1Q  Median      3Q     Max \n",
       "-1.5096 -0.3808 -0.1705  0.4460  1.0048 \n",
       "\n",
       "Coefficients:\n",
       "                 Estimate Std. Error t value Pr(>|t|)    \n",
       "(Intercept)     -0.241304   0.074199  -3.252 0.001155 ** \n",
       "access          -0.041184   0.017174  -2.398 0.016524 *  \n",
       "priority         0.008744   0.017022   0.514 0.607517    \n",
       "geo_stata_zone2 -0.083349   0.024698  -3.375 0.000746 ***\n",
       "geo_stata_zone3 -0.013571   0.026670  -0.509 0.610885    \n",
       "geo_stata_zone4 -0.209493   0.026161  -8.008 1.51e-15 ***\n",
       "trade_strata2    0.060207   0.016896   3.563 0.000370 ***\n",
       "trade_strata3    0.115915   0.020608   5.625 1.98e-08 ***\n",
       "trade_strata4   -0.007621   0.027804  -0.274 0.784037    \n",
       "a_sex           -0.107708   0.023632  -4.558 5.32e-06 ***\n",
       "age              0.024389   0.001336  18.250  < 2e-16 ***\n",
       "educ             0.012979   0.003555   3.650 0.000265 ***\n",
       "caste2           0.034615   0.040709   0.850 0.395209    \n",
       "caste3           0.088635   0.018332   4.835 1.38e-06 ***\n",
       "caste4           0.155575   0.019416   8.013 1.45e-15 ***\n",
       "survey_round3    0.008968   0.014223   0.631 0.528381    \n",
       "---\n",
       "Signif. codes:  0 ‘***’ 0.001 ‘**’ 0.01 ‘*’ 0.05 ‘.’ 0.1 ‘ ’ 1\n",
       "\n",
       "Residual standard error: 0.4518 on 4079 degrees of freedom\n",
       "  (1229 observations deleted due to missingness)\n",
       "Multiple R-squared:  0.176,\tAdjusted R-squared:  0.173 \n",
       "F-statistic: 58.08 on 15 and 4079 DF,  p-value: < 2.2e-16\n"
      ]
     },
     "metadata": {},
     "output_type": "display_data"
    }
   ],
   "source": [
    "#include both survey waves\n",
    "jobdata$survey_round<- as.factor(jobdata$survey_round)\n",
    "reg3<- lm(emp~access + priority + geo_stata_zone + trade_strata + a_sex + age + educ + caste + survey_round, data = jobdata, subset = survey_round==2|survey_round==3)\n",
    "summary(reg3)"
   ]
  },
  {
   "cell_type": "code",
   "execution_count": null,
   "metadata": {},
   "outputs": [],
   "source": [
    "#test unaffectable variable\n",
    "reg4<-lm(age~access + priority, data = jobdata, subset = survey_round==2)\n",
    "summary(reg4)"
   ]
  },
  {
   "cell_type": "code",
   "execution_count": null,
   "metadata": {},
   "outputs": [],
   "source": []
  }
 ],
 "metadata": {
  "kernelspec": {
   "display_name": "R",
   "language": "R",
   "name": "ir"
  },
  "language_info": {
   "codemirror_mode": "r",
   "file_extension": ".r",
   "mimetype": "text/x-r-source",
   "name": "R",
   "pygments_lexer": "r",
   "version": "4.0.2"
  }
 },
 "nbformat": 4,
 "nbformat_minor": 2
}
