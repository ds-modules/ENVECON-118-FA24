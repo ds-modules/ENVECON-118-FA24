{
 "cells": [
  {
   "cell_type": "code",
   "execution_count": null,
   "metadata": {},
   "outputs": [],
   "source": [
    "#data set is in an old version of stata.  Will need library foreign to load it\n",
    "library(foreign)\n",
    "wagedata <- read.dta(\"WAGE1.DTA\")"
   ]
  },
  {
   "cell_type": "code",
   "execution_count": null,
   "metadata": {},
   "outputs": [],
   "source": [
    "#Examine data\n",
    "head(wagedata)"
   ]
  },
  {
   "cell_type": "code",
   "execution_count": null,
   "metadata": {},
   "outputs": [],
   "source": [
    "#summarize wages\n",
    "summary(wagedata[,\"wage\"])"
   ]
  },
  {
   "cell_type": "code",
   "execution_count": null,
   "metadata": {},
   "outputs": [],
   "source": [
    "#summarize education, experience, and tenure\n",
    "summary(wagedata[,\"educ\"])\n",
    "summary(wagedata[,\"exper\"])"
   ]
  },
  {
   "cell_type": "code",
   "execution_count": null,
   "metadata": {},
   "outputs": [],
   "source": [
    "#regress log wage on education\n",
    "Reg1 <- lm(lwage~educ, data = wagedata)\n",
    "#display full results of regression\n",
    "summary(Reg1)"
   ]
  },
  {
   "cell_type": "code",
   "execution_count": null,
   "metadata": {},
   "outputs": [],
   "source": [
    "#control for experience\n",
    "Reg2 <- lm(lwage ~ educ + exper, data = wagedata)\n",
    "#display full results of regression\n",
    "summary(Reg2)"
   ]
  },
  {
   "cell_type": "code",
   "execution_count": null,
   "metadata": {},
   "outputs": [],
   "source": [
    "#Allow a quadratic in experience\n",
    "Reg3 <- lm(lwage ~ educ + exper + expersq, data = wagedata)\n",
    "summary(Reg3)"
   ]
  },
  {
   "cell_type": "code",
   "execution_count": null,
   "metadata": {},
   "outputs": [],
   "source": [
    "#control for gender\n",
    "Reg4<- lm(lwage ~ educ + exper + expersq + female, data = wagedata)\n",
    "summary(Reg4)"
   ]
  },
  {
   "cell_type": "code",
   "execution_count": null,
   "metadata": {},
   "outputs": [],
   "source": [
    "#In these data, being non-white is not strongly correlated with wages.  What happens when we add it as a control?\n",
    "Reg5<- lm(lwage ~ educ + exper + expersq + female + nonwhite, data = wagedata)\n",
    "summary(Reg5)"
   ]
  },
  {
   "cell_type": "code",
   "execution_count": null,
   "metadata": {},
   "outputs": [],
   "source": [
    "# add in tenure.  Tenure relates to wages but not to education\n",
    "#regress log wage on education\n",
    "Reg1 <- lm(lwage~educ, data = wagedata)\n",
    "#display full results of regression\n",
    "summary(Reg1)\n",
    "#how do coefficient and errors change when we control for tenure at the job?\n",
    "Reg6 <- lm(lwage ~ educ + tenure, data = wagedata)\n",
    "summary(Reg6)"
   ]
  },
  {
   "cell_type": "code",
   "execution_count": null,
   "metadata": {},
   "outputs": [],
   "source": [
    "#What about when you add a strongly correlated variable?\n",
    "\n",
    "Reg7 <- lm(lwage ~ profocc, data = wagedata)\n",
    "summary(Reg7)\n",
    "Reg8 <- lm(lwage~  profocc + educ, data = wagedata)\n",
    "summary(Reg8)\n"
   ]
  },
  {
   "cell_type": "code",
   "execution_count": null,
   "metadata": {},
   "outputs": [],
   "source": [
    "#remind correlations between education and experience\n",
    "Reg1 <- lm(lwage~educ, data = wagedata)\n",
    "summary(Reg1)\n",
    "Reg2 <- lm(lwage~educ + exper, data = wagedata)\n",
    "summary(Reg2)"
   ]
  },
  {
   "cell_type": "code",
   "execution_count": null,
   "metadata": {},
   "outputs": [],
   "source": [
    "#predict education using exper\n",
    "#regress education on experience\n",
    "Reg3 <- lm(educ ~ exper, data = wagedata)\n",
    "summary(Reg3)\n",
    "#predict fitted values\n",
    "wagedata[,\"educ_hat\"]<-predict(Reg3,wagedata)\n",
    "head(wagedata[,c(\"educ\",\"exper\",\"educ_hat\")])\n"
   ]
  },
  {
   "cell_type": "code",
   "execution_count": null,
   "metadata": {},
   "outputs": [],
   "source": [
    "#plot fitted values\n",
    "plot(wagedata[,\"exper\"], wagedata[,\"educ\"])\n",
    "lines(wagedata[,\"exper\"], wagedata[,\"educ_hat\"])"
   ]
  },
  {
   "cell_type": "code",
   "execution_count": null,
   "metadata": {},
   "outputs": [],
   "source": [
    "#predict residuals\n",
    "wagedata[,\"educ_resid\"]<-wagedata[,\"educ\"]-wagedata[,\"educ_hat\"]\n",
    "#plot residuals\n",
    "plot(wagedata[,\"exper\"],wagedata[,\"educ_resid\"])"
   ]
  },
  {
   "cell_type": "code",
   "execution_count": null,
   "metadata": {},
   "outputs": [],
   "source": [
    "#regress log wages on residuals\n",
    "Reg4<-lm(lwage~educ_resid, data = wagedata)\n",
    "summary(Reg4)"
   ]
  },
  {
   "cell_type": "code",
   "execution_count": null,
   "metadata": {},
   "outputs": [],
   "source": [
    "#What about multicollinear variables\n",
    "#define variable notfemale = 1-female\n",
    "wagedata[,\"notfemale\"] <- 1-wagedata[,\"female\"]\n",
    "#regress log wages on education, notfemale, and female\n",
    "Reg9 <- lm(lwage ~ educ + notfemale + female, data = wagedata)\n",
    "summary(Reg9)"
   ]
  },
  {
   "cell_type": "code",
   "execution_count": null,
   "metadata": {},
   "outputs": [],
   "source": [
    "#what about more complicated multicollinearity?\n",
    "#exper in this data set is age + educ + 6.  What happens if we run our regressions controlling for age, educ, and exper?\n",
    "#define age in the data\n",
    "wagedata[,\"age\"]<-wagedata[,\"exper\"]-wagedata[,\"educ\"]-6\n",
    "Reg10 <-lm(lwage ~ educ + exper + age, data = wagedata)\n",
    "summary(Reg10)"
   ]
  },
  {
   "cell_type": "code",
   "execution_count": null,
   "metadata": {},
   "outputs": [],
   "source": []
  }
 ],
 "metadata": {
  "kernelspec": {
   "display_name": "R",
   "language": "R",
   "name": "ir"
  },
  "language_info": {
   "codemirror_mode": "r",
   "file_extension": ".r",
   "mimetype": "text/x-r-source",
   "name": "R",
   "pygments_lexer": "r",
   "version": "4.4.1"
  }
 },
 "nbformat": 4,
 "nbformat_minor": 4
}
