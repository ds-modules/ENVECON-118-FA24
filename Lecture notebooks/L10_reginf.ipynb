{
 "cells": [
  {
   "cell_type": "code",
   "execution_count": 1,
   "id": "8b568631",
   "metadata": {},
   "outputs": [
    {
     "data": {
      "text/plain": [
       "\n",
       "Call:\n",
       "lm(formula = lwage ~ educ + exper + tenure, data = wagedata)\n",
       "\n",
       "Residuals:\n",
       "     Min       1Q   Median       3Q      Max \n",
       "-2.05802 -0.29645 -0.03265  0.28788  1.42809 \n",
       "\n",
       "Coefficients:\n",
       "            Estimate Std. Error t value Pr(>|t|)    \n",
       "(Intercept) 0.284360   0.104190   2.729  0.00656 ** \n",
       "educ        0.092029   0.007330  12.555  < 2e-16 ***\n",
       "exper       0.004121   0.001723   2.391  0.01714 *  \n",
       "tenure      0.022067   0.003094   7.133 3.29e-12 ***\n",
       "---\n",
       "Signif. codes:  0 ‘***’ 0.001 ‘**’ 0.01 ‘*’ 0.05 ‘.’ 0.1 ‘ ’ 1\n",
       "\n",
       "Residual standard error: 0.4409 on 522 degrees of freedom\n",
       "Multiple R-squared:  0.316,\tAdjusted R-squared:  0.3121 \n",
       "F-statistic: 80.39 on 3 and 522 DF,  p-value: < 2.2e-16\n"
      ]
     },
     "metadata": {},
     "output_type": "display_data"
    }
   ],
   "source": [
    "library(haven)\n",
    "wagedata<-read_dta(\"WAGE1.DTA\")\n",
    "reg1<-lm(lwage~educ + exper + tenure, data = wagedata)\n",
    "summary(reg1)"
   ]
  },
  {
   "cell_type": "code",
   "execution_count": 5,
   "id": "ee74a43a",
   "metadata": {},
   "outputs": [
    {
     "data": {
      "text/html": [
       "<table class=\"dataframe\">\n",
       "<caption>A tibble: 6 × 17</caption>\n",
       "<thead>\n",
       "\t<tr><th scope=col>lnchprg</th><th scope=col>enroll</th><th scope=col>staff</th><th scope=col>expend</th><th scope=col>salary</th><th scope=col>benefits</th><th scope=col>droprate</th><th scope=col>gradrate</th><th scope=col>math10</th><th scope=col>sci11</th><th scope=col>totcomp</th><th scope=col>ltotcomp</th><th scope=col>lexpend</th><th scope=col>lenroll</th><th scope=col>lstaff</th><th scope=col>bensal</th><th scope=col>lsalary</th></tr>\n",
       "\t<tr><th scope=col>&lt;dbl&gt;</th><th scope=col>&lt;dbl&gt;</th><th scope=col>&lt;dbl&gt;</th><th scope=col>&lt;dbl&gt;</th><th scope=col>&lt;dbl&gt;</th><th scope=col>&lt;dbl&gt;</th><th scope=col>&lt;dbl&gt;</th><th scope=col>&lt;dbl&gt;</th><th scope=col>&lt;dbl&gt;</th><th scope=col>&lt;dbl&gt;</th><th scope=col>&lt;dbl&gt;</th><th scope=col>&lt;dbl&gt;</th><th scope=col>&lt;dbl&gt;</th><th scope=col>&lt;dbl&gt;</th><th scope=col>&lt;dbl&gt;</th><th scope=col>&lt;dbl&gt;</th><th scope=col>&lt;dbl&gt;</th></tr>\n",
       "</thead>\n",
       "<tbody>\n",
       "\t<tr><td>1.4</td><td> 1862</td><td>112.6</td><td>5765</td><td>37498</td><td> 7420</td><td>2.9</td><td> 89.2</td><td>56.4</td><td>67.9</td><td>44918</td><td>10.71259</td><td>8.659560</td><td>7.529407</td><td>4.723842</td><td>0.1978772</td><td>10.53204</td></tr>\n",
       "\t<tr><td>2.3</td><td>11355</td><td>101.2</td><td>6601</td><td>48722</td><td>10370</td><td>1.3</td><td> 91.4</td><td>42.7</td><td>65.3</td><td>59092</td><td>10.98685</td><td>8.794976</td><td>9.337414</td><td>4.617099</td><td>0.2128402</td><td>10.79389</td></tr>\n",
       "\t<tr><td>2.7</td><td> 7685</td><td>114.0</td><td>6834</td><td>44541</td><td> 7313</td><td>3.5</td><td> 91.4</td><td>43.8</td><td>54.3</td><td>51854</td><td>10.85619</td><td>8.829665</td><td>8.947025</td><td>4.736198</td><td>0.1641858</td><td>10.70417</td></tr>\n",
       "\t<tr><td>3.4</td><td> 1148</td><td> 85.4</td><td>3586</td><td>31566</td><td> 5989</td><td>3.6</td><td> 86.6</td><td>25.3</td><td>60.0</td><td>37555</td><td>10.53356</td><td>8.184793</td><td>7.045776</td><td>4.447346</td><td>0.1897295</td><td>10.35984</td></tr>\n",
       "\t<tr><td>3.4</td><td> 1572</td><td> 96.1</td><td>3847</td><td>29781</td><td> 5545</td><td>0.0</td><td>100.0</td><td>15.3</td><td>65.8</td><td>35326</td><td>10.47237</td><td>8.255049</td><td>7.360104</td><td>4.565389</td><td>0.1861925</td><td>10.30163</td></tr>\n",
       "\t<tr><td>3.4</td><td> 2496</td><td>101.1</td><td>5070</td><td>36801</td><td> 5895</td><td>2.7</td><td> 89.2</td><td>46.0</td><td>60.5</td><td>42696</td><td>10.66186</td><td>8.531096</td><td>7.822445</td><td>4.616110</td><td>0.1601859</td><td>10.51328</td></tr>\n",
       "</tbody>\n",
       "</table>\n"
      ],
      "text/latex": [
       "A tibble: 6 × 17\n",
       "\\begin{tabular}{lllllllllllllllll}\n",
       " lnchprg & enroll & staff & expend & salary & benefits & droprate & gradrate & math10 & sci11 & totcomp & ltotcomp & lexpend & lenroll & lstaff & bensal & lsalary\\\\\n",
       " <dbl> & <dbl> & <dbl> & <dbl> & <dbl> & <dbl> & <dbl> & <dbl> & <dbl> & <dbl> & <dbl> & <dbl> & <dbl> & <dbl> & <dbl> & <dbl> & <dbl>\\\\\n",
       "\\hline\n",
       "\t 1.4 &  1862 & 112.6 & 5765 & 37498 &  7420 & 2.9 &  89.2 & 56.4 & 67.9 & 44918 & 10.71259 & 8.659560 & 7.529407 & 4.723842 & 0.1978772 & 10.53204\\\\\n",
       "\t 2.3 & 11355 & 101.2 & 6601 & 48722 & 10370 & 1.3 &  91.4 & 42.7 & 65.3 & 59092 & 10.98685 & 8.794976 & 9.337414 & 4.617099 & 0.2128402 & 10.79389\\\\\n",
       "\t 2.7 &  7685 & 114.0 & 6834 & 44541 &  7313 & 3.5 &  91.4 & 43.8 & 54.3 & 51854 & 10.85619 & 8.829665 & 8.947025 & 4.736198 & 0.1641858 & 10.70417\\\\\n",
       "\t 3.4 &  1148 &  85.4 & 3586 & 31566 &  5989 & 3.6 &  86.6 & 25.3 & 60.0 & 37555 & 10.53356 & 8.184793 & 7.045776 & 4.447346 & 0.1897295 & 10.35984\\\\\n",
       "\t 3.4 &  1572 &  96.1 & 3847 & 29781 &  5545 & 0.0 & 100.0 & 15.3 & 65.8 & 35326 & 10.47237 & 8.255049 & 7.360104 & 4.565389 & 0.1861925 & 10.30163\\\\\n",
       "\t 3.4 &  2496 & 101.1 & 5070 & 36801 &  5895 & 2.7 &  89.2 & 46.0 & 60.5 & 42696 & 10.66186 & 8.531096 & 7.822445 & 4.616110 & 0.1601859 & 10.51328\\\\\n",
       "\\end{tabular}\n"
      ],
      "text/markdown": [
       "\n",
       "A tibble: 6 × 17\n",
       "\n",
       "| lnchprg &lt;dbl&gt; | enroll &lt;dbl&gt; | staff &lt;dbl&gt; | expend &lt;dbl&gt; | salary &lt;dbl&gt; | benefits &lt;dbl&gt; | droprate &lt;dbl&gt; | gradrate &lt;dbl&gt; | math10 &lt;dbl&gt; | sci11 &lt;dbl&gt; | totcomp &lt;dbl&gt; | ltotcomp &lt;dbl&gt; | lexpend &lt;dbl&gt; | lenroll &lt;dbl&gt; | lstaff &lt;dbl&gt; | bensal &lt;dbl&gt; | lsalary &lt;dbl&gt; |\n",
       "|---|---|---|---|---|---|---|---|---|---|---|---|---|---|---|---|---|\n",
       "| 1.4 |  1862 | 112.6 | 5765 | 37498 |  7420 | 2.9 |  89.2 | 56.4 | 67.9 | 44918 | 10.71259 | 8.659560 | 7.529407 | 4.723842 | 0.1978772 | 10.53204 |\n",
       "| 2.3 | 11355 | 101.2 | 6601 | 48722 | 10370 | 1.3 |  91.4 | 42.7 | 65.3 | 59092 | 10.98685 | 8.794976 | 9.337414 | 4.617099 | 0.2128402 | 10.79389 |\n",
       "| 2.7 |  7685 | 114.0 | 6834 | 44541 |  7313 | 3.5 |  91.4 | 43.8 | 54.3 | 51854 | 10.85619 | 8.829665 | 8.947025 | 4.736198 | 0.1641858 | 10.70417 |\n",
       "| 3.4 |  1148 |  85.4 | 3586 | 31566 |  5989 | 3.6 |  86.6 | 25.3 | 60.0 | 37555 | 10.53356 | 8.184793 | 7.045776 | 4.447346 | 0.1897295 | 10.35984 |\n",
       "| 3.4 |  1572 |  96.1 | 3847 | 29781 |  5545 | 0.0 | 100.0 | 15.3 | 65.8 | 35326 | 10.47237 | 8.255049 | 7.360104 | 4.565389 | 0.1861925 | 10.30163 |\n",
       "| 3.4 |  2496 | 101.1 | 5070 | 36801 |  5895 | 2.7 |  89.2 | 46.0 | 60.5 | 42696 | 10.66186 | 8.531096 | 7.822445 | 4.616110 | 0.1601859 | 10.51328 |\n",
       "\n"
      ],
      "text/plain": [
       "  lnchprg enroll staff expend salary benefits droprate gradrate math10 sci11\n",
       "1 1.4      1862  112.6 5765   37498   7420    2.9       89.2    56.4   67.9 \n",
       "2 2.3     11355  101.2 6601   48722  10370    1.3       91.4    42.7   65.3 \n",
       "3 2.7      7685  114.0 6834   44541   7313    3.5       91.4    43.8   54.3 \n",
       "4 3.4      1148   85.4 3586   31566   5989    3.6       86.6    25.3   60.0 \n",
       "5 3.4      1572   96.1 3847   29781   5545    0.0      100.0    15.3   65.8 \n",
       "6 3.4      2496  101.1 5070   36801   5895    2.7       89.2    46.0   60.5 \n",
       "  totcomp ltotcomp lexpend  lenroll  lstaff   bensal    lsalary \n",
       "1 44918   10.71259 8.659560 7.529407 4.723842 0.1978772 10.53204\n",
       "2 59092   10.98685 8.794976 9.337414 4.617099 0.2128402 10.79389\n",
       "3 51854   10.85619 8.829665 8.947025 4.736198 0.1641858 10.70417\n",
       "4 37555   10.53356 8.184793 7.045776 4.447346 0.1897295 10.35984\n",
       "5 35326   10.47237 8.255049 7.360104 4.565389 0.1861925 10.30163\n",
       "6 42696   10.66186 8.531096 7.822445 4.616110 0.1601859 10.51328"
      ]
     },
     "metadata": {},
     "output_type": "display_data"
    }
   ],
   "source": [
    "meapdata<-read_dta(\"MEAP93.dta\")\n",
    "head(meapdata)"
   ]
  },
  {
   "cell_type": "code",
   "execution_count": 8,
   "id": "2473c250",
   "metadata": {},
   "outputs": [
    {
     "data": {
      "text/plain": [
       "\n",
       "Call:\n",
       "lm(formula = math10 ~ enroll + totcomp + staff, data = meapdata)\n",
       "\n",
       "Residuals:\n",
       "    Min      1Q  Median      3Q     Max \n",
       "-22.235  -7.008  -0.807   6.097  40.689 \n",
       "\n",
       "Coefficients:\n",
       "              Estimate Std. Error t value Pr(>|t|)    \n",
       "(Intercept)  2.2740209  6.1137938   0.372    0.710    \n",
       "enroll      -0.0001976  0.0002152  -0.918    0.359    \n",
       "totcomp      0.0004586  0.0001004   4.570 6.49e-06 ***\n",
       "staff        0.0479199  0.0398140   1.204    0.229    \n",
       "---\n",
       "Signif. codes:  0 ‘***’ 0.001 ‘**’ 0.01 ‘*’ 0.05 ‘.’ 0.1 ‘ ’ 1\n",
       "\n",
       "Residual standard error: 10.24 on 404 degrees of freedom\n",
       "Multiple R-squared:  0.05406,\tAdjusted R-squared:  0.04704 \n",
       "F-statistic: 7.697 on 3 and 404 DF,  p-value: 5.179e-05\n"
      ]
     },
     "metadata": {},
     "output_type": "display_data"
    }
   ],
   "source": [
    "reg2<-lm(math10~enroll + totcomp + staff, data = meapdata)\n",
    "summary(reg2)"
   ]
  },
  {
   "cell_type": "code",
   "execution_count": null,
   "id": "a4c338d5",
   "metadata": {},
   "outputs": [],
   "source": []
  }
 ],
 "metadata": {
  "kernelspec": {
   "display_name": "R",
   "language": "R",
   "name": "ir"
  },
  "language_info": {
   "codemirror_mode": "r",
   "file_extension": ".r",
   "mimetype": "text/x-r-source",
   "name": "R",
   "pygments_lexer": "r",
   "version": "4.4.1"
  }
 },
 "nbformat": 4,
 "nbformat_minor": 5
}
