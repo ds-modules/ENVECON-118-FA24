{
 "cells": [
  {
   "cell_type": "code",
   "execution_count": 1,
   "metadata": {},
   "outputs": [
    {
     "name": "stderr",
     "output_type": "stream",
     "text": [
      "── Attaching packages ─────────────────────────────────────── tidyverse 1.2.1 ──\n",
      "✔ ggplot2 2.2.1     ✔ purrr   0.3.2\n",
      "✔ tibble  2.1.3     ✔ dplyr   0.8.3\n",
      "✔ tidyr   0.8.0     ✔ stringr 1.3.0\n",
      "✔ readr   1.1.1     ✔ forcats 0.3.0\n",
      "── Conflicts ────────────────────────────────────────── tidyverse_conflicts() ──\n",
      "✖ dplyr::filter() masks stats::filter()\n",
      "✖ dplyr::lag()    masks stats::lag()\n"
     ]
    }
   ],
   "source": [
    "# load some needed packages and data\n",
    "library(haven)\n",
    "library(tidyverse)\n",
    "yields <- read_dta(\"irr_yields.dta\")\n"
   ]
  },
  {
   "cell_type": "code",
   "execution_count": 2,
   "metadata": {},
   "outputs": [
    {
     "data": {
      "text/html": [
       "<table>\n",
       "<caption>A tibble: 2 × 2</caption>\n",
       "<thead>\n",
       "\t<tr><th scope=col>irr_loc</th><th scope=col>meanyield</th></tr>\n",
       "\t<tr><th scope=col>&lt;dbl&gt;</th><th scope=col>&lt;dbl&gt;</th></tr>\n",
       "</thead>\n",
       "<tbody>\n",
       "\t<tr><td>0</td><td>7.178373</td></tr>\n",
       "\t<tr><td>1</td><td>7.549421</td></tr>\n",
       "</tbody>\n",
       "</table>\n"
      ],
      "text/latex": [
       "A tibble: 2 × 2\n",
       "\\begin{tabular}{r|ll}\n",
       " irr\\_loc & meanyield\\\\\n",
       " <dbl> & <dbl>\\\\\n",
       "\\hline\n",
       "\t 0 & 7.178373\\\\\n",
       "\t 1 & 7.549421\\\\\n",
       "\\end{tabular}\n"
      ],
      "text/markdown": [
       "\n",
       "A tibble: 2 × 2\n",
       "\n",
       "| irr_loc &lt;dbl&gt; | meanyield &lt;dbl&gt; |\n",
       "|---|---|\n",
       "| 0 | 7.178373 |\n",
       "| 1 | 7.549421 |\n",
       "\n"
      ],
      "text/plain": [
       "  irr_loc meanyield\n",
       "1 0       7.178373 \n",
       "2 1       7.549421 "
      ]
     },
     "metadata": {},
     "output_type": "display_data"
    }
   ],
   "source": [
    "# find out means of log yield by irrigated status\n",
    "#declare the dataset\n",
    "yields %>%\n",
    "#tell it to sort by irrigation status\n",
    "group_by(irr_loc) %>%\n",
    "#ask it what the means are\n",
    "summarize(meanyield = mean(ln_tot_yield, na.rm = T)) \n"
   ]
  },
  {
   "cell_type": "code",
   "execution_count": 3,
   "metadata": {},
   "outputs": [
    {
     "data": {
      "text/html": [
       "<table>\n",
       "<caption>A tibble: 2 × 2</caption>\n",
       "<thead>\n",
       "\t<tr><th scope=col>irr_loc</th><th scope=col>sdyield</th></tr>\n",
       "\t<tr><th scope=col>&lt;dbl&gt;</th><th scope=col>&lt;dbl&gt;</th></tr>\n",
       "</thead>\n",
       "<tbody>\n",
       "\t<tr><td>0</td><td>1.567387</td></tr>\n",
       "\t<tr><td>1</td><td>1.514265</td></tr>\n",
       "</tbody>\n",
       "</table>\n"
      ],
      "text/latex": [
       "A tibble: 2 × 2\n",
       "\\begin{tabular}{r|ll}\n",
       " irr\\_loc & sdyield\\\\\n",
       " <dbl> & <dbl>\\\\\n",
       "\\hline\n",
       "\t 0 & 1.567387\\\\\n",
       "\t 1 & 1.514265\\\\\n",
       "\\end{tabular}\n"
      ],
      "text/markdown": [
       "\n",
       "A tibble: 2 × 2\n",
       "\n",
       "| irr_loc &lt;dbl&gt; | sdyield &lt;dbl&gt; |\n",
       "|---|---|\n",
       "| 0 | 1.567387 |\n",
       "| 1 | 1.514265 |\n",
       "\n"
      ],
      "text/plain": [
       "  irr_loc sdyield \n",
       "1 0       1.567387\n",
       "2 1       1.514265"
      ]
     },
     "metadata": {},
     "output_type": "display_data"
    }
   ],
   "source": [
    "#same for standard deviations\n",
    "yields %>%\n",
    "group_by(irr_loc) %>%\n",
    "summarize(sdyield = sd(ln_tot_yield, na.rm = T)) "
   ]
  },
  {
   "cell_type": "code",
   "execution_count": 4,
   "metadata": {},
   "outputs": [
    {
     "data": {
      "text/html": [
       "<table>\n",
       "<caption>A grouped_df: 2 × 3</caption>\n",
       "<thead>\n",
       "\t<tr><th scope=col>irr_loc</th><th scope=col>ln_tot_yield</th><th scope=col>n</th></tr>\n",
       "\t<tr><th scope=col>&lt;dbl&gt;</th><th scope=col>&lt;dbl&gt;</th><th scope=col>&lt;int&gt;</th></tr>\n",
       "</thead>\n",
       "<tbody>\n",
       "\t<tr><td>0</td><td>NA</td><td> 778</td></tr>\n",
       "\t<tr><td>1</td><td>NA</td><td>1309</td></tr>\n",
       "</tbody>\n",
       "</table>\n"
      ],
      "text/latex": [
       "A grouped_df: 2 × 3\n",
       "\\begin{tabular}{r|lll}\n",
       " irr\\_loc & ln\\_tot\\_yield & n\\\\\n",
       " <dbl> & <dbl> & <int>\\\\\n",
       "\\hline\n",
       "\t 0 & NA &  778\\\\\n",
       "\t 1 & NA & 1309\\\\\n",
       "\\end{tabular}\n"
      ],
      "text/markdown": [
       "\n",
       "A grouped_df: 2 × 3\n",
       "\n",
       "| irr_loc &lt;dbl&gt; | ln_tot_yield &lt;dbl&gt; | n &lt;int&gt; |\n",
       "|---|---|---|\n",
       "| 0 | NA |  778 |\n",
       "| 1 | NA | 1309 |\n",
       "\n"
      ],
      "text/plain": [
       "  irr_loc ln_tot_yield n   \n",
       "1 0       NA            778\n",
       "2 1       NA           1309"
      ]
     },
     "metadata": {},
     "output_type": "display_data"
    }
   ],
   "source": [
    "#find out n\n",
    "yields %>%\n",
    "group_by(irr_loc) %>%\n",
    "filter(is.na(ln_tot_yield == F)) %>%\n",
    "count(ln_tot_yield)\n"
   ]
  },
  {
   "cell_type": "code",
   "execution_count": null,
   "metadata": {},
   "outputs": [],
   "source": []
  }
 ],
 "metadata": {
  "kernelspec": {
   "display_name": "R",
   "language": "R",
   "name": "ir"
  },
  "language_info": {
   "codemirror_mode": "r",
   "file_extension": ".r",
   "mimetype": "text/x-r-source",
   "name": "R",
   "pygments_lexer": "r",
   "version": "3.4.4"
  }
 },
 "nbformat": 4,
 "nbformat_minor": 2
}
