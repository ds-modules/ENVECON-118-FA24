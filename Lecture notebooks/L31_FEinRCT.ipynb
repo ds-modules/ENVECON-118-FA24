{
 "cells": [
  {
   "cell_type": "code",
   "execution_count": 15,
   "id": "d5432e93-f657-4ede-ad68-117eac431d94",
   "metadata": {},
   "outputs": [
    {
     "data": {
      "text/html": [
       "<table class=\"dataframe\">\n",
       "<caption>A tibble: 6 × 10</caption>\n",
       "<thead>\n",
       "\t<tr><th scope=col>respondent_id</th><th scope=col>survey_round</th><th scope=col>is_baseline</th><th scope=col>is_midline</th><th scope=col>is_endline</th><th scope=col>enroll</th><th scope=col>priority</th><th scope=col>geo_stata_zone</th><th scope=col>trade_strata</th><th scope=col>emp</th></tr>\n",
       "\t<tr><th scope=col>&lt;dbl&gt;</th><th scope=col>&lt;dbl+lbl&gt;</th><th scope=col>&lt;dbl&gt;</th><th scope=col>&lt;dbl&gt;</th><th scope=col>&lt;dbl&gt;</th><th scope=col>&lt;dbl&gt;</th><th scope=col>&lt;dbl&gt;</th><th scope=col>&lt;fct&gt;</th><th scope=col>&lt;fct&gt;</th><th scope=col>&lt;dbl&gt;</th></tr>\n",
       "</thead>\n",
       "<tbody>\n",
       "\t<tr><td>40003</td><td>1</td><td>1</td><td>0</td><td>0</td><td>0</td><td>0</td><td>2</td><td>4</td><td>0</td></tr>\n",
       "\t<tr><td>40003</td><td>2</td><td>0</td><td>1</td><td>0</td><td>1</td><td>0</td><td>2</td><td>4</td><td>0</td></tr>\n",
       "\t<tr><td>40003</td><td>3</td><td>0</td><td>0</td><td>1</td><td>1</td><td>0</td><td>2</td><td>4</td><td>0</td></tr>\n",
       "\t<tr><td>40004</td><td>1</td><td>1</td><td>0</td><td>0</td><td>0</td><td>0</td><td>2</td><td>2</td><td>0</td></tr>\n",
       "\t<tr><td>40004</td><td>2</td><td>0</td><td>1</td><td>0</td><td>1</td><td>0</td><td>2</td><td>2</td><td>0</td></tr>\n",
       "\t<tr><td>40004</td><td>3</td><td>0</td><td>0</td><td>1</td><td>1</td><td>0</td><td>2</td><td>2</td><td>0</td></tr>\n",
       "</tbody>\n",
       "</table>\n"
      ],
      "text/latex": [
       "A tibble: 6 × 10\n",
       "\\begin{tabular}{llllllllll}\n",
       " respondent\\_id & survey\\_round & is\\_baseline & is\\_midline & is\\_endline & enroll & priority & geo\\_stata\\_zone & trade\\_strata & emp\\\\\n",
       " <dbl> & <dbl+lbl> & <dbl> & <dbl> & <dbl> & <dbl> & <dbl> & <fct> & <fct> & <dbl>\\\\\n",
       "\\hline\n",
       "\t 40003 & 1 & 1 & 0 & 0 & 0 & 0 & 2 & 4 & 0\\\\\n",
       "\t 40003 & 2 & 0 & 1 & 0 & 1 & 0 & 2 & 4 & 0\\\\\n",
       "\t 40003 & 3 & 0 & 0 & 1 & 1 & 0 & 2 & 4 & 0\\\\\n",
       "\t 40004 & 1 & 1 & 0 & 0 & 0 & 0 & 2 & 2 & 0\\\\\n",
       "\t 40004 & 2 & 0 & 1 & 0 & 1 & 0 & 2 & 2 & 0\\\\\n",
       "\t 40004 & 3 & 0 & 0 & 1 & 1 & 0 & 2 & 2 & 0\\\\\n",
       "\\end{tabular}\n"
      ],
      "text/markdown": [
       "\n",
       "A tibble: 6 × 10\n",
       "\n",
       "| respondent_id &lt;dbl&gt; | survey_round &lt;dbl+lbl&gt; | is_baseline &lt;dbl&gt; | is_midline &lt;dbl&gt; | is_endline &lt;dbl&gt; | enroll &lt;dbl&gt; | priority &lt;dbl&gt; | geo_stata_zone &lt;fct&gt; | trade_strata &lt;fct&gt; | emp &lt;dbl&gt; |\n",
       "|---|---|---|---|---|---|---|---|---|---|\n",
       "| 40003 | 1 | 1 | 0 | 0 | 0 | 0 | 2 | 4 | 0 |\n",
       "| 40003 | 2 | 0 | 1 | 0 | 1 | 0 | 2 | 4 | 0 |\n",
       "| 40003 | 3 | 0 | 0 | 1 | 1 | 0 | 2 | 4 | 0 |\n",
       "| 40004 | 1 | 1 | 0 | 0 | 0 | 0 | 2 | 2 | 0 |\n",
       "| 40004 | 2 | 0 | 1 | 0 | 1 | 0 | 2 | 2 | 0 |\n",
       "| 40004 | 3 | 0 | 0 | 1 | 1 | 0 | 2 | 2 | 0 |\n",
       "\n"
      ],
      "text/plain": [
       "  respondent_id survey_round is_baseline is_midline is_endline enroll priority\n",
       "1 40003         1            1           0          0          0      0       \n",
       "2 40003         2            0           1          0          1      0       \n",
       "3 40003         3            0           0          1          1      0       \n",
       "4 40004         1            1           0          0          0      0       \n",
       "5 40004         2            0           1          0          1      0       \n",
       "6 40004         3            0           0          1          1      0       \n",
       "  geo_stata_zone trade_strata emp\n",
       "1 2              4            0  \n",
       "2 2              4            0  \n",
       "3 2              4            0  \n",
       "4 2              2            0  \n",
       "5 2              2            0  \n",
       "6 2              2            0  "
      ]
     },
     "metadata": {},
     "output_type": "display_data"
    }
   ],
   "source": [
    "library(haven)\n",
    "library(tidyverse)\n",
    "library(lfe)\n",
    "jippanel<-read_dta(\"jip_panel_forclass.dta\")\n",
    "jippanel$geo_stata_zone <-as.factor(jippanel$geo_stata_zone)\n",
    "jippanel$trade_strata<-as.factor(jippanel$trade_strata)\n",
    "\n",
    "head(jippanel)\n"
   ]
  },
  {
   "cell_type": "code",
   "execution_count": 17,
   "id": "d76fed86-384c-4ea8-ab2b-f0b33d95125b",
   "metadata": {},
   "outputs": [
    {
     "data": {
      "text/plain": [
       "\n",
       "Call:\n",
       "lm(formula = emp ~ enroll + priority + trade_strata + geo_stata_zone, \n",
       "    data = jipmidline)\n",
       "\n",
       "Residuals:\n",
       "    Min      1Q  Median      3Q     Max \n",
       "-0.7032 -0.3929 -0.2392  0.4639  0.8034 \n",
       "\n",
       "Coefficients:\n",
       "                 Estimate Std. Error t value Pr(>|t|)    \n",
       "(Intercept)      0.533695   0.034615  15.418  < 2e-16 ***\n",
       "enroll          -0.042517   0.024225  -1.755  0.07938 .  \n",
       "priority         0.018228   0.024001   0.759  0.44766    \n",
       "trade_strata2    0.063693   0.023571   2.702  0.00694 ** \n",
       "trade_strata3    0.124563   0.028820   4.322 1.61e-05 ***\n",
       "trade_strata4    0.004241   0.038558   0.110  0.91243    \n",
       "geo_stata_zone2 -0.140784   0.033974  -4.144 3.54e-05 ***\n",
       "geo_stata_zone3  0.044891   0.036050   1.245  0.21317    \n",
       "geo_stata_zone4 -0.294544   0.034703  -8.488  < 2e-16 ***\n",
       "---\n",
       "Signif. codes:  0 ‘***’ 0.001 ‘**’ 0.01 ‘*’ 0.05 ‘.’ 0.1 ‘ ’ 1\n",
       "\n",
       "Residual standard error: 0.4753 on 2259 degrees of freedom\n",
       "  (394 observations deleted due to missingness)\n",
       "Multiple R-squared:  0.0807,\tAdjusted R-squared:  0.07744 \n",
       "F-statistic: 24.79 on 8 and 2259 DF,  p-value: < 2.2e-16\n"
      ]
     },
     "metadata": {},
     "output_type": "display_data"
    }
   ],
   "source": [
    "jipmidline<-subset(jippanel, survey_round==2)\n",
    "reg1 <-lm(emp~enroll + priority + trade_strata+ geo_stata_zone, data = jipmidline)\n",
    "summary(reg1)"
   ]
  },
  {
   "cell_type": "code",
   "execution_count": 18,
   "id": "11e8565e-9616-4d4c-aed6-438176b387b4",
   "metadata": {},
   "outputs": [
    {
     "data": {
      "text/plain": [
       "\n",
       "Call:\n",
       "lm(formula = emp ~ enroll + priority + trade_strata + geo_stata_zone, \n",
       "    data = jipmidline)\n",
       "\n",
       "Residuals:\n",
       "    Min      1Q  Median      3Q     Max \n",
       "-0.7032 -0.3929 -0.2392  0.4639  0.8034 \n",
       "\n",
       "Coefficients:\n",
       "                 Estimate Std. Error t value Pr(>|t|)    \n",
       "(Intercept)      0.533695   0.034615  15.418  < 2e-16 ***\n",
       "enroll          -0.042517   0.024225  -1.755  0.07938 .  \n",
       "priority         0.018228   0.024001   0.759  0.44766    \n",
       "trade_strata2    0.063693   0.023571   2.702  0.00694 ** \n",
       "trade_strata3    0.124563   0.028820   4.322 1.61e-05 ***\n",
       "trade_strata4    0.004241   0.038558   0.110  0.91243    \n",
       "geo_stata_zone2 -0.140784   0.033974  -4.144 3.54e-05 ***\n",
       "geo_stata_zone3  0.044891   0.036050   1.245  0.21317    \n",
       "geo_stata_zone4 -0.294544   0.034703  -8.488  < 2e-16 ***\n",
       "---\n",
       "Signif. codes:  0 ‘***’ 0.001 ‘**’ 0.01 ‘*’ 0.05 ‘.’ 0.1 ‘ ’ 1\n",
       "\n",
       "Residual standard error: 0.4753 on 2259 degrees of freedom\n",
       "  (394 observations deleted due to missingness)\n",
       "Multiple R-squared:  0.0807,\tAdjusted R-squared:  0.07744 \n",
       "F-statistic: 24.79 on 8 and 2259 DF,  p-value: < 2.2e-16\n"
      ]
     },
     "metadata": {},
     "output_type": "display_data"
    }
   ],
   "source": [
    "reg2 <-lm(emp~enroll + priority + trade_strata+ geo_stata_zone, data = jippanel)\n",
    "summary(reg1)"
   ]
  },
  {
   "cell_type": "code",
   "execution_count": 19,
   "id": "09e93b7c-1acc-4c00-afe3-869e2a364143",
   "metadata": {},
   "outputs": [
    {
     "data": {
      "text/plain": [
       "\n",
       "Call:\n",
       "   felm(formula = emp ~ enroll + priority + is_midline + is_endline |      respondent_id | 0 | respondent_id, data = jippanel) \n",
       "\n",
       "Residuals:\n",
       "     Min       1Q   Median       3Q      Max \n",
       "-0.74493 -0.06372 -0.01155  0.09141  0.78717 \n",
       "\n",
       "Coefficients:\n",
       "           Estimate Cluster s.e. t value Pr(>|t|)    \n",
       "enroll     -0.09205      0.02165  -4.252 2.19e-05 ***\n",
       "priority    0.04840      0.02061   2.349   0.0189 *  \n",
       "is_midline  0.16274      0.01712   9.505  < 2e-16 ***\n",
       "is_endline  0.19877      0.01797  11.061  < 2e-16 ***\n",
       "---\n",
       "Signif. codes:  0 ‘***’ 0.001 ‘**’ 0.01 ‘*’ 0.05 ‘.’ 0.1 ‘ ’ 1\n",
       "\n",
       "Residual standard error: 0.3251 on 4200 degrees of freedom\n",
       "  (1120 observations deleted due to missingness)\n",
       "Multiple R-squared(full model): 0.7297   Adjusted R-squared: 0.5582 \n",
       "Multiple R-squared(proj model): 0.05903   Adjusted R-squared: -0.538 \n",
       "F-statistic(full model, *iid*):4.254 on 2665 and 4200 DF, p-value: < 2.2e-16 \n",
       "F-statistic(proj model): 58.81 on 4 and 2661 DF, p-value: < 2.2e-16 \n",
       "\n"
      ]
     },
     "metadata": {},
     "output_type": "display_data"
    }
   ],
   "source": [
    "reg3 <- felm(emp~enroll + priority + is_midline + is_endline|respondent_id|0|respondent_id, data = jippanel)\n",
    "summary(reg3)"
   ]
  },
  {
   "cell_type": "code",
   "execution_count": null,
   "id": "a404fa19-a778-4014-9665-e09bdb19a9d2",
   "metadata": {},
   "outputs": [],
   "source": []
  }
 ],
 "metadata": {
  "kernelspec": {
   "display_name": "R",
   "language": "R",
   "name": "ir"
  },
  "language_info": {
   "codemirror_mode": "r",
   "file_extension": ".r",
   "mimetype": "text/x-r-source",
   "name": "R",
   "pygments_lexer": "r",
   "version": "4.4.1"
  }
 },
 "nbformat": 4,
 "nbformat_minor": 5
}
