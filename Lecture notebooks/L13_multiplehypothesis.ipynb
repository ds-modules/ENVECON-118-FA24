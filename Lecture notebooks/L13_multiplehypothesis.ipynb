{
 "cells": [
  {
   "cell_type": "code",
   "execution_count": 1,
   "metadata": {},
   "outputs": [],
   "source": [
    "library(haven)"
   ]
  },
  {
   "cell_type": "code",
   "execution_count": null,
   "metadata": {},
   "outputs": [],
   "source": []
  },
  {
   "cell_type": "code",
   "execution_count": 2,
   "metadata": {
    "scrolled": true
   },
   "outputs": [
    {
     "data": {
      "text/html": [
       "<table class=\"dataframe\">\n",
       "<caption>A tibble: 6 × 17</caption>\n",
       "<thead>\n",
       "\t<tr><th scope=col>lnchprg</th><th scope=col>enroll</th><th scope=col>staff</th><th scope=col>expend</th><th scope=col>salary</th><th scope=col>benefits</th><th scope=col>droprate</th><th scope=col>gradrate</th><th scope=col>math10</th><th scope=col>sci11</th><th scope=col>totcomp</th><th scope=col>ltotcomp</th><th scope=col>lexpend</th><th scope=col>lenroll</th><th scope=col>lstaff</th><th scope=col>bensal</th><th scope=col>lsalary</th></tr>\n",
       "\t<tr><th scope=col>&lt;dbl&gt;</th><th scope=col>&lt;dbl&gt;</th><th scope=col>&lt;dbl&gt;</th><th scope=col>&lt;dbl&gt;</th><th scope=col>&lt;dbl&gt;</th><th scope=col>&lt;dbl&gt;</th><th scope=col>&lt;dbl&gt;</th><th scope=col>&lt;dbl&gt;</th><th scope=col>&lt;dbl&gt;</th><th scope=col>&lt;dbl&gt;</th><th scope=col>&lt;dbl&gt;</th><th scope=col>&lt;dbl&gt;</th><th scope=col>&lt;dbl&gt;</th><th scope=col>&lt;dbl&gt;</th><th scope=col>&lt;dbl&gt;</th><th scope=col>&lt;dbl&gt;</th><th scope=col>&lt;dbl&gt;</th></tr>\n",
       "</thead>\n",
       "<tbody>\n",
       "\t<tr><td>1.4</td><td> 1862</td><td>112.6</td><td>5765</td><td>37498</td><td> 7420</td><td>2.9</td><td> 89.2</td><td>56.4</td><td>67.9</td><td>44918</td><td>10.71259</td><td>8.659560</td><td>7.529407</td><td>4.723842</td><td>0.1978772</td><td>10.53204</td></tr>\n",
       "\t<tr><td>2.3</td><td>11355</td><td>101.2</td><td>6601</td><td>48722</td><td>10370</td><td>1.3</td><td> 91.4</td><td>42.7</td><td>65.3</td><td>59092</td><td>10.98685</td><td>8.794976</td><td>9.337414</td><td>4.617099</td><td>0.2128402</td><td>10.79389</td></tr>\n",
       "\t<tr><td>2.7</td><td> 7685</td><td>114.0</td><td>6834</td><td>44541</td><td> 7313</td><td>3.5</td><td> 91.4</td><td>43.8</td><td>54.3</td><td>51854</td><td>10.85619</td><td>8.829665</td><td>8.947025</td><td>4.736198</td><td>0.1641858</td><td>10.70417</td></tr>\n",
       "\t<tr><td>3.4</td><td> 1148</td><td> 85.4</td><td>3586</td><td>31566</td><td> 5989</td><td>3.6</td><td> 86.6</td><td>25.3</td><td>60.0</td><td>37555</td><td>10.53356</td><td>8.184793</td><td>7.045776</td><td>4.447346</td><td>0.1897295</td><td>10.35984</td></tr>\n",
       "\t<tr><td>3.4</td><td> 1572</td><td> 96.1</td><td>3847</td><td>29781</td><td> 5545</td><td>0.0</td><td>100.0</td><td>15.3</td><td>65.8</td><td>35326</td><td>10.47237</td><td>8.255049</td><td>7.360104</td><td>4.565389</td><td>0.1861925</td><td>10.30163</td></tr>\n",
       "\t<tr><td>3.4</td><td> 2496</td><td>101.1</td><td>5070</td><td>36801</td><td> 5895</td><td>2.7</td><td> 89.2</td><td>46.0</td><td>60.5</td><td>42696</td><td>10.66186</td><td>8.531096</td><td>7.822445</td><td>4.616110</td><td>0.1601859</td><td>10.51328</td></tr>\n",
       "</tbody>\n",
       "</table>\n"
      ],
      "text/latex": [
       "A tibble: 6 × 17\n",
       "\\begin{tabular}{lllllllllllllllll}\n",
       " lnchprg & enroll & staff & expend & salary & benefits & droprate & gradrate & math10 & sci11 & totcomp & ltotcomp & lexpend & lenroll & lstaff & bensal & lsalary\\\\\n",
       " <dbl> & <dbl> & <dbl> & <dbl> & <dbl> & <dbl> & <dbl> & <dbl> & <dbl> & <dbl> & <dbl> & <dbl> & <dbl> & <dbl> & <dbl> & <dbl> & <dbl>\\\\\n",
       "\\hline\n",
       "\t 1.4 &  1862 & 112.6 & 5765 & 37498 &  7420 & 2.9 &  89.2 & 56.4 & 67.9 & 44918 & 10.71259 & 8.659560 & 7.529407 & 4.723842 & 0.1978772 & 10.53204\\\\\n",
       "\t 2.3 & 11355 & 101.2 & 6601 & 48722 & 10370 & 1.3 &  91.4 & 42.7 & 65.3 & 59092 & 10.98685 & 8.794976 & 9.337414 & 4.617099 & 0.2128402 & 10.79389\\\\\n",
       "\t 2.7 &  7685 & 114.0 & 6834 & 44541 &  7313 & 3.5 &  91.4 & 43.8 & 54.3 & 51854 & 10.85619 & 8.829665 & 8.947025 & 4.736198 & 0.1641858 & 10.70417\\\\\n",
       "\t 3.4 &  1148 &  85.4 & 3586 & 31566 &  5989 & 3.6 &  86.6 & 25.3 & 60.0 & 37555 & 10.53356 & 8.184793 & 7.045776 & 4.447346 & 0.1897295 & 10.35984\\\\\n",
       "\t 3.4 &  1572 &  96.1 & 3847 & 29781 &  5545 & 0.0 & 100.0 & 15.3 & 65.8 & 35326 & 10.47237 & 8.255049 & 7.360104 & 4.565389 & 0.1861925 & 10.30163\\\\\n",
       "\t 3.4 &  2496 & 101.1 & 5070 & 36801 &  5895 & 2.7 &  89.2 & 46.0 & 60.5 & 42696 & 10.66186 & 8.531096 & 7.822445 & 4.616110 & 0.1601859 & 10.51328\\\\\n",
       "\\end{tabular}\n"
      ],
      "text/markdown": [
       "\n",
       "A tibble: 6 × 17\n",
       "\n",
       "| lnchprg &lt;dbl&gt; | enroll &lt;dbl&gt; | staff &lt;dbl&gt; | expend &lt;dbl&gt; | salary &lt;dbl&gt; | benefits &lt;dbl&gt; | droprate &lt;dbl&gt; | gradrate &lt;dbl&gt; | math10 &lt;dbl&gt; | sci11 &lt;dbl&gt; | totcomp &lt;dbl&gt; | ltotcomp &lt;dbl&gt; | lexpend &lt;dbl&gt; | lenroll &lt;dbl&gt; | lstaff &lt;dbl&gt; | bensal &lt;dbl&gt; | lsalary &lt;dbl&gt; |\n",
       "|---|---|---|---|---|---|---|---|---|---|---|---|---|---|---|---|---|\n",
       "| 1.4 |  1862 | 112.6 | 5765 | 37498 |  7420 | 2.9 |  89.2 | 56.4 | 67.9 | 44918 | 10.71259 | 8.659560 | 7.529407 | 4.723842 | 0.1978772 | 10.53204 |\n",
       "| 2.3 | 11355 | 101.2 | 6601 | 48722 | 10370 | 1.3 |  91.4 | 42.7 | 65.3 | 59092 | 10.98685 | 8.794976 | 9.337414 | 4.617099 | 0.2128402 | 10.79389 |\n",
       "| 2.7 |  7685 | 114.0 | 6834 | 44541 |  7313 | 3.5 |  91.4 | 43.8 | 54.3 | 51854 | 10.85619 | 8.829665 | 8.947025 | 4.736198 | 0.1641858 | 10.70417 |\n",
       "| 3.4 |  1148 |  85.4 | 3586 | 31566 |  5989 | 3.6 |  86.6 | 25.3 | 60.0 | 37555 | 10.53356 | 8.184793 | 7.045776 | 4.447346 | 0.1897295 | 10.35984 |\n",
       "| 3.4 |  1572 |  96.1 | 3847 | 29781 |  5545 | 0.0 | 100.0 | 15.3 | 65.8 | 35326 | 10.47237 | 8.255049 | 7.360104 | 4.565389 | 0.1861925 | 10.30163 |\n",
       "| 3.4 |  2496 | 101.1 | 5070 | 36801 |  5895 | 2.7 |  89.2 | 46.0 | 60.5 | 42696 | 10.66186 | 8.531096 | 7.822445 | 4.616110 | 0.1601859 | 10.51328 |\n",
       "\n"
      ],
      "text/plain": [
       "  lnchprg enroll staff expend salary benefits droprate gradrate math10 sci11\n",
       "1 1.4      1862  112.6 5765   37498   7420    2.9       89.2    56.4   67.9 \n",
       "2 2.3     11355  101.2 6601   48722  10370    1.3       91.4    42.7   65.3 \n",
       "3 2.7      7685  114.0 6834   44541   7313    3.5       91.4    43.8   54.3 \n",
       "4 3.4      1148   85.4 3586   31566   5989    3.6       86.6    25.3   60.0 \n",
       "5 3.4      1572   96.1 3847   29781   5545    0.0      100.0    15.3   65.8 \n",
       "6 3.4      2496  101.1 5070   36801   5895    2.7       89.2    46.0   60.5 \n",
       "  totcomp ltotcomp lexpend  lenroll  lstaff   bensal    lsalary \n",
       "1 44918   10.71259 8.659560 7.529407 4.723842 0.1978772 10.53204\n",
       "2 59092   10.98685 8.794976 9.337414 4.617099 0.2128402 10.79389\n",
       "3 51854   10.85619 8.829665 8.947025 4.736198 0.1641858 10.70417\n",
       "4 37555   10.53356 8.184793 7.045776 4.447346 0.1897295 10.35984\n",
       "5 35326   10.47237 8.255049 7.360104 4.565389 0.1861925 10.30163\n",
       "6 42696   10.66186 8.531096 7.822445 4.616110 0.1601859 10.51328"
      ]
     },
     "metadata": {},
     "output_type": "display_data"
    }
   ],
   "source": [
    "#load Ed Data\n",
    "meapdata<-read_dta(\"MEAP93.dta\")\n",
    "head(meapdata)"
   ]
  },
  {
   "cell_type": "code",
   "execution_count": 3,
   "metadata": {},
   "outputs": [
    {
     "data": {
      "text/plain": [
       "\n",
       "Call:\n",
       "lm(formula = math10 ~ enroll + totcomp + staff, data = meapdata)\n",
       "\n",
       "Residuals:\n",
       "    Min      1Q  Median      3Q     Max \n",
       "-22.235  -7.008  -0.807   6.097  40.689 \n",
       "\n",
       "Coefficients:\n",
       "              Estimate Std. Error t value Pr(>|t|)    \n",
       "(Intercept)  2.2740209  6.1137938   0.372    0.710    \n",
       "enroll      -0.0001976  0.0002152  -0.918    0.359    \n",
       "totcomp      0.0004586  0.0001004   4.570 6.49e-06 ***\n",
       "staff        0.0479199  0.0398140   1.204    0.229    \n",
       "---\n",
       "Signif. codes:  0 ‘***’ 0.001 ‘**’ 0.01 ‘*’ 0.05 ‘.’ 0.1 ‘ ’ 1\n",
       "\n",
       "Residual standard error: 10.24 on 404 degrees of freedom\n",
       "Multiple R-squared:  0.05406,\tAdjusted R-squared:  0.04704 \n",
       "F-statistic: 7.697 on 3 and 404 DF,  p-value: 5.179e-05\n"
      ]
     },
     "metadata": {},
     "output_type": "display_data"
    }
   ],
   "source": [
    "#regress test scores on enrollment, total compensation and number of staff\n",
    "reg2<-lm(math10~enroll + totcomp + staff, data = meapdata)\n",
    "summary(reg2)"
   ]
  },
  {
   "cell_type": "code",
   "execution_count": 4,
   "metadata": {},
   "outputs": [
    {
     "data": {
      "text/plain": [
       "\n",
       "Call:\n",
       "lm(formula = math10 ~ lenroll + ltotcomp + lstaff, data = meapdata)\n",
       "\n",
       "Residuals:\n",
       "    Min      1Q  Median      3Q     Max \n",
       "-22.735  -6.838  -0.835   6.139  39.718 \n",
       "\n",
       "Coefficients:\n",
       "             Estimate Std. Error t value Pr(>|t|)    \n",
       "(Intercept) -207.6648    48.7031  -4.264 2.50e-05 ***\n",
       "lenroll       -1.2680     0.6932  -1.829   0.0681 .  \n",
       "ltotcomp      21.1550     4.0555   5.216 2.92e-07 ***\n",
       "lstaff         3.9800     4.1897   0.950   0.3427    \n",
       "---\n",
       "Signif. codes:  0 ‘***’ 0.001 ‘**’ 0.01 ‘*’ 0.05 ‘.’ 0.1 ‘ ’ 1\n",
       "\n",
       "Residual standard error: 10.18 on 404 degrees of freedom\n",
       "Multiple R-squared:  0.06538,\tAdjusted R-squared:  0.05844 \n",
       "F-statistic:  9.42 on 3 and 404 DF,  p-value: 4.974e-06\n"
      ]
     },
     "metadata": {},
     "output_type": "display_data"
    }
   ],
   "source": [
    "#regress test scores on log enrollment, log compensation, and log staff\n",
    "reg3 <-lm(math10~lenroll + ltotcomp + lstaff, data = meapdata)\n",
    "summary(reg3)"
   ]
  },
  {
   "cell_type": "code",
   "execution_count": 5,
   "metadata": {},
   "outputs": [
    {
     "data": {
      "text/html": [
       "<table class=\"dataframe\">\n",
       "<caption>A tibble: 6 × 23</caption>\n",
       "<thead>\n",
       "\t<tr><th scope=col>female</th><th scope=col>phsrank</th><th scope=col>BA</th><th scope=col>AA</th><th scope=col>black</th><th scope=col>hispanic</th><th scope=col>id</th><th scope=col>exper</th><th scope=col>jc</th><th scope=col>univ</th><th scope=col>⋯</th><th scope=col>medcity</th><th scope=col>submed</th><th scope=col>lgcity</th><th scope=col>sublg</th><th scope=col>vlgcity</th><th scope=col>subvlg</th><th scope=col>ne</th><th scope=col>nc</th><th scope=col>south</th><th scope=col>totcoll</th></tr>\n",
       "\t<tr><th scope=col>&lt;dbl&gt;</th><th scope=col>&lt;dbl&gt;</th><th scope=col>&lt;dbl&gt;</th><th scope=col>&lt;dbl&gt;</th><th scope=col>&lt;dbl&gt;</th><th scope=col>&lt;dbl&gt;</th><th scope=col>&lt;dbl&gt;</th><th scope=col>&lt;dbl&gt;</th><th scope=col>&lt;dbl&gt;</th><th scope=col>&lt;dbl&gt;</th><th scope=col>⋯</th><th scope=col>&lt;dbl&gt;</th><th scope=col>&lt;dbl&gt;</th><th scope=col>&lt;dbl&gt;</th><th scope=col>&lt;dbl&gt;</th><th scope=col>&lt;dbl&gt;</th><th scope=col>&lt;dbl&gt;</th><th scope=col>&lt;dbl&gt;</th><th scope=col>&lt;dbl&gt;</th><th scope=col>&lt;dbl&gt;</th><th scope=col>&lt;dbl&gt;</th></tr>\n",
       "</thead>\n",
       "<tbody>\n",
       "\t<tr><td>1</td><td>65</td><td>0</td><td>0</td><td>0</td><td>0</td><td> 19</td><td>161</td><td>0.0000000</td><td>0.000000</td><td>⋯</td><td>0</td><td>0</td><td>0</td><td>1</td><td>0</td><td>0</td><td>1</td><td>0</td><td>0</td><td>0.0000000</td></tr>\n",
       "\t<tr><td>1</td><td>97</td><td>0</td><td>0</td><td>0</td><td>0</td><td> 93</td><td>119</td><td>0.0000000</td><td>7.033333</td><td>⋯</td><td>0</td><td>0</td><td>0</td><td>0</td><td>0</td><td>0</td><td>0</td><td>1</td><td>0</td><td>7.0333333</td></tr>\n",
       "\t<tr><td>1</td><td>44</td><td>0</td><td>0</td><td>0</td><td>0</td><td> 96</td><td> 81</td><td>0.0000000</td><td>0.000000</td><td>⋯</td><td>0</td><td>0</td><td>0</td><td>1</td><td>0</td><td>0</td><td>1</td><td>0</td><td>0</td><td>0.0000000</td></tr>\n",
       "\t<tr><td>1</td><td>34</td><td>0</td><td>0</td><td>0</td><td>1</td><td>119</td><td> 39</td><td>0.2666667</td><td>0.000000</td><td>⋯</td><td>0</td><td>0</td><td>0</td><td>0</td><td>0</td><td>0</td><td>0</td><td>0</td><td>0</td><td>0.2666667</td></tr>\n",
       "\t<tr><td>1</td><td>80</td><td>0</td><td>0</td><td>0</td><td>0</td><td>132</td><td>141</td><td>0.0000000</td><td>0.000000</td><td>⋯</td><td>0</td><td>0</td><td>0</td><td>0</td><td>0</td><td>0</td><td>0</td><td>0</td><td>1</td><td>0.0000000</td></tr>\n",
       "\t<tr><td>0</td><td>59</td><td>0</td><td>0</td><td>0</td><td>0</td><td>156</td><td>165</td><td>0.0000000</td><td>0.000000</td><td>⋯</td><td>0</td><td>0</td><td>0</td><td>0</td><td>0</td><td>0</td><td>0</td><td>0</td><td>1</td><td>0.0000000</td></tr>\n",
       "</tbody>\n",
       "</table>\n"
      ],
      "text/latex": [
       "A tibble: 6 × 23\n",
       "\\begin{tabular}{lllllllllllllllllllll}\n",
       " female & phsrank & BA & AA & black & hispanic & id & exper & jc & univ & ⋯ & medcity & submed & lgcity & sublg & vlgcity & subvlg & ne & nc & south & totcoll\\\\\n",
       " <dbl> & <dbl> & <dbl> & <dbl> & <dbl> & <dbl> & <dbl> & <dbl> & <dbl> & <dbl> & ⋯ & <dbl> & <dbl> & <dbl> & <dbl> & <dbl> & <dbl> & <dbl> & <dbl> & <dbl> & <dbl>\\\\\n",
       "\\hline\n",
       "\t 1 & 65 & 0 & 0 & 0 & 0 &  19 & 161 & 0.0000000 & 0.000000 & ⋯ & 0 & 0 & 0 & 1 & 0 & 0 & 1 & 0 & 0 & 0.0000000\\\\\n",
       "\t 1 & 97 & 0 & 0 & 0 & 0 &  93 & 119 & 0.0000000 & 7.033333 & ⋯ & 0 & 0 & 0 & 0 & 0 & 0 & 0 & 1 & 0 & 7.0333333\\\\\n",
       "\t 1 & 44 & 0 & 0 & 0 & 0 &  96 &  81 & 0.0000000 & 0.000000 & ⋯ & 0 & 0 & 0 & 1 & 0 & 0 & 1 & 0 & 0 & 0.0000000\\\\\n",
       "\t 1 & 34 & 0 & 0 & 0 & 1 & 119 &  39 & 0.2666667 & 0.000000 & ⋯ & 0 & 0 & 0 & 0 & 0 & 0 & 0 & 0 & 0 & 0.2666667\\\\\n",
       "\t 1 & 80 & 0 & 0 & 0 & 0 & 132 & 141 & 0.0000000 & 0.000000 & ⋯ & 0 & 0 & 0 & 0 & 0 & 0 & 0 & 0 & 1 & 0.0000000\\\\\n",
       "\t 0 & 59 & 0 & 0 & 0 & 0 & 156 & 165 & 0.0000000 & 0.000000 & ⋯ & 0 & 0 & 0 & 0 & 0 & 0 & 0 & 0 & 1 & 0.0000000\\\\\n",
       "\\end{tabular}\n"
      ],
      "text/markdown": [
       "\n",
       "A tibble: 6 × 23\n",
       "\n",
       "| female &lt;dbl&gt; | phsrank &lt;dbl&gt; | BA &lt;dbl&gt; | AA &lt;dbl&gt; | black &lt;dbl&gt; | hispanic &lt;dbl&gt; | id &lt;dbl&gt; | exper &lt;dbl&gt; | jc &lt;dbl&gt; | univ &lt;dbl&gt; | ⋯ ⋯ | medcity &lt;dbl&gt; | submed &lt;dbl&gt; | lgcity &lt;dbl&gt; | sublg &lt;dbl&gt; | vlgcity &lt;dbl&gt; | subvlg &lt;dbl&gt; | ne &lt;dbl&gt; | nc &lt;dbl&gt; | south &lt;dbl&gt; | totcoll &lt;dbl&gt; |\n",
       "|---|---|---|---|---|---|---|---|---|---|---|---|---|---|---|---|---|---|---|---|---|\n",
       "| 1 | 65 | 0 | 0 | 0 | 0 |  19 | 161 | 0.0000000 | 0.000000 | ⋯ | 0 | 0 | 0 | 1 | 0 | 0 | 1 | 0 | 0 | 0.0000000 |\n",
       "| 1 | 97 | 0 | 0 | 0 | 0 |  93 | 119 | 0.0000000 | 7.033333 | ⋯ | 0 | 0 | 0 | 0 | 0 | 0 | 0 | 1 | 0 | 7.0333333 |\n",
       "| 1 | 44 | 0 | 0 | 0 | 0 |  96 |  81 | 0.0000000 | 0.000000 | ⋯ | 0 | 0 | 0 | 1 | 0 | 0 | 1 | 0 | 0 | 0.0000000 |\n",
       "| 1 | 34 | 0 | 0 | 0 | 1 | 119 |  39 | 0.2666667 | 0.000000 | ⋯ | 0 | 0 | 0 | 0 | 0 | 0 | 0 | 0 | 0 | 0.2666667 |\n",
       "| 1 | 80 | 0 | 0 | 0 | 0 | 132 | 141 | 0.0000000 | 0.000000 | ⋯ | 0 | 0 | 0 | 0 | 0 | 0 | 0 | 0 | 1 | 0.0000000 |\n",
       "| 0 | 59 | 0 | 0 | 0 | 0 | 156 | 165 | 0.0000000 | 0.000000 | ⋯ | 0 | 0 | 0 | 0 | 0 | 0 | 0 | 0 | 1 | 0.0000000 |\n",
       "\n"
      ],
      "text/plain": [
       "  female phsrank BA AA black hispanic id  exper jc        univ     ⋯ medcity\n",
       "1 1      65      0  0  0     0         19 161   0.0000000 0.000000 ⋯ 0      \n",
       "2 1      97      0  0  0     0         93 119   0.0000000 7.033333 ⋯ 0      \n",
       "3 1      44      0  0  0     0         96  81   0.0000000 0.000000 ⋯ 0      \n",
       "4 1      34      0  0  0     1        119  39   0.2666667 0.000000 ⋯ 0      \n",
       "5 1      80      0  0  0     0        132 141   0.0000000 0.000000 ⋯ 0      \n",
       "6 0      59      0  0  0     0        156 165   0.0000000 0.000000 ⋯ 0      \n",
       "  submed lgcity sublg vlgcity subvlg ne nc south totcoll  \n",
       "1 0      0      1     0       0      1  0  0     0.0000000\n",
       "2 0      0      0     0       0      0  1  0     7.0333333\n",
       "3 0      0      1     0       0      1  0  0     0.0000000\n",
       "4 0      0      0     0       0      0  0  0     0.2666667\n",
       "5 0      0      0     0       0      0  0  1     0.0000000\n",
       "6 0      0      0     0       0      0  0  1     0.0000000"
      ]
     },
     "metadata": {},
     "output_type": "display_data"
    }
   ],
   "source": [
    "#use twoyeardataset\n",
    "twoyeardata<- read_dta(\"twoyear.dta\")\n",
    "head(twoyeardata)"
   ]
  },
  {
   "cell_type": "code",
   "execution_count": 6,
   "metadata": {},
   "outputs": [
    {
     "data": {
      "text/plain": [
       "\n",
       "Call:\n",
       "lm(formula = lwage ~ jc + univ + exper, data = twoyeardata)\n",
       "\n",
       "Residuals:\n",
       "     Min       1Q   Median       3Q      Max \n",
       "-2.10362 -0.28132  0.00551  0.28518  1.78167 \n",
       "\n",
       "Coefficients:\n",
       "             Estimate Std. Error t value Pr(>|t|)    \n",
       "(Intercept) 1.4723256  0.0210602  69.910   <2e-16 ***\n",
       "jc          0.0666967  0.0068288   9.767   <2e-16 ***\n",
       "univ        0.0768762  0.0023087  33.298   <2e-16 ***\n",
       "exper       0.0049442  0.0001575  31.397   <2e-16 ***\n",
       "---\n",
       "Signif. codes:  0 ‘***’ 0.001 ‘**’ 0.01 ‘*’ 0.05 ‘.’ 0.1 ‘ ’ 1\n",
       "\n",
       "Residual standard error: 0.4301 on 6759 degrees of freedom\n",
       "Multiple R-squared:  0.2224,\tAdjusted R-squared:  0.2221 \n",
       "F-statistic: 644.5 on 3 and 6759 DF,  p-value: < 2.2e-16\n"
      ]
     },
     "metadata": {},
     "output_type": "display_data"
    }
   ],
   "source": [
    "#generate regression model\n",
    "reg4 <- lm(lwage ~ jc + univ + exper, data = twoyeardata)\n",
    "summary(reg4)"
   ]
  },
  {
   "cell_type": "code",
   "execution_count": 7,
   "metadata": {},
   "outputs": [
    {
     "name": "stderr",
     "output_type": "stream",
     "text": [
      "Loading required package: carData\n",
      "\n"
     ]
    },
    {
     "data": {
      "text/html": [
       "<table class=\"dataframe\">\n",
       "<caption>A anova: 2 × 6</caption>\n",
       "<thead>\n",
       "\t<tr><th></th><th scope=col>Res.Df</th><th scope=col>RSS</th><th scope=col>Df</th><th scope=col>Sum of Sq</th><th scope=col>F</th><th scope=col>Pr(&gt;F)</th></tr>\n",
       "\t<tr><th></th><th scope=col>&lt;dbl&gt;</th><th scope=col>&lt;dbl&gt;</th><th scope=col>&lt;dbl&gt;</th><th scope=col>&lt;dbl&gt;</th><th scope=col>&lt;dbl&gt;</th><th scope=col>&lt;dbl&gt;</th></tr>\n",
       "</thead>\n",
       "<tbody>\n",
       "\t<tr><th scope=row>1</th><td>6760</td><td>1250.942</td><td>NA</td><td>       NA</td><td>      NA</td><td>      NA</td></tr>\n",
       "\t<tr><th scope=row>2</th><td>6759</td><td>1250.544</td><td> 1</td><td>0.3985339</td><td>2.154016</td><td>0.142244</td></tr>\n",
       "</tbody>\n",
       "</table>\n"
      ],
      "text/latex": [
       "A anova: 2 × 6\n",
       "\\begin{tabular}{r|llllll}\n",
       "  & Res.Df & RSS & Df & Sum of Sq & F & Pr(>F)\\\\\n",
       "  & <dbl> & <dbl> & <dbl> & <dbl> & <dbl> & <dbl>\\\\\n",
       "\\hline\n",
       "\t1 & 6760 & 1250.942 & NA &        NA &       NA &       NA\\\\\n",
       "\t2 & 6759 & 1250.544 &  1 & 0.3985339 & 2.154016 & 0.142244\\\\\n",
       "\\end{tabular}\n"
      ],
      "text/markdown": [
       "\n",
       "A anova: 2 × 6\n",
       "\n",
       "| <!--/--> | Res.Df &lt;dbl&gt; | RSS &lt;dbl&gt; | Df &lt;dbl&gt; | Sum of Sq &lt;dbl&gt; | F &lt;dbl&gt; | Pr(&gt;F) &lt;dbl&gt; |\n",
       "|---|---|---|---|---|---|---|\n",
       "| 1 | 6760 | 1250.942 | NA |        NA |       NA |       NA |\n",
       "| 2 | 6759 | 1250.544 |  1 | 0.3985339 | 2.154016 | 0.142244 |\n",
       "\n"
      ],
      "text/plain": [
       "  Res.Df RSS      Df Sum of Sq F        Pr(>F)  \n",
       "1 6760   1250.942 NA        NA       NA       NA\n",
       "2 6759   1250.544  1 0.3985339 2.154016 0.142244"
      ]
     },
     "metadata": {},
     "output_type": "display_data"
    }
   ],
   "source": [
    "#test for equality of coefficients.  Need \"car\" library\n",
    "library(car)\n",
    "#command linearHypothesis takes the regression object, and then states the model\n",
    "linearHypothesis(reg4, \"jc = univ\")"
   ]
  },
  {
   "cell_type": "code",
   "execution_count": 8,
   "metadata": {},
   "outputs": [
    {
     "data": {
      "text/plain": [
       "\n",
       "Call:\n",
       "lm(formula = lwage ~ jc + allschool + exper, data = twoyeardata)\n",
       "\n",
       "Residuals:\n",
       "     Min       1Q   Median       3Q      Max \n",
       "-2.10362 -0.28132  0.00551  0.28518  1.78167 \n",
       "\n",
       "Coefficients:\n",
       "              Estimate Std. Error t value Pr(>|t|)    \n",
       "(Intercept)  1.4723256  0.0210602  69.910   <2e-16 ***\n",
       "jc          -0.0101795  0.0069359  -1.468    0.142    \n",
       "allschool    0.0768762  0.0023087  33.298   <2e-16 ***\n",
       "exper        0.0049442  0.0001575  31.397   <2e-16 ***\n",
       "---\n",
       "Signif. codes:  0 ‘***’ 0.001 ‘**’ 0.01 ‘*’ 0.05 ‘.’ 0.1 ‘ ’ 1\n",
       "\n",
       "Residual standard error: 0.4301 on 6759 degrees of freedom\n",
       "Multiple R-squared:  0.2224,\tAdjusted R-squared:  0.2221 \n",
       "F-statistic: 644.5 on 3 and 6759 DF,  p-value: < 2.2e-16\n"
      ]
     },
     "metadata": {},
     "output_type": "display_data"
    }
   ],
   "source": [
    "#alternative: rewrite the model\n",
    "twoyeardata[,\"allschool\"]= twoyeardata[,\"jc\"]+twoyeardata[,\"univ\"]\n",
    "reg5 <- lm(lwage ~ jc + allschool + exper, data = twoyeardata)\n",
    "summary(reg5)"
   ]
  },
  {
   "cell_type": "code",
   "execution_count": 9,
   "metadata": {},
   "outputs": [
    {
     "data": {
      "text/html": [
       "<table class=\"dataframe\">\n",
       "<caption>A tibble: 6 × 14</caption>\n",
       "<thead>\n",
       "\t<tr><th scope=col>faminc</th><th scope=col>cigtax</th><th scope=col>cigprice</th><th scope=col>bwght</th><th scope=col>fatheduc</th><th scope=col>motheduc</th><th scope=col>parity</th><th scope=col>male</th><th scope=col>white</th><th scope=col>cigs</th><th scope=col>lbwght</th><th scope=col>bwghtlbs</th><th scope=col>packs</th><th scope=col>lfaminc</th></tr>\n",
       "\t<tr><th scope=col>&lt;dbl&gt;</th><th scope=col>&lt;dbl&gt;</th><th scope=col>&lt;dbl&gt;</th><th scope=col>&lt;dbl&gt;</th><th scope=col>&lt;dbl&gt;</th><th scope=col>&lt;dbl&gt;</th><th scope=col>&lt;dbl&gt;</th><th scope=col>&lt;dbl&gt;</th><th scope=col>&lt;dbl&gt;</th><th scope=col>&lt;dbl&gt;</th><th scope=col>&lt;dbl&gt;</th><th scope=col>&lt;dbl&gt;</th><th scope=col>&lt;dbl&gt;</th><th scope=col>&lt;dbl&gt;</th></tr>\n",
       "</thead>\n",
       "<tbody>\n",
       "\t<tr><td>13.5</td><td>16.5</td><td>122.3</td><td>109</td><td>12</td><td>12</td><td>1</td><td>1</td><td>1</td><td>0</td><td>4.691348</td><td>6.8125</td><td>0</td><td> 2.6026897</td></tr>\n",
       "\t<tr><td> 7.5</td><td>16.5</td><td>122.3</td><td>133</td><td> 6</td><td>12</td><td>2</td><td>1</td><td>0</td><td>0</td><td>4.890349</td><td>8.3125</td><td>0</td><td> 2.0149031</td></tr>\n",
       "\t<tr><td> 0.5</td><td>16.5</td><td>122.3</td><td>129</td><td>NA</td><td>12</td><td>2</td><td>0</td><td>0</td><td>0</td><td>4.859812</td><td>8.0625</td><td>0</td><td>-0.6931472</td></tr>\n",
       "\t<tr><td>15.5</td><td>16.5</td><td>122.3</td><td>126</td><td>12</td><td>12</td><td>2</td><td>1</td><td>0</td><td>0</td><td>4.836282</td><td>7.8750</td><td>0</td><td> 2.7408400</td></tr>\n",
       "\t<tr><td>27.5</td><td>16.5</td><td>122.3</td><td>134</td><td>14</td><td>12</td><td>2</td><td>1</td><td>1</td><td>0</td><td>4.897840</td><td>8.3750</td><td>0</td><td> 3.3141861</td></tr>\n",
       "\t<tr><td> 7.5</td><td>16.5</td><td>122.3</td><td>118</td><td>12</td><td>14</td><td>6</td><td>1</td><td>0</td><td>0</td><td>4.770685</td><td>7.3750</td><td>0</td><td> 2.0149031</td></tr>\n",
       "</tbody>\n",
       "</table>\n"
      ],
      "text/latex": [
       "A tibble: 6 × 14\n",
       "\\begin{tabular}{llllllllllllll}\n",
       " faminc & cigtax & cigprice & bwght & fatheduc & motheduc & parity & male & white & cigs & lbwght & bwghtlbs & packs & lfaminc\\\\\n",
       " <dbl> & <dbl> & <dbl> & <dbl> & <dbl> & <dbl> & <dbl> & <dbl> & <dbl> & <dbl> & <dbl> & <dbl> & <dbl> & <dbl>\\\\\n",
       "\\hline\n",
       "\t 13.5 & 16.5 & 122.3 & 109 & 12 & 12 & 1 & 1 & 1 & 0 & 4.691348 & 6.8125 & 0 &  2.6026897\\\\\n",
       "\t  7.5 & 16.5 & 122.3 & 133 &  6 & 12 & 2 & 1 & 0 & 0 & 4.890349 & 8.3125 & 0 &  2.0149031\\\\\n",
       "\t  0.5 & 16.5 & 122.3 & 129 & NA & 12 & 2 & 0 & 0 & 0 & 4.859812 & 8.0625 & 0 & -0.6931472\\\\\n",
       "\t 15.5 & 16.5 & 122.3 & 126 & 12 & 12 & 2 & 1 & 0 & 0 & 4.836282 & 7.8750 & 0 &  2.7408400\\\\\n",
       "\t 27.5 & 16.5 & 122.3 & 134 & 14 & 12 & 2 & 1 & 1 & 0 & 4.897840 & 8.3750 & 0 &  3.3141861\\\\\n",
       "\t  7.5 & 16.5 & 122.3 & 118 & 12 & 14 & 6 & 1 & 0 & 0 & 4.770685 & 7.3750 & 0 &  2.0149031\\\\\n",
       "\\end{tabular}\n"
      ],
      "text/markdown": [
       "\n",
       "A tibble: 6 × 14\n",
       "\n",
       "| faminc &lt;dbl&gt; | cigtax &lt;dbl&gt; | cigprice &lt;dbl&gt; | bwght &lt;dbl&gt; | fatheduc &lt;dbl&gt; | motheduc &lt;dbl&gt; | parity &lt;dbl&gt; | male &lt;dbl&gt; | white &lt;dbl&gt; | cigs &lt;dbl&gt; | lbwght &lt;dbl&gt; | bwghtlbs &lt;dbl&gt; | packs &lt;dbl&gt; | lfaminc &lt;dbl&gt; |\n",
       "|---|---|---|---|---|---|---|---|---|---|---|---|---|---|\n",
       "| 13.5 | 16.5 | 122.3 | 109 | 12 | 12 | 1 | 1 | 1 | 0 | 4.691348 | 6.8125 | 0 |  2.6026897 |\n",
       "|  7.5 | 16.5 | 122.3 | 133 |  6 | 12 | 2 | 1 | 0 | 0 | 4.890349 | 8.3125 | 0 |  2.0149031 |\n",
       "|  0.5 | 16.5 | 122.3 | 129 | NA | 12 | 2 | 0 | 0 | 0 | 4.859812 | 8.0625 | 0 | -0.6931472 |\n",
       "| 15.5 | 16.5 | 122.3 | 126 | 12 | 12 | 2 | 1 | 0 | 0 | 4.836282 | 7.8750 | 0 |  2.7408400 |\n",
       "| 27.5 | 16.5 | 122.3 | 134 | 14 | 12 | 2 | 1 | 1 | 0 | 4.897840 | 8.3750 | 0 |  3.3141861 |\n",
       "|  7.5 | 16.5 | 122.3 | 118 | 12 | 14 | 6 | 1 | 0 | 0 | 4.770685 | 7.3750 | 0 |  2.0149031 |\n",
       "\n"
      ],
      "text/plain": [
       "  faminc cigtax cigprice bwght fatheduc motheduc parity male white cigs\n",
       "1 13.5   16.5   122.3    109   12       12       1      1    1     0   \n",
       "2  7.5   16.5   122.3    133    6       12       2      1    0     0   \n",
       "3  0.5   16.5   122.3    129   NA       12       2      0    0     0   \n",
       "4 15.5   16.5   122.3    126   12       12       2      1    0     0   \n",
       "5 27.5   16.5   122.3    134   14       12       2      1    1     0   \n",
       "6  7.5   16.5   122.3    118   12       14       6      1    0     0   \n",
       "  lbwght   bwghtlbs packs lfaminc   \n",
       "1 4.691348 6.8125   0      2.6026897\n",
       "2 4.890349 8.3125   0      2.0149031\n",
       "3 4.859812 8.0625   0     -0.6931472\n",
       "4 4.836282 7.8750   0      2.7408400\n",
       "5 4.897840 8.3750   0      3.3141861\n",
       "6 4.770685 7.3750   0      2.0149031"
      ]
     },
     "metadata": {},
     "output_type": "display_data"
    },
    {
     "data": {
      "text/plain": [
       "\n",
       "Call:\n",
       "lm(formula = bwght ~ cigs + parity + motheduc + fatheduc, data = bweight)\n",
       "\n",
       "Residuals:\n",
       "    Min      1Q  Median      3Q     Max \n",
       "-96.139 -11.935   0.778  12.649 151.255 \n",
       "\n",
       "Coefficients:\n",
       "            Estimate Std. Error t value Pr(>|t|)    \n",
       "(Intercept) 113.7365     3.6950  30.782  < 2e-16 ***\n",
       "cigs         -0.6059     0.1102  -5.497 4.72e-08 ***\n",
       "parity        1.7650     0.6596   2.676  0.00756 ** \n",
       "motheduc     -0.2764     0.3141  -0.880  0.37901    \n",
       "fatheduc      0.5795     0.2740   2.115  0.03464 *  \n",
       "---\n",
       "Signif. codes:  0 ‘***’ 0.001 ‘**’ 0.01 ‘*’ 0.05 ‘.’ 0.1 ‘ ’ 1\n",
       "\n",
       "Residual standard error: 19.8 on 1186 degrees of freedom\n",
       "  (197 observations deleted due to missingness)\n",
       "Multiple R-squared:  0.03684,\tAdjusted R-squared:  0.03359 \n",
       "F-statistic: 11.34 on 4 and 1186 DF,  p-value: 4.913e-09\n"
      ]
     },
     "metadata": {},
     "output_type": "display_data"
    }
   ],
   "source": [
    "#read in birthweight data\n",
    "bweight <- read_dta(\"BWGHT.DTA\")\n",
    "head(bweight)\n",
    "reg9 <- lm(bwght~cigs + parity + motheduc + fatheduc, data = bweight)\n",
    "summary(reg9)"
   ]
  },
  {
   "cell_type": "code",
   "execution_count": 10,
   "metadata": {},
   "outputs": [
    {
     "data": {
      "text/plain": [
       "\n",
       "Call:\n",
       "lm(formula = bwght ~ cigs + parity, data = bweight)\n",
       "\n",
       "Residuals:\n",
       "    Min      1Q  Median      3Q     Max \n",
       "-95.866 -11.866   1.134  13.134 152.134 \n",
       "\n",
       "Coefficients:\n",
       "             Estimate Std. Error t value Pr(>|t|)    \n",
       "(Intercept) 117.38306    1.12967 103.909  < 2e-16 ***\n",
       "cigs         -0.52895    0.09054  -5.842 6.41e-09 ***\n",
       "parity        1.48264    0.60487   2.451   0.0144 *  \n",
       "---\n",
       "Signif. codes:  0 ‘***’ 0.001 ‘**’ 0.01 ‘*’ 0.05 ‘.’ 0.1 ‘ ’ 1\n",
       "\n",
       "Residual standard error: 20.09 on 1385 degrees of freedom\n",
       "Multiple R-squared:  0.02695,\tAdjusted R-squared:  0.02555 \n",
       "F-statistic: 19.18 on 2 and 1385 DF,  p-value: 6.074e-09\n"
      ]
     },
     "metadata": {},
     "output_type": "display_data"
    }
   ],
   "source": [
    "#regress birthweight on cigs and parity\n",
    "reg6<-lm(bwght~cigs + parity, data = bweight)\n",
    "summary(reg6)"
   ]
  },
  {
   "cell_type": "code",
   "execution_count": 11,
   "metadata": {},
   "outputs": [
    {
     "data": {
      "text/plain": [
       "\n",
       "Call:\n",
       "lm(formula = bwght ~ cigs + parity + faminc, data = bweight)\n",
       "\n",
       "Residuals:\n",
       "    Min      1Q  Median      3Q     Max \n",
       "-95.811 -11.552   0.524  12.739 150.848 \n",
       "\n",
       "Coefficients:\n",
       "             Estimate Std. Error t value Pr(>|t|)    \n",
       "(Intercept) 115.46993    1.65590  69.733  < 2e-16 ***\n",
       "cigs         -0.59785    0.10877  -5.496 4.74e-08 ***\n",
       "parity        1.83227    0.65754   2.787  0.00541 ** \n",
       "faminc        0.06706    0.03239   2.070  0.03865 *  \n",
       "---\n",
       "Signif. codes:  0 ‘***’ 0.001 ‘**’ 0.01 ‘*’ 0.05 ‘.’ 0.1 ‘ ’ 1\n",
       "\n",
       "Residual standard error: 19.8 on 1187 degrees of freedom\n",
       "Multiple R-squared:  0.03642,\tAdjusted R-squared:  0.03398 \n",
       "F-statistic: 14.95 on 3 and 1187 DF,  p-value: 1.472e-09\n"
      ]
     },
     "metadata": {},
     "output_type": "display_data"
    }
   ],
   "source": [
    "#only keep observations where all variables are not missing for F calculation\n",
    "bweight<- subset(bweight, is.na(fatheduc) == F &is.na(motheduc)== F)\n",
    "#regress birthweight on cigarette consumption,  birth order, and family income\n",
    "reg7<- lm(bwght ~ cigs + parity + faminc, data = bweight)\n",
    "summary(reg7)"
   ]
  },
  {
   "cell_type": "code",
   "execution_count": 12,
   "metadata": {},
   "outputs": [
    {
     "data": {
      "text/plain": [
       "\n",
       "Call:\n",
       "lm(formula = bwght ~ cigs + parity + faminc + motheduc + fatheduc, \n",
       "    data = bweight)\n",
       "\n",
       "Residuals:\n",
       "    Min      1Q  Median      3Q     Max \n",
       "-95.796 -11.960   0.643  12.679 150.879 \n",
       "\n",
       "Coefficients:\n",
       "             Estimate Std. Error t value Pr(>|t|)    \n",
       "(Intercept) 114.52433    3.72845  30.716  < 2e-16 ***\n",
       "cigs         -0.59594    0.11035  -5.401 8.02e-08 ***\n",
       "parity        1.78760    0.65941   2.711  0.00681 ** \n",
       "faminc        0.05604    0.03656   1.533  0.12559    \n",
       "motheduc     -0.37045    0.31986  -1.158  0.24702    \n",
       "fatheduc      0.47239    0.28264   1.671  0.09492 .  \n",
       "---\n",
       "Signif. codes:  0 ‘***’ 0.001 ‘**’ 0.01 ‘*’ 0.05 ‘.’ 0.1 ‘ ’ 1\n",
       "\n",
       "Residual standard error: 19.79 on 1185 degrees of freedom\n",
       "Multiple R-squared:  0.03875,\tAdjusted R-squared:  0.03469 \n",
       "F-statistic: 9.553 on 5 and 1185 DF,  p-value: 5.986e-09\n"
      ]
     },
     "metadata": {},
     "output_type": "display_data"
    }
   ],
   "source": [
    "#include family background controls\n",
    "reg8 <- lm(bwght ~ cigs + parity + faminc + motheduc + fatheduc, data = bweight)\n",
    "summary(reg8)\n"
   ]
  },
  {
   "cell_type": "code",
   "execution_count": 13,
   "metadata": {},
   "outputs": [
    {
     "data": {
      "text/html": [
       "464041.13513002"
      ],
      "text/latex": [
       "464041.13513002"
      ],
      "text/markdown": [
       "464041.13513002"
      ],
      "text/plain": [
       "[1] 464041.1"
      ]
     },
     "metadata": {},
     "output_type": "display_data"
    },
    {
     "data": {
      "text/html": [
       "465166.79212701"
      ],
      "text/latex": [
       "465166.79212701"
      ],
      "text/markdown": [
       "465166.79212701"
      ],
      "text/plain": [
       "[1] 465166.8"
      ]
     },
     "metadata": {},
     "output_type": "display_data"
    },
    {
     "data": {
      "text/html": [
       "1191"
      ],
      "text/latex": [
       "1191"
      ],
      "text/markdown": [
       "1191"
      ],
      "text/plain": [
       "[1] 1191"
      ]
     },
     "metadata": {},
     "output_type": "display_data"
    }
   ],
   "source": [
    "#calculate sums of squared residuals\n",
    "#unrestricted model\n",
    "SSRU<-sum(resid(reg8)^2)\n",
    "SSRU\n",
    "#restricted model\n",
    "SSRR<-sum(resid(reg7)^2)\n",
    "SSRR\n",
    "#identify n\n",
    "n <- nobs(reg8)\n",
    "n"
   ]
  },
  {
   "cell_type": "code",
   "execution_count": 14,
   "metadata": {},
   "outputs": [
    {
     "data": {
      "text/html": [
       "1.43726863897513"
      ],
      "text/latex": [
       "1.43726863897513"
      ],
      "text/markdown": [
       "1.43726863897513"
      ],
      "text/plain": [
       "[1] 1.437269"
      ]
     },
     "metadata": {},
     "output_type": "display_data"
    }
   ],
   "source": [
    "#generate F test\n",
    "F1<- ((SSRR-SSRU)/2)/(SSRU/(n-5-1))\n",
    "F1"
   ]
  },
  {
   "cell_type": "code",
   "execution_count": 15,
   "metadata": {},
   "outputs": [
    {
     "data": {
      "text/html": [
       "0.0387481821028405"
      ],
      "text/latex": [
       "0.0387481821028405"
      ],
      "text/markdown": [
       "0.0387481821028405"
      ],
      "text/plain": [
       "[1] 0.03874818"
      ]
     },
     "metadata": {},
     "output_type": "display_data"
    },
    {
     "data": {
      "text/html": [
       "0.0364164064201039"
      ],
      "text/latex": [
       "0.0364164064201039"
      ],
      "text/markdown": [
       "0.0364164064201039"
      ],
      "text/plain": [
       "[1] 0.03641641"
      ]
     },
     "metadata": {},
     "output_type": "display_data"
    },
    {
     "data": {
      "text/html": [
       "1.43726863897514"
      ],
      "text/latex": [
       "1.43726863897514"
      ],
      "text/markdown": [
       "1.43726863897514"
      ],
      "text/plain": [
       "[1] 1.437269"
      ]
     },
     "metadata": {},
     "output_type": "display_data"
    }
   ],
   "source": [
    "#R-squared calculation\n",
    "#Pull unrestricted R-squared from regression output\n",
    "Rsq_u <-summary(reg8)$r.squared\n",
    "Rsq_u\n",
    "#Pull restricted R-squared from regression output\n",
    "Rsq_r <-summary(reg7)$r.squared\n",
    "Rsq_r\n",
    "F2 <- ((Rsq_u-Rsq_r)/2)/((1-Rsq_u)/(n-5-1))\n",
    "F2"
   ]
  },
  {
   "cell_type": "code",
   "execution_count": 16,
   "metadata": {},
   "outputs": [
    {
     "data": {
      "text/html": [
       "<table class=\"dataframe\">\n",
       "<caption>A anova: 2 × 6</caption>\n",
       "<thead>\n",
       "\t<tr><th></th><th scope=col>Res.Df</th><th scope=col>RSS</th><th scope=col>Df</th><th scope=col>Sum of Sq</th><th scope=col>F</th><th scope=col>Pr(&gt;F)</th></tr>\n",
       "\t<tr><th></th><th scope=col>&lt;dbl&gt;</th><th scope=col>&lt;dbl&gt;</th><th scope=col>&lt;dbl&gt;</th><th scope=col>&lt;dbl&gt;</th><th scope=col>&lt;dbl&gt;</th><th scope=col>&lt;dbl&gt;</th></tr>\n",
       "</thead>\n",
       "<tbody>\n",
       "\t<tr><th scope=row>1</th><td>1187</td><td>465166.8</td><td>NA</td><td>      NA</td><td>      NA</td><td>       NA</td></tr>\n",
       "\t<tr><th scope=row>2</th><td>1185</td><td>464041.1</td><td> 2</td><td>1125.657</td><td>1.437269</td><td>0.2379896</td></tr>\n",
       "</tbody>\n",
       "</table>\n"
      ],
      "text/latex": [
       "A anova: 2 × 6\n",
       "\\begin{tabular}{r|llllll}\n",
       "  & Res.Df & RSS & Df & Sum of Sq & F & Pr(>F)\\\\\n",
       "  & <dbl> & <dbl> & <dbl> & <dbl> & <dbl> & <dbl>\\\\\n",
       "\\hline\n",
       "\t1 & 1187 & 465166.8 & NA &       NA &       NA &        NA\\\\\n",
       "\t2 & 1185 & 464041.1 &  2 & 1125.657 & 1.437269 & 0.2379896\\\\\n",
       "\\end{tabular}\n"
      ],
      "text/markdown": [
       "\n",
       "A anova: 2 × 6\n",
       "\n",
       "| <!--/--> | Res.Df &lt;dbl&gt; | RSS &lt;dbl&gt; | Df &lt;dbl&gt; | Sum of Sq &lt;dbl&gt; | F &lt;dbl&gt; | Pr(&gt;F) &lt;dbl&gt; |\n",
       "|---|---|---|---|---|---|---|\n",
       "| 1 | 1187 | 465166.8 | NA |       NA |       NA |        NA |\n",
       "| 2 | 1185 | 464041.1 |  2 | 1125.657 | 1.437269 | 0.2379896 |\n",
       "\n"
      ],
      "text/plain": [
       "  Res.Df RSS      Df Sum of Sq F        Pr(>F)   \n",
       "1 1187   465166.8 NA       NA        NA        NA\n",
       "2 1185   464041.1  2 1125.657  1.437269 0.2379896"
      ]
     },
     "metadata": {},
     "output_type": "display_data"
    }
   ],
   "source": [
    "#use linearHypothesis test to generate p-value\n",
    "F3 <- linearHypothesis(reg8,c(\"motheduc = 0\", \"fatheduc = 0\"))\n",
    "F3"
   ]
  },
  {
   "cell_type": "code",
   "execution_count": null,
   "metadata": {},
   "outputs": [],
   "source": []
  }
 ],
 "metadata": {
  "kernelspec": {
   "display_name": "R",
   "language": "R",
   "name": "ir"
  },
  "language_info": {
   "codemirror_mode": "r",
   "file_extension": ".r",
   "mimetype": "text/x-r-source",
   "name": "R",
   "pygments_lexer": "r",
   "version": "4.4.1"
  }
 },
 "nbformat": 4,
 "nbformat_minor": 4
}
