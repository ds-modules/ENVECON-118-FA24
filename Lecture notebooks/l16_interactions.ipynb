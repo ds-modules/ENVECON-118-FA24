{
 "cells": [
  {
   "cell_type": "code",
   "execution_count": 2,
   "metadata": {},
   "outputs": [],
   "source": [
    "library(haven)\n",
    "wagedata <- read_dta(\"WAGE1.DTA\")"
   ]
  },
  {
   "cell_type": "code",
   "execution_count": 3,
   "metadata": {},
   "outputs": [
    {
     "data": {
      "text/plain": [
       "\n",
       "Call:\n",
       "lm(formula = wage ~ exper, data = wagedata)\n",
       "\n",
       "Residuals:\n",
       "   Min     1Q Median     3Q    Max \n",
       "-4.936 -2.458 -1.112  1.077 18.716 \n",
       "\n",
       "Coefficients:\n",
       "            Estimate Std. Error t value Pr(>|t|)    \n",
       "(Intercept)  5.37331    0.25699  20.908  < 2e-16 ***\n",
       "exper        0.03072    0.01181   2.601  0.00955 ** \n",
       "---\n",
       "Signif. codes:  0 ‘***’ 0.001 ‘**’ 0.01 ‘*’ 0.05 ‘.’ 0.1 ‘ ’ 1\n",
       "\n",
       "Residual standard error: 3.673 on 524 degrees of freedom\n",
       "Multiple R-squared:  0.01275,\tAdjusted R-squared:  0.01086 \n",
       "F-statistic: 6.766 on 1 and 524 DF,  p-value: 0.009555\n"
      ]
     },
     "metadata": {},
     "output_type": "display_data"
    }
   ],
   "source": [
    "reg1<- lm(wage~exper, data = wagedata)\n",
    "summary(reg1)"
   ]
  },
  {
   "cell_type": "code",
   "execution_count": null,
   "metadata": {},
   "outputs": [],
   "source": [
    "reg2<- lm(wage~log(exper), data = wagedata)\n",
    "summary(reg2)"
   ]
  },
  {
   "cell_type": "code",
   "execution_count": 4,
   "metadata": {},
   "outputs": [
    {
     "data": {
      "text/plain": [
       "\n",
       "Call:\n",
       "lm(formula = wage ~ exper + expersq, data = wagedata)\n",
       "\n",
       "Residuals:\n",
       "    Min      1Q  Median      3Q     Max \n",
       "-5.5916 -2.1440 -0.8603  1.1801 17.7649 \n",
       "\n",
       "Coefficients:\n",
       "              Estimate Std. Error t value Pr(>|t|)    \n",
       "(Intercept)  3.7254058  0.3459392  10.769  < 2e-16 ***\n",
       "exper        0.2981001  0.0409655   7.277 1.26e-12 ***\n",
       "expersq     -0.0061299  0.0009025  -6.792 3.02e-11 ***\n",
       "---\n",
       "Signif. codes:  0 ‘***’ 0.001 ‘**’ 0.01 ‘*’ 0.05 ‘.’ 0.1 ‘ ’ 1\n",
       "\n",
       "Residual standard error: 3.524 on 523 degrees of freedom\n",
       "Multiple R-squared:  0.09277,\tAdjusted R-squared:  0.0893 \n",
       "F-statistic: 26.74 on 2 and 523 DF,  p-value: 8.774e-12\n"
      ]
     },
     "metadata": {},
     "output_type": "display_data"
    }
   ],
   "source": [
    "reg3<-lm(wage~exper + expersq, data = wagedata)\n",
    "summary(reg3)"
   ]
  },
  {
   "cell_type": "code",
   "execution_count": 5,
   "metadata": {},
   "outputs": [
    {
     "data": {
      "text/html": [
       "<table class=\"dataframe\">\n",
       "<caption>A anova: 2 × 6</caption>\n",
       "<thead>\n",
       "\t<tr><th></th><th scope=col>Res.Df</th><th scope=col>RSS</th><th scope=col>Df</th><th scope=col>Sum of Sq</th><th scope=col>F</th><th scope=col>Pr(&gt;F)</th></tr>\n",
       "\t<tr><th></th><th scope=col>&lt;dbl&gt;</th><th scope=col>&lt;dbl&gt;</th><th scope=col>&lt;dbl&gt;</th><th scope=col>&lt;dbl&gt;</th><th scope=col>&lt;dbl&gt;</th><th scope=col>&lt;dbl&gt;</th></tr>\n",
       "</thead>\n",
       "<tbody>\n",
       "\t<tr><th scope=row>1</th><td>525</td><td>7160.414</td><td>NA</td><td>      NA</td><td>      NA</td><td>          NA</td></tr>\n",
       "\t<tr><th scope=row>2</th><td>523</td><td>6496.147</td><td> 2</td><td>664.2669</td><td>26.73982</td><td>8.773707e-12</td></tr>\n",
       "</tbody>\n",
       "</table>\n"
      ],
      "text/latex": [
       "A anova: 2 × 6\n",
       "\\begin{tabular}{r|llllll}\n",
       "  & Res.Df & RSS & Df & Sum of Sq & F & Pr(>F)\\\\\n",
       "  & <dbl> & <dbl> & <dbl> & <dbl> & <dbl> & <dbl>\\\\\n",
       "\\hline\n",
       "\t1 & 525 & 7160.414 & NA &       NA &       NA &           NA\\\\\n",
       "\t2 & 523 & 6496.147 &  2 & 664.2669 & 26.73982 & 8.773707e-12\\\\\n",
       "\\end{tabular}\n"
      ],
      "text/markdown": [
       "\n",
       "A anova: 2 × 6\n",
       "\n",
       "| <!--/--> | Res.Df &lt;dbl&gt; | RSS &lt;dbl&gt; | Df &lt;dbl&gt; | Sum of Sq &lt;dbl&gt; | F &lt;dbl&gt; | Pr(&gt;F) &lt;dbl&gt; |\n",
       "|---|---|---|---|---|---|---|\n",
       "| 1 | 525 | 7160.414 | NA |       NA |       NA |           NA |\n",
       "| 2 | 523 | 6496.147 |  2 | 664.2669 | 26.73982 | 8.773707e-12 |\n",
       "\n"
      ],
      "text/plain": [
       "  Res.Df RSS      Df Sum of Sq F        Pr(>F)      \n",
       "1 525    7160.414 NA       NA        NA           NA\n",
       "2 523    6496.147  2 664.2669  26.73982 8.773707e-12"
      ]
     },
     "metadata": {},
     "output_type": "display_data"
    }
   ],
   "source": [
    "library(car)\n",
    "linearHypothesis(reg3, c(\"exper = 0\", \"expersq = 0\"))"
   ]
  },
  {
   "cell_type": "code",
   "execution_count": null,
   "metadata": {
    "scrolled": false
   },
   "outputs": [],
   "source": [
    "plot(wage~exper, data = wagedata)"
   ]
  },
  {
   "cell_type": "code",
   "execution_count": null,
   "metadata": {},
   "outputs": [],
   "source": [
    "hpdata<-read_dta(\"hprice1.dta\")"
   ]
  },
  {
   "cell_type": "code",
   "execution_count": null,
   "metadata": {
    "scrolled": true
   },
   "outputs": [],
   "source": [
    "reg4<-lm(price ~ sqrft + bdrms + sqrft*bdrms, data = hpdata)\n",
    "summary(reg4)"
   ]
  },
  {
   "cell_type": "code",
   "execution_count": null,
   "metadata": {},
   "outputs": [],
   "source": [
    "reg5<- lm(price~sqrft + bdrms, data = hpdata)\n",
    "summary(reg5)\n",
    "mean(hpdata$price)"
   ]
  },
  {
   "cell_type": "code",
   "execution_count": null,
   "metadata": {},
   "outputs": [],
   "source": [
    "reg6<-lm(price~sqrft + bdrms + assess, data= hpdata)\n",
    "summary(reg6)\n",
    "    \n",
    "    "
   ]
  },
  {
   "cell_type": "code",
   "execution_count": null,
   "metadata": {},
   "outputs": [],
   "source": [
    "gpadata<-read_dta(\"gpa2.dta\")\n",
    "head(gpadata)\n",
    "reg7<-lm(colgpa~sat+ hsperc + hsize + hsizesq, data= gpadata)\n",
    "summary(reg7)"
   ]
  },
  {
   "cell_type": "code",
   "execution_count": null,
   "metadata": {},
   "outputs": [],
   "source": [
    "#predict values\n",
    "predgpa1 = 1.493 + 1200*.001492 -.01386*30 -.06088*5+.00546*25\n",
    "#print\n",
    "print(\"predgpa1\")\n",
    "predgpa1\n",
    "#or, extract.  Summary stores beta coefficients in the term \"coef\"\n",
    "summary(reg7)$coef\n",
    "predgpa2 = sum(c(1,1200,30,5,25)*summary(reg7)$coef[,1])\n",
    "#print\n",
    "print(\"predgpa2\")\n",
    "predgpa2"
   ]
  },
  {
   "cell_type": "code",
   "execution_count": null,
   "metadata": {},
   "outputs": [],
   "source": [
    "#transform data to get CI\n",
    "gpadata$sat0<- gpadata$sat-1200\n",
    "gpadata$hsperc0 <-gpadata$hsperc-30\n",
    "gpadata$hsize0<-gpadata$hsize-5\n",
    "gpadata$hsizesq0<-gpadata$hsizesq-25\n",
    "\n",
    "reg8<-lm(colgpa~sat0+hsperc0 + hsize0 + hsizesq0, data = gpadata)\n",
    "summary(reg8)"
   ]
  },
  {
   "cell_type": "code",
   "execution_count": null,
   "metadata": {},
   "outputs": [],
   "source": []
  }
 ],
 "metadata": {
  "kernelspec": {
   "display_name": "R",
   "language": "R",
   "name": "ir"
  },
  "language_info": {
   "codemirror_mode": "r",
   "file_extension": ".r",
   "mimetype": "text/x-r-source",
   "name": "R",
   "pygments_lexer": "r",
   "version": "4.0.5"
  }
 },
 "nbformat": 4,
 "nbformat_minor": 2
}
