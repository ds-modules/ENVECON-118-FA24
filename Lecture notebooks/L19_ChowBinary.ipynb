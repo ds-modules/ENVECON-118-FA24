{
 "cells": [
  {
   "cell_type": "code",
   "execution_count": 1,
   "metadata": {},
   "outputs": [],
   "source": [
    "library(haven)\n",
    "wagedata<-read_dta(\"WAGE1.DTA\")"
   ]
  },
  {
   "cell_type": "code",
   "execution_count": 2,
   "metadata": {},
   "outputs": [
    {
     "data": {
      "text/plain": [
       "\n",
       "Call:\n",
       "lm(formula = lwage ~ female + educ + exper + tenure, data = wagedata)\n",
       "\n",
       "Residuals:\n",
       "     Min       1Q   Median       3Q      Max \n",
       "-1.91588 -0.26192 -0.02399  0.26349  1.27352 \n",
       "\n",
       "Coefficients:\n",
       "             Estimate Std. Error t value Pr(>|t|)    \n",
       "(Intercept)  0.501348   0.101902   4.920 1.16e-06 ***\n",
       "female      -0.301146   0.037246  -8.085 4.37e-15 ***\n",
       "educ         0.087462   0.006939  12.605  < 2e-16 ***\n",
       "exper        0.004629   0.001627   2.845  0.00461 ** \n",
       "tenure       0.017367   0.002976   5.835 9.45e-09 ***\n",
       "---\n",
       "Signif. codes:  0 ‘***’ 0.001 ‘**’ 0.01 ‘*’ 0.05 ‘.’ 0.1 ‘ ’ 1\n",
       "\n",
       "Residual standard error: 0.416 on 521 degrees of freedom\n",
       "Multiple R-squared:  0.3923,\tAdjusted R-squared:  0.3876 \n",
       "F-statistic: 84.07 on 4 and 521 DF,  p-value: < 2.2e-16\n"
      ]
     },
     "metadata": {},
     "output_type": "display_data"
    }
   ],
   "source": [
    "#baseline regression\n",
    "reg1<- lm(lwage~female + educ + exper + tenure, data = wagedata)\n",
    "summary(reg1)"
   ]
  },
  {
   "cell_type": "code",
   "execution_count": 3,
   "metadata": {},
   "outputs": [
    {
     "data": {
      "text/plain": [
       "\n",
       "Call:\n",
       "lm(formula = lwage ~ female * educ + exper + tenure, data = wagedata)\n",
       "\n",
       "Residuals:\n",
       "     Min       1Q   Median       3Q      Max \n",
       "-1.91695 -0.26530 -0.02059  0.25715  1.27586 \n",
       "\n",
       "Coefficients:\n",
       "             Estimate Std. Error t value Pr(>|t|)    \n",
       "(Intercept)  0.464712   0.122892   3.781 0.000174 ***\n",
       "female      -0.210376   0.173969  -1.209 0.227107    \n",
       "educ         0.090276   0.008715  10.359  < 2e-16 ***\n",
       "exper        0.004642   0.001628   2.850 0.004541 ** \n",
       "tenure       0.017436   0.002981   5.849 8.76e-09 ***\n",
       "female:educ -0.007245   0.013562  -0.534 0.593456    \n",
       "---\n",
       "Signif. codes:  0 ‘***’ 0.001 ‘**’ 0.01 ‘*’ 0.05 ‘.’ 0.1 ‘ ’ 1\n",
       "\n",
       "Residual standard error: 0.4162 on 520 degrees of freedom\n",
       "Multiple R-squared:  0.3926,\tAdjusted R-squared:  0.3868 \n",
       "F-statistic: 67.22 on 5 and 520 DF,  p-value: < 2.2e-16\n"
      ]
     },
     "metadata": {},
     "output_type": "display_data"
    }
   ],
   "source": [
    "#allow interaction with education\n",
    "reg2<-lm(lwage~female * educ + exper + tenure, data = wagedata)\n",
    "summary(reg2)"
   ]
  },
  {
   "cell_type": "code",
   "execution_count": 4,
   "metadata": {},
   "outputs": [
    {
     "data": {
      "text/plain": [
       "\n",
       "Call:\n",
       "lm(formula = lwage ~ educ + exper + tenure, data = wagedata)\n",
       "\n",
       "Residuals:\n",
       "     Min       1Q   Median       3Q      Max \n",
       "-2.05802 -0.29645 -0.03265  0.28788  1.42809 \n",
       "\n",
       "Coefficients:\n",
       "            Estimate Std. Error t value Pr(>|t|)    \n",
       "(Intercept) 0.284360   0.104190   2.729  0.00656 ** \n",
       "educ        0.092029   0.007330  12.555  < 2e-16 ***\n",
       "exper       0.004121   0.001723   2.391  0.01714 *  \n",
       "tenure      0.022067   0.003094   7.133 3.29e-12 ***\n",
       "---\n",
       "Signif. codes:  0 ‘***’ 0.001 ‘**’ 0.01 ‘*’ 0.05 ‘.’ 0.1 ‘ ’ 1\n",
       "\n",
       "Residual standard error: 0.4409 on 522 degrees of freedom\n",
       "Multiple R-squared:  0.316,\tAdjusted R-squared:  0.3121 \n",
       "F-statistic: 80.39 on 3 and 522 DF,  p-value: < 2.2e-16\n"
      ]
     },
     "metadata": {},
     "output_type": "display_data"
    },
    {
     "data": {
      "text/html": [
       "101.455573831414"
      ],
      "text/latex": [
       "101.455573831414"
      ],
      "text/markdown": [
       "101.455573831414"
      ],
      "text/plain": [
       "[1] 101.4556"
      ]
     },
     "metadata": {},
     "output_type": "display_data"
    },
    {
     "data": {
      "text/html": [
       "526"
      ],
      "text/latex": [
       "526"
      ],
      "text/markdown": [
       "526"
      ],
      "text/plain": [
       "[1] 526"
      ]
     },
     "metadata": {},
     "output_type": "display_data"
    }
   ],
   "source": [
    "#chow test\n",
    "#restricted regression\n",
    "reg1<- lm(lwage~ educ + exper + tenure, data = wagedata)\n",
    "summary(reg1)\n",
    "#calculate sum of squared residuals\n",
    "SSR_r <- sum(reg1$residuals^2)\n",
    "SSR_r\n",
    "#calculate n\n",
    "n_all <- nobs(reg1)\n",
    "n_all"
   ]
  },
  {
   "cell_type": "code",
   "execution_count": 8,
   "metadata": {},
   "outputs": [
    {
     "data": {
      "text/plain": [
       "\n",
       "Call:\n",
       "lm(formula = lwage ~ educ * female + exper * female + tenure * \n",
       "    female, data = wagedata)\n",
       "\n",
       "Residuals:\n",
       "    Min      1Q  Median      3Q     Max \n",
       "-1.9685 -0.2490 -0.0388  0.2529  1.2670 \n",
       "\n",
       "Coefficients:\n",
       "               Estimate Std. Error t value Pr(>|t|)    \n",
       "(Intercept)    0.321899   0.134627   2.391   0.0172 *  \n",
       "educ           0.096264   0.009028  10.663  < 2e-16 ***\n",
       "female         0.034217   0.199358   0.172   0.8638    \n",
       "exper          0.008127   0.002410   3.373   0.0008 ***\n",
       "tenure         0.018213   0.003638   5.006 7.64e-07 ***\n",
       "educ:female   -0.016228   0.014157  -1.146   0.2522    \n",
       "female:exper  -0.005860   0.003259  -1.798   0.0727 .  \n",
       "female:tenure -0.007938   0.006548  -1.212   0.2259    \n",
       "---\n",
       "Signif. codes:  0 ‘***’ 0.001 ‘**’ 0.01 ‘*’ 0.05 ‘.’ 0.1 ‘ ’ 1\n",
       "\n",
       "Residual standard error: 0.4135 on 518 degrees of freedom\n",
       "Multiple R-squared:  0.4028,\tAdjusted R-squared:  0.3947 \n",
       "F-statistic: 49.91 on 7 and 518 DF,  p-value: < 2.2e-16\n"
      ]
     },
     "metadata": {},
     "output_type": "display_data"
    },
    {
     "data": {
      "text/html": [
       "88.5824900985109"
      ],
      "text/latex": [
       "88.5824900985109"
      ],
      "text/markdown": [
       "88.5824900985109"
      ],
      "text/plain": [
       "[1] 88.58249"
      ]
     },
     "metadata": {},
     "output_type": "display_data"
    }
   ],
   "source": [
    "regu <- lm(lwage~educ*female + exper*female + tenure*female, data = wagedata)\n",
    "summary(regu)\n",
    "ssr_interu<-sum(regu$residuals^2)\n",
    "ssr_interu"
   ]
  },
  {
   "cell_type": "code",
   "execution_count": 5,
   "metadata": {},
   "outputs": [
    {
     "data": {
      "text/plain": [
       "\n",
       "Call:\n",
       "lm(formula = lwage ~ educ + exper + tenure, data = wagedata, \n",
       "    subset = (female == 1))\n",
       "\n",
       "Residuals:\n",
       "     Min       1Q   Median       3Q      Max \n",
       "-1.96850 -0.23365 -0.06671  0.21956  1.17698 \n",
       "\n",
       "Coefficients:\n",
       "            Estimate Std. Error t value Pr(>|t|)    \n",
       "(Intercept) 0.356116   0.141063   2.525   0.0122 *  \n",
       "educ        0.080036   0.010462   7.650 4.44e-13 ***\n",
       "exper       0.002268   0.002105   1.077   0.2823    \n",
       "tenure      0.010274   0.005223   1.967   0.0503 .  \n",
       "---\n",
       "Signif. codes:  0 ‘***’ 0.001 ‘**’ 0.01 ‘*’ 0.05 ‘.’ 0.1 ‘ ’ 1\n",
       "\n",
       "Residual standard error: 0.3967 on 248 degrees of freedom\n",
       "Multiple R-squared:  0.2119,\tAdjusted R-squared:  0.2024 \n",
       "F-statistic: 22.23 on 3 and 248 DF,  p-value: 8.771e-13\n"
      ]
     },
     "metadata": {},
     "output_type": "display_data"
    },
    {
     "data": {
      "text/html": [
       "39.0352989297953"
      ],
      "text/latex": [
       "39.0352989297953"
      ],
      "text/markdown": [
       "39.0352989297953"
      ],
      "text/plain": [
       "[1] 39.0353"
      ]
     },
     "metadata": {},
     "output_type": "display_data"
    }
   ],
   "source": [
    "#Female-only regression\n",
    "reg3<-lm(lwage~ educ + exper + tenure, data = wagedata, subset = (female==1))\n",
    "summary(reg3)\n",
    "SSR_F <- sum(reg3$residuals^2)\n",
    "SSR_F"
   ]
  },
  {
   "cell_type": "code",
   "execution_count": 10,
   "metadata": {},
   "outputs": [
    {
     "data": {
      "text/html": [
       "18.8193438856488"
      ],
      "text/latex": [
       "18.8193438856488"
      ],
      "text/markdown": [
       "18.8193438856488"
      ],
      "text/plain": [
       "[1] 18.81934"
      ]
     },
     "metadata": {},
     "output_type": "display_data"
    }
   ],
   "source": [
    "Finter <- ((SSR_r-ssr_interu)/4)/((ssr_interu)/(n_all-8))\n",
    "Finter"
   ]
  },
  {
   "cell_type": "code",
   "execution_count": 6,
   "metadata": {},
   "outputs": [
    {
     "data": {
      "text/plain": [
       "\n",
       "Call:\n",
       "lm(formula = lwage ~ educ + exper + tenure, data = wagedata, \n",
       "    subset = (female == 0))\n",
       "\n",
       "Residuals:\n",
       "    Min      1Q  Median      3Q     Max \n",
       "-1.4849 -0.2784 -0.0103  0.2665  1.2670 \n",
       "\n",
       "Coefficients:\n",
       "            Estimate Std. Error t value Pr(>|t|)    \n",
       "(Intercept) 0.321899   0.139460   2.308  0.02174 *  \n",
       "educ        0.096264   0.009352  10.294  < 2e-16 ***\n",
       "exper       0.008127   0.002496   3.256  0.00128 ** \n",
       "tenure      0.018213   0.003769   4.832 2.27e-06 ***\n",
       "---\n",
       "Signif. codes:  0 ‘***’ 0.001 ‘**’ 0.01 ‘*’ 0.05 ‘.’ 0.1 ‘ ’ 1\n",
       "\n",
       "Residual standard error: 0.4284 on 270 degrees of freedom\n",
       "Multiple R-squared:  0.3655,\tAdjusted R-squared:  0.3584 \n",
       "F-statistic: 51.84 on 3 and 270 DF,  p-value: < 2.2e-16\n"
      ]
     },
     "metadata": {},
     "output_type": "display_data"
    },
    {
     "data": {
      "text/html": [
       "49.5471911687156"
      ],
      "text/latex": [
       "49.5471911687156"
      ],
      "text/markdown": [
       "49.5471911687156"
      ],
      "text/plain": [
       "[1] 49.54719"
      ]
     },
     "metadata": {},
     "output_type": "display_data"
    }
   ],
   "source": [
    "#Not Female-only regerssion\n",
    "reg4<-lm(lwage~ educ + exper + tenure, data = wagedata, subset = (female==0))\n",
    "summary(reg4)\n",
    "SSR_M<- sum(reg4$residuals^2)\n",
    "SSR_M\n"
   ]
  },
  {
   "cell_type": "code",
   "execution_count": 7,
   "metadata": {},
   "outputs": [
    {
     "data": {
      "text/html": [
       "18.8193438856487"
      ],
      "text/latex": [
       "18.8193438856487"
      ],
      "text/markdown": [
       "18.8193438856487"
      ],
      "text/plain": [
       "[1] 18.81934"
      ]
     },
     "metadata": {},
     "output_type": "display_data"
    }
   ],
   "source": [
    "#Calculate F-statistic for Chow test\n",
    "Chow<-((SSR_r-(SSR_F + SSR_M))/(3+1))/((SSR_F + SSR_M)/(n_all-2*(3+1)))\n",
    "Chow"
   ]
  },
  {
   "cell_type": "code",
   "execution_count": 2,
   "metadata": {},
   "outputs": [
    {
     "ename": "ERROR",
     "evalue": "Error: 'MROZ.DTA' does not exist in current working directory ('/home/rstudio/ENVECON-118-FA20/Coding Resources').\n",
     "output_type": "error",
     "traceback": [
      "Error: 'MROZ.DTA' does not exist in current working directory ('/home/rstudio/ENVECON-118-FA20/Coding Resources').\nTraceback:\n",
      "1. read_dta(\"MROZ.DTA\")",
      "2. readr::datasource(file)",
      "3. standardise_path(file)",
      "4. check_path(path)",
      "5. stop(\"'\", path, \"' does not exist\", if (!is_absolute_path(path)) paste0(\" in current working directory ('\", \n .     getwd(), \"')\"), \".\", call. = FALSE)"
     ]
    }
   ],
   "source": [
    "LFPdata<-read_dta(\"MROZ.DTA\")\n",
    "head(LFPdata)"
   ]
  },
  {
   "cell_type": "code",
   "execution_count": null,
   "metadata": {},
   "outputs": [],
   "source": [
    "reg5<- lm(inlf~nwifeinc + educ + exper + expersq + age + kidslt6 + kidsge6, data = LFPdata)\n",
    "summary(reg5)"
   ]
  },
  {
   "cell_type": "code",
   "execution_count": null,
   "metadata": {},
   "outputs": [],
   "source": [
    "wagedata2<-read_dta(\"WAGE2.DTA\")\n",
    "head(wagedata2)"
   ]
  },
  {
   "cell_type": "code",
   "execution_count": null,
   "metadata": {},
   "outputs": [],
   "source": [
    "#baseline regression\n",
    "reg6<-lm(lwage ~ educ + exper, data = wagedata2)\n",
    "summary(reg6)"
   ]
  },
  {
   "cell_type": "code",
   "execution_count": null,
   "metadata": {},
   "outputs": [],
   "source": [
    "#regression with proxy variable\n",
    "reg7<- lm(lwage ~ educ + exper + IQ, data = wagedata2)\n",
    "summary(reg7)"
   ]
  },
  {
   "cell_type": "code",
   "execution_count": null,
   "metadata": {},
   "outputs": [],
   "source": []
  }
 ],
 "metadata": {
  "kernelspec": {
   "display_name": "R",
   "language": "R",
   "name": "ir"
  },
  "language_info": {
   "codemirror_mode": "r",
   "file_extension": ".r",
   "mimetype": "text/x-r-source",
   "name": "R",
   "pygments_lexer": "r",
   "version": "4.0.2"
  }
 },
 "nbformat": 4,
 "nbformat_minor": 2
}
