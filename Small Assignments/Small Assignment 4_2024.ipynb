{
 "cells": [
  {
   "cell_type": "markdown",
   "metadata": {},
   "source": [
    "# Small Assignment 4 - Due November 1st by 11:59pm PT\n",
    "## EEP/IAS 118"
   ]
  },
  {
   "cell_type": "markdown",
   "metadata": {},
   "source": [
    "<em> Download your notebook with responses as a PDF or Webpdf (be mindful of code/text cut on the right) and submit to Gradescope. Please remember to assign pages to the right questions </em>\n",
    "\n",
    "In Assignment 3, we estimated the relationship between AAUW scores, gender, party affiliation, number of children and number of daughters of Congresspeople. Suppose our estimates were given (we purposefully dropped **ngirls2** here): \n",
    "\n",
    "$$\\widehat{aauw\\_voting} = 93.011 (2.293) + 6.243 (1.320) * female - 66.923 (0.924) * repub \\, + $$\n",
    "$$ 1.00 (0.592) * ngirls - 1.219 (0.414) * nchildren - 0.098 (0.023) age\\_legislator $$\n",
    "\n",
    "$N = 1301, R^2 = 0.8177$\n",
    "                 \n",
    "where standard errors are given in parentheses.\n",
    "\n",
    "As a reminder: **aauw\\_voting** is AAUW score from 0 - 100 based on the number of times a legislator voted in favor of the position held by the AAUW (the organization computing the scorecard) and **female** is a dummy variable for whether or not the legislator is female, **repub** is another dummy variable for whether the legislator is registered as a Republican, **ngirls** is the number of daughters the legislator has, **nchildren** the number of children the legislator has and **age_legislator** is the age the legislator had at the start of the Congress considered."
   ]
  },
  {
   "cell_type": "markdown",
   "metadata": {},
   "source": [
    "### 1. Is either the age of legislator or number of girls significant at the 5% level against a 2-sided alternative? Show your work."
   ]
  },
  {
   "cell_type": "markdown",
   "metadata": {},
   "source": [
    "Write your answer here"
   ]
  },
  {
   "cell_type": "markdown",
   "metadata": {},
   "source": [
    "### 2. Dropping _age\\_legislator_ and _ngirls_ from the equation gives the equation below. Are _age\\_legislator_ or _ngirls_ jointly significant at the 5% level? \n",
    "\n",
    "$$\\widehat{aauw\\_voting}= 87.935 (0.918) + 5.984 (1.318) * female $$\n",
    "$$- 66.804 (0.925) * repub - 0.837 (0.288) * nchildren $$\n",
    "\n",
    "$ N = 1301, R^2 = 0.8167$\n",
    "where standard errors are given in parentheses."
   ]
  },
  {
   "cell_type": "code",
   "execution_count": null,
   "metadata": {},
   "outputs": [],
   "source": [
    "# write your code here\n"
   ]
  },
  {
   "cell_type": "markdown",
   "metadata": {},
   "source": [
    "Write your answer here"
   ]
  },
  {
   "cell_type": "markdown",
   "metadata": {},
   "source": [
    "### 3. Does including _ngirls_ and _age\\_legislator_ in the model greatly affect the effect of the number of children of the legislator on their support for progressive policies (as measured by their AAUW score)? "
   ]
  },
  {
   "cell_type": "markdown",
   "metadata": {},
   "source": [
    "Write your answer here"
   ]
  },
  {
   "cell_type": "markdown",
   "metadata": {},
   "source": [
    "### 4. Carefully explain the difference between the null hypothesis in your tests in part 1 and part 2. What could you learn by rejecting the null hypothesis in each of them? Answer in 3-4 sentences"
   ]
  },
  {
   "cell_type": "markdown",
   "metadata": {},
   "source": [
    "Write your answer here"
   ]
  },
  {
   "cell_type": "markdown",
   "metadata": {},
   "source": [
    "### 5. Let's imagine researchers reviewing this analysis realized that the way some of the data was measured is flawed. Suppose that male legislators are less likely to be asked about how many children they have and when they are asked about their children, they are more likely to report a erroneous number. How does this measurement error affect the estimate we calculated ($\\beta_4$) on the effect of children on AAUW scores, both in terms of bias and precision? Please explain your reasoning and the assumptions you might be making in 3-4 sentences."
   ]
  },
  {
   "cell_type": "markdown",
   "metadata": {},
   "source": [
    "Write your answer here"
   ]
  }
 ],
 "metadata": {
  "kernelspec": {
   "display_name": "R",
   "language": "R",
   "name": "ir"
  },
  "language_info": {
   "codemirror_mode": "r",
   "file_extension": ".r",
   "mimetype": "text/x-r-source",
   "name": "R",
   "pygments_lexer": "r",
   "version": "4.4.1"
  }
 },
 "nbformat": 4,
 "nbformat_minor": 4
}
