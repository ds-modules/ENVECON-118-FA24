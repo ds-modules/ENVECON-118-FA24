{
 "cells": [
  {
   "cell_type": "markdown",
   "metadata": {},
   "source": [
    "# Small Assignment 2"
   ]
  },
  {
   "cell_type": "markdown",
   "metadata": {},
   "source": [
    "<em>Due September 27th by 11:59pm PT. Download your notebook with your code and responses as a PDF via HTML and submit to Gradescope.</em>\n",
    "\n",
    "Lee et al. (2020) study the expansion of the electricity grid in Kenya. This is a simplified version of their model that estimates the effect of electrification subsidies on household take-up of electricity:\n",
    "\n",
    "$$ \\text{TakeUp}_i = \\beta_0 + \\beta_1 \\cdot \\text{Price}_i + \\beta_2 \\cdot \\text{Earnings} + \\beta_3 \\cdot \\text{HhSize}+ \\varepsilon_i$$\n",
    "\n",
    "where $\\text{TakeUp}_i$ is a binary variable equal to 1 if a household connects to the electricity grid and 0 otherwise, $\\text{Price}_i$ is the price to pay for the connection to the grid (discounted from the value of the subsidy that households received), $\\text{Earnings}$ denotes monthly earnings of the household, and $\\text{HhSize}$ is household size. The error term is $\\varepsilon_i$."
   ]
  },
  {
   "cell_type": "markdown",
   "metadata": {},
   "source": [
    "### 1. What should we expect the sign of $\\beta_1$ to be?\n",
    "\n",
    "(Note: typing the words \"beta 1\" is fine. If you want to have it as math notation, type: $ \\beta_1 $ . You can double click this cell and copy the code.)"
   ]
  },
  {
   "cell_type": "markdown",
   "metadata": {
    "scrolled": true
   },
   "source": [
    "Double click to type your answer here."
   ]
  },
  {
   "cell_type": "markdown",
   "metadata": {},
   "source": [
    "### 2. What signs do you think $\\beta_2$ and $\\beta_3$ will have?"
   ]
  },
  {
   "cell_type": "markdown",
   "metadata": {},
   "source": [
    "Double click to type your answer here."
   ]
  },
  {
   "cell_type": "markdown",
   "metadata": {},
   "source": [
    "### 3. Load in the dataset: data_LMW.dta and estimate the above model using `lm()`. Display the results with the `summary()` command.  \n",
    "Hint: <em>Remember that this is a .dta file, meaning that the `haven` package and `read_dta()` commands will be useful. You may also look at the Jupyter Notebook for section 3, which uses these data, for some example code.</em>"
   ]
  },
  {
   "cell_type": "code",
   "execution_count": 1,
   "metadata": {},
   "outputs": [],
   "source": [
    "##Code your answer here!"
   ]
  },
  {
   "cell_type": "markdown",
   "metadata": {},
   "source": [
    "### 4. Interpret the effect $\\hat{\\beta}_1 $."
   ]
  },
  {
   "cell_type": "markdown",
   "metadata": {},
   "source": [
    "Double click to type your answer here."
   ]
  },
  {
   "cell_type": "markdown",
   "metadata": {},
   "source": [
    "### 5. Write the value of the standard error of $\\hat{\\beta_1}$, as well as the ratio of $\\hat{\\beta_1}$ to its standard error. \n",
    "(Bonus: do you know how we call this ratio?)"
   ]
  },
  {
   "cell_type": "markdown",
   "metadata": {},
   "source": [
    "Double click to type your answer here."
   ]
  },
  {
   "cell_type": "markdown",
   "metadata": {},
   "source": [
    "### 6. Discuss whether assumptions MLR1-MLR4 are reasonable or may be violated in these data. "
   ]
  },
  {
   "cell_type": "markdown",
   "metadata": {},
   "source": [
    "Double Click to type your answer here."
   ]
  }
 ],
 "metadata": {
  "kernelspec": {
   "display_name": "R",
   "language": "R",
   "name": "ir"
  },
  "language_info": {
   "codemirror_mode": "r",
   "file_extension": ".r",
   "mimetype": "text/x-r-source",
   "name": "R",
   "pygments_lexer": "r",
   "version": "4.4.1"
  }
 },
 "nbformat": 4,
 "nbformat_minor": 4
}
