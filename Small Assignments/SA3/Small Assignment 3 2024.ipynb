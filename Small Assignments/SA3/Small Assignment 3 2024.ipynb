{
 "cells": [
  {
   "cell_type": "markdown",
   "metadata": {},
   "source": [
    "# Small Assignment 3"
   ]
  },
  {
   "cell_type": "markdown",
   "metadata": {},
   "source": [
    "<em>Due October 18th by 11:59pm PT. Download your notebook with your code and responses as a Webpdf and submit to Gradescope.</em>\n",
    "\n",
    "Is voter turnout influenced by the weather?  Let pctvote be the percent of the registered voters in a given county who turn out to vote (i.e., pctvote = 80 means that 80% of registered voters in a given county turned out to vote).  \n",
    "\n",
    "Let *rain* be a **dummy** variable for whether it rains for at least one hour on election day,  *temp* be the high temperature on election day (in degrees), and *numpoll* be the number of polling places in the county.  \n",
    "\n",
    "One model to test the relationship is \n",
    "\n",
    "$\\textrm{pctvote}=\\beta_0+\\beta_1\\textrm{rain}+\\beta_2\\textrm{temp}+\\beta_3\\textrm{temp}^2+u$\n"
   ]
  },
  {
   "cell_type": "markdown",
   "metadata": {},
   "source": [
    "### 1. State Hypotheses\n",
    "\n",
    "State the null hypothesis that rain has no ceteris paribus effect on voter turnout.  State the alternative hypothesis that there is an effect."
   ]
  },
  {
   "cell_type": "markdown",
   "metadata": {},
   "source": [
    "Type your reply here"
   ]
  },
  {
   "cell_type": "markdown",
   "metadata": {},
   "source": [
    "### 2. Expected Signs\n",
    "\n",
    "What signs do you expect $\\beta_1$, $\\beta_2$ and $\\beta_3$ will have?"
   ]
  },
  {
   "cell_type": "markdown",
   "metadata": {},
   "source": [
    "Type your reply here"
   ]
  },
  {
   "cell_type": "markdown",
   "metadata": {},
   "source": [
    "### 3. Interpretations\n",
    "\n",
    "Suppose we estimate the model using data on 120 randomly selected counties in the U.S., and we deliver the estimates (with standard errors in parentheses) below. What is wrong with the statement \"one more hour of rain on election day is associated with a 3.28% decrease in voter turnout?\"\n",
    "\n",
    "$$\\hat{\\beta}_0=41.67 \\: (1.262)$$\n",
    "$$\\hat{\\beta}_1=-3.28 \\: (0.532)$$\n",
    "$$\\hat{\\beta}_2=0.01 \\: (0.017)$$\n",
    "$$\\hat{\\beta}_3=-0.0065 \\: (0.0027)$$"
   ]
  },
  {
   "cell_type": "markdown",
   "metadata": {},
   "source": [
    "Type your reply here"
   ]
  },
  {
   "cell_type": "markdown",
   "metadata": {},
   "source": [
    "### 4. Hypothesis Testing\n",
    "\n",
    "Test the hypothesis in part 1 at the 1% significance level.  Be sure to state the critical value that you use."
   ]
  },
  {
   "cell_type": "code",
   "execution_count": 1,
   "metadata": {},
   "outputs": [],
   "source": [
    "# Calculate your test statistic here"
   ]
  },
  {
   "cell_type": "markdown",
   "metadata": {},
   "source": [
    "Type your reply here"
   ]
  },
  {
   "cell_type": "markdown",
   "metadata": {},
   "source": [
    "### 5. Standardizing\n",
    "\n",
    "#### (i) Intercept\n",
    "Assume we want to standardize all variables in the regression. What happens to $\\beta_0$ ?"
   ]
  },
  {
   "cell_type": "markdown",
   "metadata": {},
   "source": [
    "Type your reply here"
   ]
  },
  {
   "cell_type": "markdown",
   "metadata": {},
   "source": [
    "#### (ii) Standardizing variables\n",
    "\n",
    "How do $\\beta_1$, $\\beta_2$ and $\\beta_3$ change once the equation gets standardized? By what factors do they each get rescaled?"
   ]
  },
  {
   "cell_type": "markdown",
   "metadata": {},
   "source": [
    "Type your reply here"
   ]
  }
 ],
 "metadata": {
  "kernelspec": {
   "display_name": "R",
   "language": "R",
   "name": "ir"
  },
  "language_info": {
   "codemirror_mode": "r",
   "file_extension": ".r",
   "mimetype": "text/x-r-source",
   "name": "R",
   "pygments_lexer": "r",
   "version": "4.4.1"
  }
 },
 "nbformat": 4,
 "nbformat_minor": 4
}
