{
 "cells": [
  {
   "cell_type": "markdown",
   "id": "72c2bced-b486-43d8-8360-82ae370cbb5e",
   "metadata": {},
   "source": [
    "# Assignment 4"
   ]
  },
  {
   "cell_type": "markdown",
   "id": "03cbca98-9f8c-4bde-9dd8-1a55f59e4aba",
   "metadata": {},
   "source": [
    "<em>Due November 15th by 11:59pm PT. Download your notebook with your code and responses as a PDF via HTML and submit to Gradescope. Remember to tag the sections in your assignment that correspond to the questions on Gradescope. </em>\n",
    "\n",
    "For this problem set, we are going to use data from: \n",
    "\n",
    "Lee, K., Miguel, E., & Wolfram, C. (2020). Experimental evidence on the economics of rural electrification. Journal of Political Economy, 128(4), 1523-1565.\n",
    "\n",
    "We already used this dataset in Small Assignment 2, but we will revisit our results now that we have a better understanding of RCTs and the potential outcome framework. We have now the following variables of interest:\n",
    "- $\\text{TakeUp}_i$, a binary variable equal to 1 if a household connects to the electricity grid and 0 otherwise\n",
    "- $\\text{Treatment}_i$, a binary equal to 1 if a household is in any of the treatment groups (described below) and 0 otherwise\n",
    "- $\\text{Price}_i$,the effective price to pay for the connection to the grid (discounted from the value of the subsidy that households received)\n",
    "- $\\text{Earnings}$, which denotes monthly earnings of the household\n",
    "- $\\text{HhSize}$, household size\n",
    "- $\\text{Female}$, a binary variable equal to 1 if the household head is female\n",
    "- $\\text{Age}$, the age of the household head\n",
    "- $\\text{Finschool}$, a binary variable equal to 1 if the household head finished secondary school\n",
    "- $\\text{Spouse}$, a binary variable equal to 1 if the household head is married\n",
    "- $\\text{NotFarmer}$, a binary variable equal to 1 if the household head is not a farmer\n",
    "- $\\text{Employed}$, a binary variable equal to 1 if the household head is employed\n",
    "- $\\text{Bank}$, a binary variable equal to 1 if the household head has a bank account\n",
    "- $\\text{OwnLand}$, the acres of land owned by the household\n",
    "\n",
    "Note that all the variables except $\\text{TakeUp}_i$, $\\text{Treatment}_i$ and $\\text{Price}_i$ are measured at baseline, i.e. before the start of the program.\n",
    "\n",
    "This model is estimated with a random sample of 2275 households in rural Kenya. Subsidies are randomly allocated as such:\n",
    "1) High subsidy: 380 unconnected households in 25 communities are offered a $\\$398 (100\\%)$ subsidy, resulting in an effective price of $\\$0$.\n",
    "2) Medium subsidy: 379 unconnected households in 25 communities are offered a $\\$227 (57\\%)$ subsidy, resulting in an effective price of $\\$171$.\n",
    "3) Low subsidy: 380 unconnected households in 25 communities are offered a $\\$114 (29\\%)$ subsidy, resulting in an effective price of $\\$284$.\n",
    "4) Control group: 1150 unconnected households in 75 communities are not offered any subsidy and face regular connection price of $\\$398$."
   ]
  },
  {
   "cell_type": "markdown",
   "id": "2c9ba485-68be-4a4e-82a9-082bd49e3e97",
   "metadata": {},
   "source": [
    "## Question 1\n",
    "\n",
    "Suppose the researchers did not conduct a randomized controlled trial. Instead they surveyed households in rural Kenya and compared the take up of electrification in places where the government decided to subsidize electrification (non-randomly) with the take up in places where farmers faced the regular connection price. Would this comparison allow you to estimate the effect of subsidies on the take up of electrification in rural areas?\n",
    "\n",
    "Explain why or why not using both words and potential outcomes notation. How would the expression for the estimated impact of subsidies on tree cover differ if cash incentives were randomized? For this part, assume that you group all subsidies into one treatment group, denoted $T_i = 1$ if the household is selected to receive a subsidy, and $T_i = 0$ if the household is allocated to the control group."
   ]
  },
  {
   "cell_type": "markdown",
   "id": "32f28211-9e40-4afa-a4cf-e3c47f55111c",
   "metadata": {},
   "source": []
  },
  {
   "cell_type": "markdown",
   "id": "4b87efed-4259-4f54-93db-86857bafa3c4",
   "metadata": {},
   "source": [
    "## Question 2\n",
    "\n",
    "a) Before running any regressions, show how you can obtain the average treatment effect (ATE) of the subsidies (still grouped) on the probability of taking up the connection to the grid. Then write down the regression you could use to estimate the ATE."
   ]
  },
  {
   "cell_type": "markdown",
   "id": "995dd239-4353-430f-80f8-5322bca6065a",
   "metadata": {},
   "source": []
  },
  {
   "cell_type": "markdown",
   "id": "951e3512-41e5-44a4-b75d-aaaf97e78872",
   "metadata": {},
   "source": [
    "b) Read in the data from `dta_LMW_PS4.dta` with the `read_dta()` function from the `haven` package. Compute the ATE as you first wrote it down. Then, estimate the regression you just wrote down and test whether the ATE is statistically significant at the 1% significance level."
   ]
  },
  {
   "cell_type": "code",
   "execution_count": null,
   "id": "9c008a8d-65c8-4f13-babf-5d436b1e7ffb",
   "metadata": {},
   "outputs": [],
   "source": []
  },
  {
   "cell_type": "markdown",
   "id": "cb5ac4c5-29ac-40fb-afce-5d25d09a9734",
   "metadata": {},
   "source": []
  },
  {
   "cell_type": "markdown",
   "id": "bab07c9f-7292-4cec-a443-1532b3f49556",
   "metadata": {},
   "source": [
    "## Question 3\n",
    "\n",
    "a) Now let's check to make sure our sample is balanced across treatment and control. For each of the household demographics variables, conduct a t-test against the null that they are on average equal between treatment and control."
   ]
  },
  {
   "cell_type": "code",
   "execution_count": null,
   "id": "b3d7024d-f4d8-4b73-a533-28b379ed946e",
   "metadata": {},
   "outputs": [],
   "source": []
  },
  {
   "cell_type": "markdown",
   "id": "73720eda-69f3-4ee6-90d5-65cb5314d3ea",
   "metadata": {},
   "source": [
    "b) Do you conclude that the sample is well-balanced? Are you surprised or concerned by any of the results? If so, what could you do to address your concerns?"
   ]
  },
  {
   "cell_type": "markdown",
   "id": "409e44ac-a3c9-4c28-8a7c-069292e50594",
   "metadata": {},
   "source": []
  },
  {
   "cell_type": "markdown",
   "id": "d3799b2e-0369-4f87-90db-7b80bd05ea32",
   "metadata": {},
   "source": [
    "## Question 4\n",
    "\n",
    "a) What happens if you control for additional covariates in this regression? What (if any) advantages are there to\r",
    "controlling for these variables? What (if any) disadvantages are there?"
   ]
  },
  {
   "cell_type": "markdown",
   "id": "7ee59838-f3c8-43a3-8738-32db7131f75c",
   "metadata": {},
   "source": []
  },
  {
   "cell_type": "markdown",
   "id": "b66325c6-60dd-4f1a-a6a4-912832d36586",
   "metadata": {},
   "source": [
    "b) Run the regression controlling for all nine of these variables. Interpret how your results change, if at all."
   ]
  },
  {
   "cell_type": "code",
   "execution_count": null,
   "id": "6bb074cf-4e1e-4f8e-a365-c82d9404d710",
   "metadata": {},
   "outputs": [],
   "source": []
  },
  {
   "cell_type": "markdown",
   "id": "c590cfc1-94df-47ce-b9f0-ec9309ca8427",
   "metadata": {},
   "source": []
  },
  {
   "cell_type": "markdown",
   "id": "cab39fcf-e677-4b22-ba26-ff17ccde6911",
   "metadata": {},
   "source": [
    "## Question 5\n",
    "\n",
    "You think that households heads with above average income might be more incentivized from the subsidy in terms of taking up the connection to the grid because they might be more able to afford it. Oppositely, you might think that richer households are less senzitive to a subsidy since they might need it less. \n",
    "\n",
    "Propose, implement and interpret a test of whether the effect of the subsidy on take up rates differed for household whose household head had monthly earnings above or below the mean monthly income prior to the treatment. Make sure to write down the regression equation with the interaction terms that you are using for your test."
   ]
  },
  {
   "cell_type": "code",
   "execution_count": null,
   "id": "616c4fc5-a231-489f-9cd7-5d6632c10269",
   "metadata": {},
   "outputs": [],
   "source": []
  },
  {
   "cell_type": "markdown",
   "id": "a3b02c3b-bdb5-46cc-a266-dd2f0b24ca82",
   "metadata": {},
   "source": []
  }
 ],
 "metadata": {
  "kernelspec": {
   "display_name": "R",
   "language": "R",
   "name": "ir"
  },
  "language_info": {
   "codemirror_mode": "r",
   "file_extension": ".r",
   "mimetype": "text/x-r-source",
   "name": "R",
   "pygments_lexer": "r",
   "version": "4.4.1"
  }
 },
 "nbformat": 4,
 "nbformat_minor": 5
}
