{
 "cells": [
  {
   "cell_type": "markdown",
   "id": "a541c619-452c-477c-9a9b-bf8970cb6e63",
   "metadata": {},
   "source": [
    "# EEP/IAS 118 - Problem Set 5\n",
    "\n",
    "Due __Friday, December 6__ at 11:59PM. \n",
    "\n",
    "Submit materials as one combined pdf on __Gradescope__. All work can be completed in this notebook. Make sure to run (`shift` + `enter`) all your answer cells before submission to make sure all your output is displayed. After exporting your file to PDF, make sure that your output cells are not being cut off so we can read all of your code and results. If your output is getting cut off, try different ways of generating a PDF (File->Download as->PDF via HTML; go to print in your browser and save as PDF; whatever has worked for you or your peers in the past).\n"
   ]
  },
  {
   "cell_type": "markdown",
   "id": "c179011d-bc5a-4215-805c-cc2c2aa07d48",
   "metadata": {},
   "source": [
    "## Exercise 1: Difference-in-Differences\n",
    "\n",
    "In this exercise, we will study the effect of traffic congestion on infant health with a simplified version of the methodology from a paper that uses the introduction of electronic toll collection (E-ZPass) to evaluate this link (reading the paper is not necessary for the assignment):\n",
    "\n",
    "Currie, J., & Walker, R. (2011). Traffic congestion and infant health: Evidence from E-ZPass. _American Economic Journal: Applied Economics, 3(1)_, 65-90.\n",
    "\n",
    "This paper seeks to provide estimates of the health effects of traffic congestion by examining the effect of a policy change that caused a sharp drop in congestion (and therefore in the level of local motor vehicle emissions) within a relatively short time frame at different sites across the northeastern United States. Engineering studies suggest that the introduction of electronic toll collection (ETC) technology, called E-ZPass in the Northeast, sharply reduced delays at toll plazas and pollution caused by idling, decelerating, and accelerating. The paper studies the effect of E-ZPass, and thusthe sharp reductions in local traffic congestion, on the health of infants born to mothers living near toll plazas. \n",
    "\n",
    "For this assignments, we will not have access to infant health data but we will look more closely at how electronic tolls affected pollution locally.\n",
    "\n",
    "We will do so by using the dataset `CW_PS5.dta`, which contains information on daily pollution readings from pollution monitors. Here is a description of the variables in the dataset:\n",
    "- `monitorID`: a unique identifier for the monitor from which the polution reading was made\n",
    "- `year_reading`: the year in which the pollution reading was made\n",
    "- `toll_id`: a unique identifier for the electronic toll closest to the monitor\n",
    "- `year_etoll`: the year the electronic toll was installed\n",
    "- `treatment`: a binary variable equal to 1 if the monitor is within 10 kms of an electronic toll and 0 otherwise\n",
    "- `post`: a binary variable equal to 1 if the reading happens after the electronic toll is installed 0 otherwise\n",
    "- `dailyMeannox`: daily mean nitrogen oxides (NOx) pollution for that reading\n",
    "- `dailyMeanpm10`: daily mean pollution from particulate matter that is 10 microns or less in diameter (PM10) in micrograms per cubic meter for that reading\n"
   ]
  },
  {
   "cell_type": "markdown",
   "id": "819304dc-932d-433e-9e01-5fe334ebdad8",
   "metadata": {},
   "source": [
    "### Question 1\n",
    "\n",
    "Load the data. Generate a summary table with two columns and two rows. There should be two columns: one for readings from monitors that are within 10 kms from an electronic toll (Treatment column) and one for readings from monitors that are further than 10 kms from an electronic toll. The table will also have two rows: one for readings that took place before the installation of a toll, one for readings that took place after. Within each cell, compute the mean pollution level from nitrogen oxides (NOx).\n",
    "\n",
    "*Hint 1: Remember that you can subset data by writing, for example `data[data$var1==0 & data$var2==7,]$var3` to select values for var3 for observations in data that meet the given criteria for var1 and var2.*\n",
    "\n",
    "*Hint 2: The commands `group_by` and `reframe` from tidyverse may be helpful for constructing your table.*\n",
    "\n",
    "*Hint 3: Consider loading necessary packages for the rest of the assignment here as well. It is good practice to load all necessary packages at the beginning of your code. Think about what packages we have needed previously in this class. You will also need the `lfe` package.*"
   ]
  },
  {
   "cell_type": "code",
   "execution_count": null,
   "id": "8a537762-b612-43e4-82d5-79e710e2949f",
   "metadata": {},
   "outputs": [],
   "source": []
  },
  {
   "cell_type": "markdown",
   "id": "c398f480-f8e5-471a-b23c-32a6f5644a89",
   "metadata": {},
   "source": [
    "### Question 2\n",
    "\n",
    "State the difference-in-differences estimator for the change in PM10 pollution in terms of the following quantities $\\bar Y_{Etoll, Pre}, \\bar Y_{Etoll, Post}, \\bar Y_{Control, Pre}, \\bar Y_{Control, Post}$, where $\\bar Y$ refers to the mean of `dailyMeanpm10` (writing a formula in R code is ok). Using the means reported in part 1, calculate a value for the estimator you just proposed."
   ]
  },
  {
   "cell_type": "code",
   "execution_count": null,
   "id": "6e62daeb-3adc-412f-9193-9771e9a20d2c",
   "metadata": {},
   "outputs": [],
   "source": []
  },
  {
   "cell_type": "markdown",
   "id": "be5fae38-dbac-43b0-bef3-6f8aa9c6eb79",
   "metadata": {},
   "source": [
    "### Question 3\n",
    "\n",
    "#### (a) Estimating Equation \n",
    "\n",
    "Write an equation that will give you the difference-in-differences estimator for the impact of electronic tolls on PM10 pollution. Pay attention to the subscript: the treatment assignment variable should vary only with geography, but the variable defining the onset of treatment should vary both in geography and time, as the tolls were built in different years.\n",
    "\n",
    "State which coefficient gives the estimated treatment effect of this policy."
   ]
  },
  {
   "cell_type": "markdown",
   "id": "620a7b1e-9819-42b4-82ff-3d4eebee5d69",
   "metadata": {},
   "source": []
  },
  {
   "cell_type": "markdown",
   "id": "d453c207-606c-46f6-aa69-414557f52951",
   "metadata": {},
   "source": [
    "#### (b) Estimation\n",
    "\n",
    "Perform the estimation and display its results."
   ]
  },
  {
   "cell_type": "code",
   "execution_count": null,
   "id": "7dd22461-0b0e-43cb-af1d-0b26cbd3f84a",
   "metadata": {},
   "outputs": [],
   "source": []
  },
  {
   "cell_type": "markdown",
   "id": "8769e1df-5d2b-4853-b082-f364a51b475e",
   "metadata": {},
   "source": [
    "#### (c) Discussion\n",
    "\n",
    "What do you conclude from the results of your estimation? How do your results compare to those from Question 2?"
   ]
  },
  {
   "cell_type": "markdown",
   "id": "6bb3011c-fc9a-4c30-9dd3-75cddf152357",
   "metadata": {},
   "source": []
  },
  {
   "cell_type": "markdown",
   "id": "a4bbf715-bef0-4d73-9f1c-ea031f198124",
   "metadata": {},
   "source": [
    "### Question 4\n",
    "\n",
    "#### (a) Identifying Assumptions\n",
    "\n",
    "What key assumption do you need to make for your regression in Question 3 to estimate the causal effect of electronic tolls on PM10 pollution?"
   ]
  },
  {
   "cell_type": "markdown",
   "id": "1200a459-617c-4afd-8646-f76c3190bde8",
   "metadata": {},
   "source": []
  },
  {
   "cell_type": "markdown",
   "id": "1092f768-db3e-41ec-ae91-09a87553334e",
   "metadata": {},
   "source": [
    "#### (b) Testing identifying assumptions\n",
    "\n",
    "What additional data might you need to provide evidence for this assumption?"
   ]
  },
  {
   "cell_type": "markdown",
   "id": "8b46382f-0ac8-4894-9f96-0d2e5b9908ba",
   "metadata": {},
   "source": []
  },
  {
   "cell_type": "markdown",
   "id": "9fe8ab80-d9f6-49fe-98fe-c01c69bc77e5",
   "metadata": {},
   "source": [
    "### Question 5\n",
    "\n",
    "Consider each of the following statements (that are not necessarily true) and discuss whether it supports, violates, or is irrelevant to assumptions necessary for the DD estimator to provide a valid causal effect in this case. If it violates the assumptions, discuss how it might bias the results and how we could address this concern.\n",
    "\n",
    "1. Some tolls are more expensive than others.\n",
    "2. A particular cold winter might have affected the way people commute in a given year.\n",
    "3. Electronic tolls have long been considered to be the installed in richer areas, but which also experienced a differential boom in the miles travelled every year compared to poorer areas.\n"
   ]
  },
  {
   "cell_type": "markdown",
   "id": "93706971-0e60-4022-8580-591a34b9a32a",
   "metadata": {},
   "source": []
  },
  {
   "cell_type": "markdown",
   "id": "4dfdcaf4-c8f5-4d81-b8fb-2a4bbd1a4382",
   "metadata": {},
   "source": [
    "## Exercise 2: Panel Data"
   ]
  },
  {
   "cell_type": "markdown",
   "id": "c2cc3f9f-28d9-4d15-a6c4-41de69b32729",
   "metadata": {},
   "source": [
    "### Question 1: Time fixed effects\n",
    "\n",
    "You think that it might be important to control for the year in your regression from Question 3 in Exercise 1.  First, generate year dummy variables for each year in which reading take place.  Next, estimate the same difference-in-differences equation but add the dummy variables you created.\n",
    "\n",
    "#### (a) Model Estimation\n",
    "Estimate the model by leaving out the time dummy for 1995 and report your results."
   ]
  },
  {
   "cell_type": "code",
   "execution_count": null,
   "id": "6c4a1744-447e-4064-9bcf-ee0ab36a4aa4",
   "metadata": {},
   "outputs": [],
   "source": []
  },
  {
   "cell_type": "markdown",
   "id": "7e8fab69-d93f-4e3e-a4af-f88e84d46eb0",
   "metadata": {},
   "source": [
    "#### (b) Economic Interpretation of $\\beta_0$ and $\\delta_{1996}$\n",
    "Write your economic interpretation of the constant parameter and of the parameter associated with your 1996 time dummy."
   ]
  },
  {
   "cell_type": "markdown",
   "id": "1353a129-1dcc-4cc4-a533-a5ea0845f8a5",
   "metadata": {},
   "source": []
  },
  {
   "cell_type": "markdown",
   "id": "d163cbfc-e8c0-4e0f-a75d-c73b59ff722c",
   "metadata": {},
   "source": [
    "#### (c) Interpretation of the treatment effect.  \n",
    "\n",
    "Interpret the treatment effect. Be sure to mention sign, size and significance and what is being held constant. What type of omitted variable bias are we getting rid of with this specification ?"
   ]
  },
  {
   "cell_type": "markdown",
   "id": "371a2158-193e-47ff-82b8-18b53b504795",
   "metadata": {},
   "source": []
  },
  {
   "cell_type": "markdown",
   "id": "6a6c5572-6e3f-4868-b99d-86dc6e5adbcc",
   "metadata": {},
   "source": [
    "#### (d) Omitted category\n",
    "\n",
    "Why did we omit the dummy variable associated to 1995?"
   ]
  },
  {
   "cell_type": "markdown",
   "id": "72346331-923c-40ef-850f-6921aaff967b",
   "metadata": {},
   "source": []
  },
  {
   "cell_type": "markdown",
   "id": "fd850d21-d628-4e9f-a80c-6322adfff869",
   "metadata": {},
   "source": [
    "### Question 2: Individual fixed effects"
   ]
  },
  {
   "cell_type": "markdown",
   "id": "b195456a-76e0-40f0-a398-e90886401f4e",
   "metadata": {},
   "source": [
    "#### (a) Estimating equation\n",
    "\n",
    "We want to add monitor fixed effects to the model estimated in Exercise 2, question 1. Write down the estimating equation in text. Remember that if any variable doesn't vary both with time and in the cross-section, it is dropped from the model."
   ]
  },
  {
   "cell_type": "markdown",
   "id": "ac7f12fa-4605-4bd5-8d7d-a004335f40f8",
   "metadata": {},
   "source": []
  },
  {
   "cell_type": "markdown",
   "id": "1b40e12d-944b-4d71-9a54-e60ec3f894b0",
   "metadata": {},
   "source": [
    "#### (b) Interpretation of fixed effects\n",
    "\n",
    "Why are we adding monitor fixed effects? In other words, what do these fixed effects control for in the regression? "
   ]
  },
  {
   "cell_type": "markdown",
   "id": "ce07d210-bf6b-4d70-b9bb-ef3af660114c",
   "metadata": {},
   "source": []
  },
  {
   "cell_type": "markdown",
   "id": "2526e193-2f7f-485a-8ccb-266c8f270d02",
   "metadata": {},
   "source": [
    "#### (b) Estimation\n",
    "\n",
    "Estimate the model and interpret the treatment effect of electronic tolls.  Be sure to mention sign, size, and significance and what is being held constant.\n",
    "*Hint: Use `felm`. Remember to use `as.factor` to turn your fixed effects variables into factors (dummy variables for each category).*"
   ]
  },
  {
   "cell_type": "code",
   "execution_count": null,
   "id": "81b3f506-0757-40b2-acc8-c5968960b96f",
   "metadata": {},
   "outputs": [],
   "source": []
  },
  {
   "cell_type": "markdown",
   "id": "2efe710e-33b8-4f06-9b51-114324ca312b",
   "metadata": {},
   "source": [
    "#### (c) Interpretation\n",
    "\n",
    "Comment specifically on how the size of the treatment effect changes from model (1) to model (2). Describe your intuition for why it changes in the way that it does, and a possible omitted variable that could explain the differences. "
   ]
  },
  {
   "cell_type": "markdown",
   "id": "4f7a1303-62a6-4521-a3bb-90c6a8f744ac",
   "metadata": {},
   "source": []
  },
  {
   "cell_type": "markdown",
   "id": "a4081397-0fbf-4f07-950a-88944c8c9a39",
   "metadata": {},
   "source": [
    "### Bonus\n",
    "\n",
    "What is the MLR 4 assumption for this last estimation to be unbiased? Do you think it is likely to hold in this case? Whatever position you take, give your argument."
   ]
  },
  {
   "cell_type": "markdown",
   "id": "2b0e7503-47ec-4c8e-9735-9a79b077464b",
   "metadata": {},
   "source": []
  }
 ],
 "metadata": {
  "kernelspec": {
   "display_name": "R",
   "language": "R",
   "name": "ir"
  },
  "language_info": {
   "codemirror_mode": "r",
   "file_extension": ".r",
   "mimetype": "text/x-r-source",
   "name": "R",
   "pygments_lexer": "r",
   "version": "4.4.1"
  }
 },
 "nbformat": 4,
 "nbformat_minor": 5
}
