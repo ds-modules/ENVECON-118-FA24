{
 "cells": [
  {
   "cell_type": "markdown",
   "metadata": {},
   "source": [
    "# Fall 2024 ENVECON/IAS 118 - Introductory Applied Econometrics Assignment 1\n",
    "## Due September 20th at 11.59pm on Gradescope\n"
   ]
  },
  {
   "cell_type": "markdown",
   "metadata": {},
   "source": [
    "# Submission Instructions \n",
    "\n",
    "Go to the file dropdown menu and select the ”Save and export notebook as” dropdown menu. In this menu make sure to select ”PDF”, \"Webpdf\" or \"PDF via Chrome\" (if that option appears instead). \n",
    "\n",
    "The figures in the problem statement may not show up in the pdf you generate. Once you have downloaded this pdf, make sure it shows all your answers and upload it to Gradescope: https://www.gradescope.com/courses/857044\n",
    "\n",
    "-----------------------------------------"
   ]
  },
  {
   "cell_type": "markdown",
   "metadata": {},
   "source": [
    "There is a large literature in macroeconomics that investigates why there exist such large differences in gross domestic product (GDP) per capita between developed and developing countries. Recently economists have focused on the role of agriculture in accounting for these differences (Restuccia et al. 2008, _Journal of Monetary Economics_). Why might agriculture be important? The poorest countries allocate 86% of their employment to this sector, as compared to only 4% in the richest countries, and it represents a large share of their GDP."
   ]
  },
  {
   "cell_type": "markdown",
   "metadata": {},
   "source": [
    "<p style=\"text-align: center;\"> Figure 1. </p>\n",
    "<img src=\"ag_graph.png\" width=\"400\" />"
   ]
  },
  {
   "cell_type": "markdown",
   "metadata": {},
   "source": [
    "<p style=\"text-align: center;\"> Figure 2. </p>\n",
    "\n",
    "<img src=\"value_added_ag_fig.png\" width=\"600\" />"
   ]
  },
  {
   "cell_type": "markdown",
   "metadata": {},
   "source": [
    "The data are from the World Bank development indicators (http://data.worldbank.org/data-catalog/world-development-indicators) for 2021, except for Erithrea and South Sudan. \n",
    "Fertilizer use is measured as the consumption of fertilizer on arable land (land used for cultivation or for pasture). It is measured in tons per hectare of arable land. GDP per capita is gross domestic product divided by midyear population, and is also measured in thousands of US $ \\$ $. \n",
    "Figure 1 above includes all 189 countries from the original dataset, for which we have GDP per capita and fertilizer use. The second figure is using the same data from the World Bank but was compiled by Our World in Data research team. \n",
    "\n",
    "We only include some (randomly) selected countries for the assignment. The values for selected countries can be found in the csv files \"countries1_fertilizer.csv\" and \"countries2_fertilizer.csv\". We will use both datasets. "
   ]
  },
  {
   "cell_type": "markdown",
   "metadata": {},
   "source": [
    "# Exercise 1. Relationship between GDP per capita and Fertilizer Use \n",
    "\n",
    "As you see in Figure 1, there appears to be some association between GDP per capita and fertilizer use in Agriculture. We will estimate a simple linear relationship on a subset of 7 countries."
   ]
  },
  {
   "cell_type": "markdown",
   "metadata": {},
   "source": [
    "(a) Use R to create a scatter plot of these observations. "
   ]
  },
  {
   "cell_type": "markdown",
   "metadata": {},
   "source": [
    "a-Step 1: Load the .csv file called countries1_fertilizer.csv. (Hint: the `read.csv()` command will likely be helpful.)"
   ]
  },
  {
   "cell_type": "code",
   "execution_count": null,
   "metadata": {},
   "outputs": [],
   "source": []
  },
  {
   "cell_type": "markdown",
   "metadata": {},
   "source": [
    "a-Step 2: Look at the data. This dataset only has 7 rows so you can just call the entire dataset. In general you want to use the `head()` command so that R does not print the entire dataset which will take way too many pages."
   ]
  },
  {
   "cell_type": "code",
   "execution_count": null,
   "metadata": {},
   "outputs": [],
   "source": []
  },
  {
   "cell_type": "markdown",
   "metadata": {},
   "source": [
    "a-Step 3: Rename the variables to \"countryname\", \"gdp_pc\", and \"fert_use\". (Hint: the `colnames()` command may be useful. Also remember that to select multiple values (such as mulitple variable names, you can use R's vector notation `c()`. For example: `c(\"a\", \"b\", \"c\")`."
   ]
  },
  {
   "cell_type": "code",
   "execution_count": null,
   "metadata": {},
   "outputs": [],
   "source": []
  },
  {
   "cell_type": "markdown",
   "metadata": {},
   "source": [
    "a-Step 4: Create a scatterplot of the data. Make sure to (1) label the axes and their\n",
    "units, and (2) title your graph. (Hint: the `plot()` command will likely come in handy. Use `help(plot)` or `?plot` to view the documentation for the function and how to include labels.)"
   ]
  },
  {
   "cell_type": "code",
   "execution_count": null,
   "metadata": {},
   "outputs": [],
   "source": []
  },
  {
   "cell_type": "markdown",
   "metadata": {},
   "source": [
    "b) Estimate the linear relationship between GDP per capita and Fertilizer consumption (\"F\") by OLS, showing all intermediate calculations.\n",
    "\n",
    "$$\\widehat{F} = \\hat{\\beta}_0 + \\hat{\\beta}_1GDP / cap$$\n",
    "\n",
    "For this exercise,  **DO NOT** use the built-in R commands like `cov()` or `lm()`. Use basic mathematical commands (`+`, `-`, `*`, `\\`, `sum()`, `^`) to reproduce all the values from table and show all the steps."
   ]
  },
  {
   "cell_type": "markdown",
   "metadata": {},
   "source": [
    "b-Step 1: Create new data objects called  __mean_gdp_pc__ and __mean_fert_use__ equal to the mean of __gdp_pc__ and __fert_use__."
   ]
  },
  {
   "cell_type": "code",
   "execution_count": null,
   "metadata": {},
   "outputs": [],
   "source": []
  },
  {
   "cell_type": "markdown",
   "metadata": {},
   "source": [
    "b-Step 2: Calculate the covariance (only using the mathematical operations specified above) between gdp_pc and fert_use: $cov(gdp_{pc},fert_{use})$. \n",
    "\n",
    "- Do this by first creating two new columns of residuals: __resgdp__, a column that subtracts the __mean_gdp_pc__ from __gdp_pc__ and __resft__ that subtracts the __mean_fert_use__ from __fert_use__. \n",
    "- Next create a column __resgdpft__ which is equal to __resft__ multiplied by __resgdp__.\n",
    "- Finally, generate a value named `covar` which is equal to the sum of __resgdpft__ divided by n-1.\n",
    "- Make sure to call `covar` at the end so we can see it printed in the output.\n",
    "\n",
    "Hint: To add new columns to your dataset, you can either use mutate as in Small Assignment 1 or you can use the following syntax: \n",
    "`dataset_name$new_var_name <- formula for the new variable`. Another option is to use cbind (as explained here: https://www.statology.org/r-add-a-column-to-dataframe/)"
   ]
  },
  {
   "cell_type": "code",
   "execution_count": null,
   "metadata": {},
   "outputs": [],
   "source": []
  },
  {
   "cell_type": "markdown",
   "metadata": {},
   "source": [
    "b-Step 3: Calculate the variance. \n",
    "- First generate a column __sqresgdp__ equal to the square of __resgdp__. \n",
    "- Generate a value named `var` which is equal to the sum of __sqresgdp__ divided by n-1. \n",
    "- Make sure to call `var` at the end so we can see it printed in the output."
   ]
  },
  {
   "cell_type": "code",
   "execution_count": null,
   "metadata": {},
   "outputs": [],
   "source": []
  },
  {
   "cell_type": "markdown",
   "metadata": {},
   "source": [
    "b-Step 4: Using the quantities generated above, generate and print `beta_1` and `beta_0`, your estimates for $\\hat{\\beta}_0$ and $\\hat{\\beta}_1$."
   ]
  },
  {
   "cell_type": "code",
   "execution_count": null,
   "metadata": {},
   "outputs": [],
   "source": []
  },
  {
   "cell_type": "markdown",
   "metadata": {},
   "source": [
    "c) Interpret the value of the estimated parameters $\\hat{\\beta}_0$ and $\\hat{\\beta}_1$"
   ]
  },
  {
   "cell_type": "markdown",
   "metadata": {},
   "source": [
    "Write your answer here"
   ]
  },
  {
   "cell_type": "markdown",
   "metadata": {},
   "source": [
    "d) In your data frame, compute the fitted value and the residual (the difference between the actual and fitted value) for each observation. Use only basic mathematical commands (`+`, `-`, `*`, `\\`, `sum()`, `^`) to do this. Create a new column named \"fitted\" and another new column called \"residuals\". Call the head() of your dataset so we can see these new columns. Verify that the residuals sum to 0 (approximately)."
   ]
  },
  {
   "cell_type": "code",
   "execution_count": null,
   "metadata": {},
   "outputs": [],
   "source": []
  },
  {
   "cell_type": "markdown",
   "metadata": {},
   "source": [
    "e) Now use the `lm()` command to run this regression automatically rather than manually as you did above and save the output as \"reg1\". \n",
    "\n",
    "Check that your estimates of $\\hat{\\beta_0}$ and $\\hat{\\beta_1}$ that you calculated manually above match the estimates using `lm()`. \n",
    "Call the `summary()` of reg1 so we can see the output."
   ]
  },
  {
   "cell_type": "code",
   "execution_count": null,
   "metadata": {},
   "outputs": [],
   "source": []
  },
  {
   "cell_type": "markdown",
   "metadata": {},
   "source": [
    "f) According to the estimated relation, what is the predicted $\\widehat{F}$ for a country with a GDP per capita of \\$18,000?\n",
    "\n"
   ]
  },
  {
   "cell_type": "code",
   "execution_count": null,
   "metadata": {},
   "outputs": [],
   "source": []
  },
  {
   "cell_type": "markdown",
   "metadata": {},
   "source": [
    "Write your answer here"
   ]
  },
  {
   "cell_type": "markdown",
   "metadata": {},
   "source": [
    "g) How much of the variation in fertilizer use for the 7 selected countries is explained by their GDP per capita?\n",
    "\n",
    "Calculate the $R^2$ by calculating the sum of squared model residuals and the sum of squared total (variation of the dependent variable). Use only basic mathematical commands (`+`, `-`, `*`, `\\`, `sum()`, `^`) to do this. Then calculate $R^2$ and make sure to call the value so we can see it printed out."
   ]
  },
  {
   "cell_type": "code",
   "execution_count": null,
   "metadata": {},
   "outputs": [],
   "source": []
  },
  {
   "cell_type": "markdown",
   "metadata": {},
   "source": [
    " "
   ]
  },
  {
   "cell_type": "markdown",
   "metadata": {},
   "source": [
    "h) Repeat exercises (a), (b), and (e) for the additional set of countries whose data is available in the file countries2_fertilizer.csv.\n",
    "*Note:* We outline how you might fill out the code in separate cells. If needed, click on \"Insert\" in the menu to add additional cells below, or simply click \"b\" on your keyboard while not in edit mode to add a cell below. Click \"d\" twice while not in edit mode to delete a cell, or go to \"Edit\"->\"Delete Cells\"."
   ]
  },
  {
   "cell_type": "code",
   "execution_count": 1,
   "metadata": {},
   "outputs": [],
   "source": [
    "# (a) Steps 1-3 - do not print the whole sample when using the head() command\n"
   ]
  },
  {
   "cell_type": "code",
   "execution_count": 2,
   "metadata": {},
   "outputs": [],
   "source": [
    "# (a) Step 4\n"
   ]
  },
  {
   "cell_type": "code",
   "execution_count": 3,
   "metadata": {},
   "outputs": [],
   "source": [
    "# (b) Steps 1-3\n"
   ]
  },
  {
   "cell_type": "code",
   "execution_count": 4,
   "metadata": {},
   "outputs": [],
   "source": [
    "# (b) Step 4\n"
   ]
  },
  {
   "cell_type": "code",
   "execution_count": 5,
   "metadata": {},
   "outputs": [],
   "source": [
    "# (e)\n"
   ]
  },
  {
   "cell_type": "markdown",
   "metadata": {},
   "source": [
    "i) How do your estimates of $\\hat{\\beta}_0$ and $\\hat{\\beta}_1$ change between the two sets of countries? Discuss and briefly explain this variation in 2-3 sentences."
   ]
  },
  {
   "cell_type": "markdown",
   "metadata": {},
   "source": [
    "Write your answer here"
   ]
  },
  {
   "cell_type": "markdown",
   "metadata": {},
   "source": [
    "j) Based on your results in the larger sample (countries2_fertilizer.csv), which countries are included and Figure 1, how do you anticipate the $\\beta_1$ coefficient will change if we ran a similar regression using all the countries? "
   ]
  },
  {
   "cell_type": "markdown",
   "metadata": {},
   "source": [
    "Write your answer here"
   ]
  },
  {
   "cell_type": "markdown",
   "metadata": {},
   "source": [
    " # Exercise 2. Regression Assumptions"
   ]
  },
  {
   "cell_type": "markdown",
   "metadata": {},
   "source": [
    "Refer to the first figure. Suppose you wanted to estimate the relationship between GDP and Fertilizer use.  \n",
    "Write down assumption SLR4.  Interpret the assumption in this context (1-3 sentences), and discuss whether you think it is likely to hold for this exercise (2-3 sentences)"
   ]
  },
  {
   "cell_type": "markdown",
   "metadata": {},
   "source": [
    "Write your answer here"
   ]
  }
 ],
 "metadata": {
  "kernelspec": {
   "display_name": "R",
   "language": "R",
   "name": "ir"
  },
  "language_info": {
   "codemirror_mode": "r",
   "file_extension": ".r",
   "mimetype": "text/x-r-source",
   "name": "R",
   "pygments_lexer": "r",
   "version": "4.4.1"
  }
 },
 "nbformat": 4,
 "nbformat_minor": 4
}
