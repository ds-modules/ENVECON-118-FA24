{
 "cells": [
  {
   "cell_type": "markdown",
   "metadata": {},
   "source": [
    "# Assignment 2"
   ]
  },
  {
   "cell_type": "markdown",
   "metadata": {},
   "source": [
    "## Exercise 1: What factors increase the demand for weather insurance?\n",
    "\n",
    "This exercise is an adapted case from the following paper (but you do not need to read the paper to complete the assignment):\n",
    "\n",
    "Cai, Jing, Alain De Janvry, and Elisabeth Sadoulet. \"Subsidy policies and insurance demand.\" American Economic Review 110.8 (2020): 2422-2453.\n",
    "\n",
    "Households face different types of weather risks that can generate large fluctuations in income and consumption. To shield individuals from risks, many governments exercise great efforts on developing and marketing formal insurance products. However, in both developing and developed countries, the value placed by individuals on insurance is usually surprisingly low, and initiatives to provide information, subsidies, and to increase trust have had limited success (Cole et al. 2013, Banerjee et al. 2019). Many countries have given up on trying to sell insurance and moved to make insurance mandatory.\n",
    "\n",
    "In this assignment we will study the demand for a weather insurance product for rice producers in China. Rice is the most important food crop in China, with nearly 50 percent of the country’s farmers engaged in its production. In order to maintain food security and shield farmers from negative weather shocks, in 2009 the Chinese government asked the People’s Insurance Company of China (PICC) to design and offer the first rice production insurance policy to rural households in 31 pilot counties.5 The program was expanded to 62 counties in 2010 and to 99 in 2011. The experiment we are studying in this assignment was conducted in 2010 and 2011 in randomly selected villages included in the 2010 expansion in Jiangxi province, one of China’s major rice-producing areas.\n",
    "\n",
    "The product in our study is an area-yield index weather insurance that covers natural disasters, including heavy rains, floods, windstorms, extremely high or low temperatures, and droughts. If any of these disasters occurs and leads to a 30 percent or more average loss in yield in a given area, farmers in that area are eligible to receive payouts from the insurance company. These areas are typically defined as fields that include the plots of 5 to 10 farmers. "
   ]
  },
  {
   "cell_type": "markdown",
   "metadata": {},
   "source": [
    "## Data Description\n",
    "The data for this exercise comes from households in 134 villages in the Jiangxi province, which is considered a representative sample of rice producers in Jiangxi. Households were surveyed and each observation in the dataset, named data_cai_sadoulet_dejanvry.dta, corresponds to a household in that sample.\n",
    "\n",
    "The variables included in the `data_CSD.dta` that are required for this question are:"
   ]
  },
  {
   "cell_type": "markdown",
   "metadata": {},
   "source": [
    "• `takeup2011` : dummy equal to 1 if the household decided to take up the insurance product in 2011\n",
    "\n",
    "• `area`: area of rice production in mou (mou, Chinese unit of land measurement that varies with location but is commonly 806.65 square yards (0.165 acre, or 666.5 square metres).\n",
    "\n",
    "• `age`: age of household head\n",
    "\n",
    "• `agpop`: household size (number of people living in the same household)\n",
    "\n",
    "• `male`: Gender of household head (1 if male, 0 if female)\n",
    "\n",
    "• `literacy`: dummy equal to 1 if the household head is literate, 0 otherwise"
   ]
  },
  {
   "cell_type": "markdown",
   "metadata": {},
   "source": [
    "## Question 1 : Descriptive Statistics"
   ]
  },
  {
   "cell_type": "markdown",
   "metadata": {},
   "source": [
    "Load the dataset `data_CSD.dta`. Notice that this is a `.dta` file so you will need to use the `haven` package. Use the `head()` function to have a look at the dataset."
   ]
  },
  {
   "cell_type": "code",
   "execution_count": null,
   "metadata": {
    "scrolled": true
   },
   "outputs": [],
   "source": []
  },
  {
   "cell_type": "markdown",
   "metadata": {},
   "source": [
    "### a) Descriptive statistics\n",
    "\n",
    "#### i) Demographic characterisics\n",
    "\n",
    "How many households are in your data set? How many respondents are male and female? What is the mean age among the household heads in the sample? What is the mean number of members in the households in your sample?\n",
    "Note there are some missing values in the household size variable. What argument do you have to add to `mean()` to get around this?\n",
    "\n",
    "Hint: check for the `mean()` syntax in this website: https://www.rdocumentation.org/packages/base/versions/3.6.2/topics/mean ."
   ]
  },
  {
   "cell_type": "code",
   "execution_count": 1,
   "metadata": {},
   "outputs": [],
   "source": [
    "# Type your code here"
   ]
  },
  {
   "cell_type": "markdown",
   "metadata": {},
   "source": [
    "Type your reply here"
   ]
  },
  {
   "cell_type": "markdown",
   "metadata": {},
   "source": [
    "#### ii) Measures of dispersion\n",
    "Compute the standard deviation and standard errors of the age of household head and the household size variables.\n",
    "\n",
    "You can use canned functions for the standard deviations."
   ]
  },
  {
   "cell_type": "code",
   "execution_count": 2,
   "metadata": {},
   "outputs": [],
   "source": [
    "# Type your code here"
   ]
  },
  {
   "cell_type": "markdown",
   "metadata": {},
   "source": [
    "### b) Histogram for Area of rice production in acres\n",
    "\n",
    "Construct a variable `area_ac` equal to area of rice production per person in acres. \n",
    "\n",
    "Plot a histogram (Hint: use the `hist()` command) of this constructed variable, with 100 bins."
   ]
  },
  {
   "cell_type": "code",
   "execution_count": 4,
   "metadata": {},
   "outputs": [],
   "source": [
    "# Type your code here"
   ]
  },
  {
   "cell_type": "markdown",
   "metadata": {},
   "source": [
    "### c) Comparisons for area for rice production by gender of household head\n",
    "\n",
    "#### i) Means\n",
    "\n",
    "Calculate the mean of area for rice production (in acres) between female- and male-headed households and their standard errors. Compare the two means, do they seem substantially different?"
   ]
  },
  {
   "cell_type": "code",
   "execution_count": 5,
   "metadata": {},
   "outputs": [],
   "source": [
    "# Type your code here"
   ]
  },
  {
   "cell_type": "markdown",
   "metadata": {},
   "source": [
    "Type your reply here"
   ]
  },
  {
   "cell_type": "markdown",
   "metadata": {},
   "source": [
    "#### ii) Test Statistics\n",
    "\n",
    "Create a test statistic for the the difference between male- and female headed household for the area for rice production (in acres). Use a two-tail test. Is the difference statistically significant at the 0.95 confidence level? \n"
   ]
  },
  {
   "cell_type": "code",
   "execution_count": 6,
   "metadata": {},
   "outputs": [],
   "source": [
    "# Type your code here"
   ]
  },
  {
   "cell_type": "markdown",
   "metadata": {},
   "source": [
    "Type your reply here"
   ]
  },
  {
   "cell_type": "markdown",
   "metadata": {},
   "source": [
    "## Question 2: Effect of literacy on the demand for weather insurance products"
   ]
  },
  {
   "cell_type": "markdown",
   "metadata": {},
   "source": [
    "In its first year, the experiment allocated different subsidies to households in 134 randonly selected villages of the province. A subsidy of 70% was offered to all households in the villages. Then, 2 days after this initial sale, households from 62 randomly selected villages were offered the insurance product for free.\n",
    "\n",
    "In this part of the exercise, we will focus on year 1 of the experiment and estimate the effect of literacy on the takeup of the insurance product. Consider the two following models (with area measured in acres):\n",
    "\n",
    "Model (1): $TakeUp = \\beta_0 + \\beta_1 $ Literacy $ + \\beta_2 $ Area $ + u $\n",
    "\n",
    "Model (2):  $TakeUp = \\beta_0 + \\beta_1 $ Literacy $ + \\beta_2 $ Area $ + \\beta_3 $ HH size $ + u $"
   ]
  },
  {
   "cell_type": "markdown",
   "metadata": {},
   "source": [
    "### a) Estimation\n",
    "\n",
    "Estimate equations (1) and (2) with `lm()`."
   ]
  },
  {
   "cell_type": "code",
   "execution_count": 7,
   "metadata": {},
   "outputs": [],
   "source": [
    "# Type your code here"
   ]
  },
  {
   "cell_type": "markdown",
   "metadata": {},
   "source": [
    "### b) Interpretation\n",
    "\n",
    "Interpret each of the estimated parameters of equation (2) - remember to include significance."
   ]
  },
  {
   "cell_type": "markdown",
   "metadata": {},
   "source": [
    "Type your reply here"
   ]
  },
  {
   "cell_type": "markdown",
   "metadata": {},
   "source": [
    "### c) Omitted Variable Bias\n",
    "\n",
    "How did your estimate of $\\hat{\\beta}_1$ change between equation (1) and equation (2)? Without performing any calculations, what information does this give you about the correlation between the literacy of household heads and household size? (Explain your reasoning in no more than 4 sentences.)"
   ]
  },
  {
   "cell_type": "markdown",
   "metadata": {},
   "source": [
    "Type your reply here"
   ]
  },
  {
   "cell_type": "markdown",
   "metadata": {},
   "source": [
    "### d) Prediction\n",
    "\n",
    "Predict the expected probability of a household taking up the insurance product if its household head is literate, it produces rice on 5 acres and has 3 members using your estimates from equation (2)."
   ]
  },
  {
   "cell_type": "code",
   "execution_count": 8,
   "metadata": {},
   "outputs": [],
   "source": [
    "# Type your code here"
   ]
  },
  {
   "cell_type": "markdown",
   "metadata": {},
   "source": [
    "Type your reply here"
   ]
  },
  {
   "cell_type": "markdown",
   "metadata": {},
   "source": [
    "## Question 3: Price and Payouts"
   ]
  },
  {
   "cell_type": "markdown",
   "metadata": {},
   "source": [
    "We will now investigate how prices of the insurance product affect its take-up in the second year of the experiment. In that year, subsidies ranging from 40% to 90% of the market price of the insurance products were randomly assigned to households in the village.\n",
    "\n",
    "The two new variables you will need for this question are:\n",
    "\n",
    "- `price_final`: the price in RMB/mou offered to the household for the insurance product in year 2.\n",
    "- `payout_2010`: a dummy variable equal to 1 if the household received an insurance payout in year 1."
   ]
  },
  {
   "cell_type": "markdown",
   "metadata": {},
   "source": [
    "### (a) Define estimating Equation\n",
    "\n",
    "Write an equation you could estimate that would account for price and payouts in addition to the variables whose effects we were estimating in Question 2. Importantly, you want to understand the impact of a 1% increase in prices rather than a 1 unit increase in Chinese Yuan. \n",
    "\n",
    "Your want to test two hypotheses:\n",
    "1) The price of the insurance product does not affect the demand for the insurance product.\n",
    "2) A 50% reduction in the price of the product has the same effect on the likelihood of purchasing the product as receiving a payout the year before.\n"
   ]
  },
  {
   "cell_type": "markdown",
   "metadata": {},
   "source": [
    "Type your reply here"
   ]
  },
  {
   "cell_type": "markdown",
   "metadata": {},
   "source": [
    "### (b) Summary stats\n",
    "\n",
    "Look at the summary statistics of your price and payout variables (the table() or summary() variables could come in handy). What percentage of households receive a payout?\n"
   ]
  },
  {
   "cell_type": "code",
   "execution_count": 9,
   "metadata": {},
   "outputs": [],
   "source": [
    "# Type your code here"
   ]
  },
  {
   "cell_type": "markdown",
   "metadata": {},
   "source": [
    "Type your reply here"
   ]
  },
  {
   "cell_type": "markdown",
   "metadata": {},
   "source": [
    "### (c) Hypothesis 1\n",
    "\n",
    "Estimate the equation in part (a). What can you conclude about your first hypothesis? \n",
    "\n",
    "Note that you might transform your price variable prior to estimating the model."
   ]
  },
  {
   "cell_type": "code",
   "execution_count": 10,
   "metadata": {},
   "outputs": [],
   "source": [
    "# Type your code here"
   ]
  },
  {
   "cell_type": "markdown",
   "metadata": {},
   "source": [
    "Type your reply here"
   ]
  },
  {
   "cell_type": "markdown",
   "metadata": {},
   "source": [
    "### (d) Hypothesis 2\n"
   ]
  },
  {
   "cell_type": "markdown",
   "metadata": {},
   "source": [
    "#### (i) 50% increase in the price\n",
    "\n",
    "What is the change in likelihood to purchase the product associated with a 50% decrease in the price of the product ? "
   ]
  },
  {
   "cell_type": "code",
   "execution_count": 11,
   "metadata": {},
   "outputs": [],
   "source": [
    "# Type your code here"
   ]
  },
  {
   "cell_type": "markdown",
   "metadata": {},
   "source": [
    "Type your reply here"
   ]
  },
  {
   "cell_type": "markdown",
   "metadata": {},
   "source": [
    "#### (ii) Receiving a payout in year 1\n",
    "\n",
    "And what is the increase in the likelihood to purchase the product associated with receiving the payout in year 1?"
   ]
  },
  {
   "cell_type": "code",
   "execution_count": 12,
   "metadata": {},
   "outputs": [],
   "source": [
    "# Type your code here"
   ]
  },
  {
   "cell_type": "markdown",
   "metadata": {},
   "source": [
    "Type your reply here"
   ]
  },
  {
   "cell_type": "markdown",
   "metadata": {},
   "source": [
    "#### (iii) Compare effects\n",
    "\n",
    "Compare effects found in part (d.i) and (d.ii) with a statistical test."
   ]
  },
  {
   "cell_type": "code",
   "execution_count": 13,
   "metadata": {},
   "outputs": [],
   "source": [
    "# Type your code here"
   ]
  },
  {
   "cell_type": "markdown",
   "metadata": {},
   "source": [
    "Type your reply here"
   ]
  }
 ],
 "metadata": {
  "kernelspec": {
   "display_name": "R",
   "language": "R",
   "name": "ir"
  },
  "language_info": {
   "codemirror_mode": "r",
   "file_extension": ".r",
   "mimetype": "text/x-r-source",
   "name": "R",
   "pygments_lexer": "r",
   "version": "4.4.1"
  }
 },
 "nbformat": 4,
 "nbformat_minor": 4
}
