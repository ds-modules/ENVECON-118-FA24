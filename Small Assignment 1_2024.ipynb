{
 "cells": [
  {
   "cell_type": "markdown",
   "metadata": {},
   "source": [
    "# Small Assignment 1\n",
    "(due September 13th 2024, 11:59 PM PDT on Gradescope)"
   ]
  },
  {
   "cell_type": "markdown",
   "metadata": {},
   "source": [
    "This assignment will help you get familiar with using **R** to manipulate data. We have included comments in the code cells to help outline the required steps. We will not provide such comments in the future, but we encourage you to develop a habit of annotating your code in a similar way, so that another reader (perhaps yourself in the future!) can easily follow what you are doing.\n",
    "\n",
    "If you have questions about using particular functions in **R**, remember that entering `?function` or `help(function)` will pull up a window outlining the syntax for the function and how the arguments should be entered.\n",
    "\n",
    "Please submit this assignment via Gradescope. To do so you will need to generate a single pdf\n",
    "file of your answers. For small assignments, the pdf can be composed of photo images and/or\n",
    "screenshots if you are not using Jupyter. Please see the [submission instructions](https://gradescope-static-assets.s3-us-west-2.amazonaws.com/help/submitting_hw_guide.pdf) for help uploading to Gradescope. "
   ]
  },
  {
   "cell_type": "markdown",
   "metadata": {},
   "source": [
    "## Part 1. \n",
    "We are going to explore the nuts and bolts of regressions by doing one by hand. *Please do not use canned functions to calculate sample variances and covariances and to estimate regression coefficients.*\n",
    "\n",
    "Start by reading in the `energy.csv` file."
   ]
  },
  {
   "cell_type": "code",
   "execution_count": 4,
   "metadata": {},
   "outputs": [
    {
     "data": {
      "text/html": [
       "<table class=\"dataframe\">\n",
       "<caption>A data.frame: 6 × 5</caption>\n",
       "<thead>\n",
       "\t<tr><th></th><th scope=col>country_name</th><th scope=col>country_code</th><th scope=col>energy_use</th><th scope=col>pop</th><th scope=col>gdp</th></tr>\n",
       "\t<tr><th></th><th scope=col>&lt;chr&gt;</th><th scope=col>&lt;chr&gt;</th><th scope=col>&lt;dbl&gt;</th><th scope=col>&lt;int&gt;</th><th scope=col>&lt;dbl&gt;</th></tr>\n",
       "</thead>\n",
       "<tbody>\n",
       "\t<tr><th scope=row>1</th><td>Albania  </td><td>ALB</td><td> 8480.065</td><td> 2837743</td><td>1.891638e+10</td></tr>\n",
       "\t<tr><th scope=row>2</th><td>Algeria  </td><td>DZA</td><td>12958.346</td><td>43851043</td><td>2.255600e+11</td></tr>\n",
       "\t<tr><th scope=row>3</th><td>Angola   </td><td>AGO</td><td> 6058.792</td><td>32866268</td><td>1.044000e+11</td></tr>\n",
       "\t<tr><th scope=row>4</th><td>Argentina</td><td>ARG</td><td>22430.227</td><td>45376763</td><td>6.311330e+11</td></tr>\n",
       "\t<tr><th scope=row>5</th><td>Australia</td><td>AUS</td><td>67373.945</td><td>25687041</td><td>1.692960e+12</td></tr>\n",
       "\t<tr><th scope=row>6</th><td>Austria  </td><td>AUT</td><td>47115.410</td><td> 8917205</td><td>4.709420e+11</td></tr>\n",
       "</tbody>\n",
       "</table>\n"
      ],
      "text/latex": [
       "A data.frame: 6 × 5\n",
       "\\begin{tabular}{r|lllll}\n",
       "  & country\\_name & country\\_code & energy\\_use & pop & gdp\\\\\n",
       "  & <chr> & <chr> & <dbl> & <int> & <dbl>\\\\\n",
       "\\hline\n",
       "\t1 & Albania   & ALB &  8480.065 &  2837743 & 1.891638e+10\\\\\n",
       "\t2 & Algeria   & DZA & 12958.346 & 43851043 & 2.255600e+11\\\\\n",
       "\t3 & Angola    & AGO &  6058.792 & 32866268 & 1.044000e+11\\\\\n",
       "\t4 & Argentina & ARG & 22430.227 & 45376763 & 6.311330e+11\\\\\n",
       "\t5 & Australia & AUS & 67373.945 & 25687041 & 1.692960e+12\\\\\n",
       "\t6 & Austria   & AUT & 47115.410 &  8917205 & 4.709420e+11\\\\\n",
       "\\end{tabular}\n"
      ],
      "text/markdown": [
       "\n",
       "A data.frame: 6 × 5\n",
       "\n",
       "| <!--/--> | country_name &lt;chr&gt; | country_code &lt;chr&gt; | energy_use &lt;dbl&gt; | pop &lt;int&gt; | gdp &lt;dbl&gt; |\n",
       "|---|---|---|---|---|---|\n",
       "| 1 | Albania   | ALB |  8480.065 |  2837743 | 1.891638e+10 |\n",
       "| 2 | Algeria   | DZA | 12958.346 | 43851043 | 2.255600e+11 |\n",
       "| 3 | Angola    | AGO |  6058.792 | 32866268 | 1.044000e+11 |\n",
       "| 4 | Argentina | ARG | 22430.227 | 45376763 | 6.311330e+11 |\n",
       "| 5 | Australia | AUS | 67373.945 | 25687041 | 1.692960e+12 |\n",
       "| 6 | Austria   | AUT | 47115.410 |  8917205 | 4.709420e+11 |\n",
       "\n"
      ],
      "text/plain": [
       "  country_name country_code energy_use pop      gdp         \n",
       "1 Albania      ALB           8480.065   2837743 1.891638e+10\n",
       "2 Algeria      DZA          12958.346  43851043 2.255600e+11\n",
       "3 Angola       AGO           6058.792  32866268 1.044000e+11\n",
       "4 Argentina    ARG          22430.227  45376763 6.311330e+11\n",
       "5 Australia    AUS          67373.945  25687041 1.692960e+12\n",
       "6 Austria      AUT          47115.410   8917205 4.709420e+11"
      ]
     },
     "metadata": {},
     "output_type": "display_data"
    }
   ],
   "source": [
    "# Read in the data and save it as an object\n",
    "energy <- read.csv(\"energy2024.csv\")\n",
    "head(energy)"
   ]
  },
  {
   "cell_type": "markdown",
   "metadata": {},
   "source": [
    "View the structure of the dataset using the `head` function."
   ]
  },
  {
   "cell_type": "code",
   "execution_count": null,
   "metadata": {},
   "outputs": [],
   "source": [
    "# View first few lines of data\n"
   ]
  },
  {
   "cell_type": "markdown",
   "metadata": {},
   "source": [
    "**(a)** Create two new variables, GDP (\\$) per capita and energy use (KT oil equivalent) per capita.\n",
    "\n",
    "*Hint: Use the* `mutate` *function (you will have to load* `tidyverse` *first).* \n"
   ]
  },
  {
   "cell_type": "code",
   "execution_count": null,
   "metadata": {},
   "outputs": [],
   "source": [
    "# Load tidyverse\n",
    "\n",
    "# Generate per capita variables\n"
   ]
  },
  {
   "cell_type": "markdown",
   "metadata": {},
   "source": [
    "**(b)** Generate a scatter plot comparing energy use per capita (on the y-axis) to GDP per capita (on the x-axis) for the countries in your sample. *Hint: Use the* `plot` *function.*"
   ]
  },
  {
   "cell_type": "code",
   "execution_count": null,
   "metadata": {},
   "outputs": [],
   "source": [
    "# Simple scatterplot\n"
   ]
  },
  {
   "cell_type": "markdown",
   "metadata": {},
   "source": [
    "**(c)** Calculate the sample mean of GDP per capita, sample mean of energy per capita,\n",
    "covariance of GDP per capita and energy use per capita, and variance of GDP per\n",
    "capita.\n",
    "\n",
    "*Hint: The functions `sum()` and `nrow()` will be useful. Create a vector by writing `c(object1, object2, object3,...)`."
   ]
  },
  {
   "cell_type": "code",
   "execution_count": null,
   "metadata": {},
   "outputs": [],
   "source": [
    "# Save means as new objects\n",
    "\n",
    "# Create new columns with residuals (x_i-\\bar{x}) and (y_i-\\bar{y}) as part of your data \n",
    "\n",
    "# Create new columns with the elements you need to calculate the covariance and variance, based on the residuals\n",
    "\n",
    "# Save the covariance and variance as new objects by summing over the relevant variables and dividing by n-1. \n",
    "\n",
    "# Display results, using a vector with four elements\n"
   ]
  },
  {
   "cell_type": "markdown",
   "metadata": {},
   "source": [
    "**(d)** Suppose $y_i$ is energy use per capita in country $i$ and $x_i$ is GDP per capita in country $i$. Suppose your statistical model is $$y_i=\\beta_0+\\beta_1x_i+u_i.$$ Estimate $\\hat{\\beta}_0$ and $\\hat{\\beta}_1$ using your results in part **(c)**. "
   ]
  },
  {
   "cell_type": "code",
   "execution_count": null,
   "metadata": {},
   "outputs": [],
   "source": [
    "# Solve for \\hat\\beta_1 and \\hat\\beta_0 and save these objects\n",
    "\n",
    "# Display results as a vector\n"
   ]
  },
  {
   "cell_type": "markdown",
   "metadata": {},
   "source": [
    "**(e)** Plot a line which indicates the predictions from your estimated model, $$\\hat{y}_i=\\hat{\\beta}_0+\\hat{\\beta}_1x_i.$$ *Hint: use the* `curve` and `points` *functions.*"
   ]
  },
  {
   "cell_type": "code",
   "execution_count": null,
   "metadata": {},
   "outputs": [],
   "source": [
    "# Plot the line\n",
    "\n",
    "# Overlay with data points\n"
   ]
  },
  {
   "cell_type": "markdown",
   "metadata": {},
   "source": [
    "**(f)** Interpret your estimates $\\hat{\\beta}_0$ and $\\hat{\\beta}_1$."
   ]
  },
  {
   "cell_type": "markdown",
   "metadata": {},
   "source": [
    " "
   ]
  },
  {
   "cell_type": "markdown",
   "metadata": {},
   "source": [
    "## Part 2.\n",
    "Suppose you estimate a weekly wage equation which suggests: \n",
    "\n",
    "$$ \\log(wage_i)= 3.02 + .75*Ed_i+u_i$$ \n",
    "\n",
    "where $Ed_i$ is the number of years of education completed by person $i$. \n",
    "\n",
    "**(a)** Predict the wage for a person with 16 years of education (that is a person who completes 4-year college)."
   ]
  },
  {
   "cell_type": "code",
   "execution_count": null,
   "metadata": {},
   "outputs": [],
   "source": []
  },
  {
   "cell_type": "markdown",
   "metadata": {},
   "source": [
    "**(b)** Interpret your estimated $\\hat{\\beta_1}=$0.75."
   ]
  },
  {
   "cell_type": "markdown",
   "metadata": {},
   "source": []
  },
  {
   "cell_type": "markdown",
   "metadata": {},
   "source": [
    " "
   ]
  }
 ],
 "metadata": {
  "kernelspec": {
   "display_name": "R",
   "language": "R",
   "name": "ir"
  },
  "language_info": {
   "codemirror_mode": "r",
   "file_extension": ".r",
   "mimetype": "text/x-r-source",
   "name": "R",
   "pygments_lexer": "r",
   "version": "4.4.1"
  }
 },
 "nbformat": 4,
 "nbformat_minor": 4
}
